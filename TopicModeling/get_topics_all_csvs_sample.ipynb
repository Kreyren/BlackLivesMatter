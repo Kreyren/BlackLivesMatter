{
 "cells": [
  {
   "cell_type": "markdown",
   "metadata": {},
   "source": [
    "# Black Lives Matter: Topic Modeling"
   ]
  },
  {
   "cell_type": "markdown",
   "metadata": {},
   "source": [
    "This analysis was inspired by the [_Topic Modeling with Gensim (Python)_ post](https://www.machinelearningplus.com/nlp/topic-modeling-gensim-python/), which can be found on the Machine Learning Plus blog."
   ]
  },
  {
   "cell_type": "markdown",
   "metadata": {},
   "source": [
    "## Import libraries"
   ]
  },
  {
   "cell_type": "code",
   "execution_count": 1,
   "metadata": {},
   "outputs": [
    {
     "name": "stderr",
     "output_type": "stream",
     "text": [
      "[nltk_data] Downloading package stopwords to\n",
      "[nltk_data]     /Users/opardo/nltk_data...\n",
      "[nltk_data]   Package stopwords is already up-to-date!\n"
     ]
    },
    {
     "data": {
      "text/plain": [
       "True"
      ]
     },
     "execution_count": 1,
     "metadata": {},
     "output_type": "execute_result"
    }
   ],
   "source": [
    "import nltk\n",
    "nltk.download('stopwords')"
   ]
  },
  {
   "cell_type": "code",
   "execution_count": 2,
   "metadata": {},
   "outputs": [],
   "source": [
    "import re\n",
    "import numpy as np\n",
    "import pandas as pd\n",
    "from pprint import pprint\n",
    "import random"
   ]
  },
  {
   "cell_type": "code",
   "execution_count": 3,
   "metadata": {},
   "outputs": [],
   "source": [
    "# Gensim\n",
    "import gensim\n",
    "import gensim.corpora as corpora\n",
    "from gensim.utils import simple_preprocess\n",
    "from gensim.models import CoherenceModel"
   ]
  },
  {
   "cell_type": "code",
   "execution_count": 4,
   "metadata": {},
   "outputs": [],
   "source": [
    "# spacy for lemmatization\n",
    "import spacy"
   ]
  },
  {
   "cell_type": "code",
   "execution_count": 5,
   "metadata": {},
   "outputs": [],
   "source": [
    "# Plotting tools\n",
    "import matplotlib.pyplot as plt\n",
    "%matplotlib inline"
   ]
  },
  {
   "cell_type": "code",
   "execution_count": 6,
   "metadata": {},
   "outputs": [],
   "source": [
    "import logging\n",
    "logging.basicConfig(format='%(asctime)s : %(levelname)s : %(message)s', level=logging.ERROR)"
   ]
  },
  {
   "cell_type": "code",
   "execution_count": 7,
   "metadata": {},
   "outputs": [],
   "source": [
    "import warnings\n",
    "warnings.filterwarnings(\"ignore\",category=DeprecationWarning)"
   ]
  },
  {
   "cell_type": "code",
   "execution_count": 8,
   "metadata": {},
   "outputs": [],
   "source": [
    "# NLTK Stop words\n",
    "from nltk.corpus import stopwords\n",
    "stop_words = stopwords.words('english')\n",
    "stop_words.extend(['from', 'subject', 're', 'edu', 'use', 'amp'])"
   ]
  },
  {
   "cell_type": "markdown",
   "metadata": {},
   "source": [
    "## Import data"
   ]
  },
  {
   "cell_type": "code",
   "execution_count": 9,
   "metadata": {},
   "outputs": [
    {
     "name": "stdout",
     "output_type": "stream",
     "text": [
      "1\n"
     ]
    },
    {
     "name": "stderr",
     "output_type": "stream",
     "text": [
      "/Users/opardo/anaconda3/envs/CAP/lib/python3.7/site-packages/IPython/core/interactiveshell.py:3058: DtypeWarning: Columns (3,5,7,8,9,15,16,18,19,22,23,24,25,26) have mixed types. Specify dtype option on import or set low_memory=False.\n",
      "  interactivity=interactivity, compiler=compiler, result=result)\n"
     ]
    },
    {
     "name": "stdout",
     "output_type": "stream",
     "text": [
      "2\n"
     ]
    },
    {
     "name": "stderr",
     "output_type": "stream",
     "text": [
      "/Users/opardo/anaconda3/envs/CAP/lib/python3.7/site-packages/IPython/core/interactiveshell.py:3058: DtypeWarning: Columns (2,3,5,8,9,13,14,16,17,19,20,23,24,25,26,27) have mixed types. Specify dtype option on import or set low_memory=False.\n",
      "  interactivity=interactivity, compiler=compiler, result=result)\n"
     ]
    },
    {
     "name": "stdout",
     "output_type": "stream",
     "text": [
      "3\n"
     ]
    },
    {
     "name": "stderr",
     "output_type": "stream",
     "text": [
      "/Users/opardo/anaconda3/envs/CAP/lib/python3.7/site-packages/IPython/core/interactiveshell.py:3058: DtypeWarning: Columns (0,1,2,3,4,5,6,8,9,10,11,12,13,14,16,17,18,19,20,22,23,24,25,26,27,28,29,30,31,32,33,35) have mixed types. Specify dtype option on import or set low_memory=False.\n",
      "  interactivity=interactivity, compiler=compiler, result=result)\n"
     ]
    },
    {
     "name": "stdout",
     "output_type": "stream",
     "text": [
      "4\n"
     ]
    },
    {
     "name": "stderr",
     "output_type": "stream",
     "text": [
      "/Users/opardo/anaconda3/envs/CAP/lib/python3.7/site-packages/IPython/core/interactiveshell.py:3058: DtypeWarning: Columns (0,1,2,3,4,5,6,8,9,10,11,12,13,16,17,18,19,20,21,22,24,25,26,27,28,29,30,31,32,33,34,35,37) have mixed types. Specify dtype option on import or set low_memory=False.\n",
      "  interactivity=interactivity, compiler=compiler, result=result)\n"
     ]
    },
    {
     "name": "stdout",
     "output_type": "stream",
     "text": [
      "5\n"
     ]
    },
    {
     "name": "stderr",
     "output_type": "stream",
     "text": [
      "/Users/opardo/anaconda3/envs/CAP/lib/python3.7/site-packages/IPython/core/interactiveshell.py:3058: DtypeWarning: Columns (0,1,2,3,4,5,6,7,8,9,10,11,12,13,16,17,18,19,20,21,22,24,25,26,27,28,29,30,31,32,33,34,35,37) have mixed types. Specify dtype option on import or set low_memory=False.\n",
      "  interactivity=interactivity, compiler=compiler, result=result)\n"
     ]
    },
    {
     "name": "stdout",
     "output_type": "stream",
     "text": [
      "6\n",
      "7\n",
      "8\n"
     ]
    },
    {
     "name": "stderr",
     "output_type": "stream",
     "text": [
      "/Users/opardo/anaconda3/envs/CAP/lib/python3.7/site-packages/IPython/core/interactiveshell.py:3058: DtypeWarning: Columns (0,1,2,3,4,5,6,7,8,9,10,11,12,13,14,15,16,17,18,19,20,21,23,24,25,26,27,28,29,30,31,32,33,34,36) have mixed types. Specify dtype option on import or set low_memory=False.\n",
      "  interactivity=interactivity, compiler=compiler, result=result)\n"
     ]
    },
    {
     "name": "stdout",
     "output_type": "stream",
     "text": [
      "9\n"
     ]
    }
   ],
   "source": [
    "print(1)\n",
    "df = pd.read_csv('Data/tw1.csv')\n",
    "data = df['full_text'].values.tolist()\n",
    "\n",
    "for i in range(2,10):\n",
    "    print(i)\n",
    "    df = pd.read_csv('Data/tw%d.csv' % (i))\n",
    "    data = data + df['full_text'].values.tolist()"
   ]
  },
  {
   "cell_type": "code",
   "execution_count": 10,
   "metadata": {},
   "outputs": [],
   "source": [
    "sample_size = 100000\n",
    "random.seed(2019)\n",
    "data = [\n",
    "    data[i] for i in sorted(random.sample(range(len(data)), sample_size))\n",
    "]"
   ]
  },
  {
   "cell_type": "markdown",
   "metadata": {},
   "source": [
    "## Pre-processing tweets"
   ]
  },
  {
   "cell_type": "markdown",
   "metadata": {},
   "source": [
    "### Unique tweets"
   ]
  },
  {
   "cell_type": "markdown",
   "metadata": {},
   "source": [
    "Many tweets are repeated or empty. The reason behind can be that they are written by bots, and spread telling the same message. "
   ]
  },
  {
   "cell_type": "code",
   "execution_count": 11,
   "metadata": {},
   "outputs": [
    {
     "name": "stdout",
     "output_type": "stream",
     "text": [
      "The total number of tweets is 100000.\n"
     ]
    }
   ],
   "source": [
    "original_num = len(data)\n",
    "print('The total number of tweets is %d.' % (original_num))"
   ]
  },
  {
   "cell_type": "code",
   "execution_count": 12,
   "metadata": {},
   "outputs": [
    {
     "name": "stdout",
     "output_type": "stream",
     "text": [
      "However, the number of unique tweets is 47116. That means 47 out of 100 of the original ones.\n"
     ]
    }
   ],
   "source": [
    "# Get unique tweets\n",
    "data = list(set(data))\n",
    "data = [x for x in data if str(x) != 'nan' and str(x)]\n",
    "unique_num = len(data)\n",
    "unique_perc = round(100.0 * unique_num  / original_num)\n",
    "print('However, the number of unique tweets is %d. That means %d out of 100 of the original ones.' % (unique_num, unique_perc))"
   ]
  },
  {
   "cell_type": "markdown",
   "metadata": {},
   "source": [
    "In addition, there are some tweets of the form _RT @PaulPannone: Bridge March over Troubled Water http://t.co/Sh5ToZy6PF #AlSharpton #StatenIsland #EricGarner #Verrazano'_.\n",
    "\n",
    "Therefore, we would like to remove the _RT @PaulPannone:_ part and keep the original text\n",
    "\n",
    "_Bridge March over Troubled Water http://t.co/Sh5ToZy6PF #AlSharpton #StatenIsland #EricGarner #Verrazano'_\n",
    "\n",
    "which might be already considered in a different tweet."
   ]
  },
  {
   "cell_type": "code",
   "execution_count": 13,
   "metadata": {},
   "outputs": [
    {
     "name": "stdout",
     "output_type": "stream",
     "text": [
      "In consequence, the number of tweets declines to 46935. That means 47 out of 100 of the original ones.\n"
     ]
    }
   ],
   "source": [
    "# Remove RT @name:\n",
    "data = [re.sub(\"^RT @\\S*\\s?\", \"\", sent) for sent in data]\n",
    "data = [re.sub('^\"@\\S*\\s?', \"\", sent) for sent in data]\n",
    "data = [re.sub('^“@\\S*\\s?', \"\", sent) for sent in data]\n",
    "data = list(set(data))\n",
    "data = [x for x in data if str(x) != 'nan' and str(x)]\n",
    "unique_rt_num = len(data)\n",
    "unique_rt_perc = round(100.0 * unique_rt_num  / original_num)\n",
    "print('In consequence, the number of tweets declines to %d. That means %d out of 100 of the original ones.' % (unique_rt_num, unique_rt_perc))"
   ]
  },
  {
   "cell_type": "markdown",
   "metadata": {},
   "source": [
    "### URLs"
   ]
  },
  {
   "cell_type": "markdown",
   "metadata": {},
   "source": [
    "A lot of tweets include links to other websites, for instance, news and articles. This _URLs_ cannot be considered words and is hard to know where are they pointing, because the text that appears is usually an encrypted version. However, just the fact that the tweet includes a link can be useful for our analysis. Therefore, we will replace any URL with the _http_ word. \n",
    "\n",
    "That means that \n",
    "\n",
    "_Bridge March over Troubled Water http://t.co/Sh5ToZy6PF #AlSharpton #StatenIsland #EricGarner #Verrazano_ \n",
    "\n",
    "now becomes \n",
    "\n",
    "_Bridge March over Troubled Water http #AlSharpton #StatenIsland #EricGarner #Verrazano_."
   ]
  },
  {
   "cell_type": "code",
   "execution_count": 14,
   "metadata": {},
   "outputs": [
    {
     "name": "stdout",
     "output_type": "stream",
     "text": [
      "Accordingly, the number of tweets now reduces to 45650. That means 46 out of 100 of the original ones.\n"
     ]
    }
   ],
   "source": [
    "# Remove URLs\n",
    "data = [re.sub(\"\\w+:\\/{2}[\\d\\w-]+(\\.[\\d\\w-]+)*(?:(?:\\/[^\\s/]*))*\", \"http\", sent) for sent in data]\n",
    "data = list(set(data))\n",
    "data = [x for x in data if str(x) != 'nan' and str(x)]\n",
    "unique_http_num = len(data)\n",
    "unique_http_perc = round(100.0 * unique_http_num  / original_num)\n",
    "print('Accordingly, the number of tweets now reduces to %d. That means %d out of 100 of the original ones.' % (unique_http_num, unique_http_perc))"
   ]
  },
  {
   "cell_type": "markdown",
   "metadata": {},
   "source": [
    "### Remove new lines _\\n_"
   ]
  },
  {
   "cell_type": "markdown",
   "metadata": {},
   "source": [
    "The are some tweets where the user typed _Enter_ to start a new line. This is translated into the _\\n_ character, which can create confusion when we are separating words. Consequently, we will replace those characters with ' '."
   ]
  },
  {
   "cell_type": "code",
   "execution_count": 15,
   "metadata": {},
   "outputs": [
    {
     "data": {
      "text/plain": [
       "45645"
      ]
     },
     "execution_count": 15,
     "metadata": {},
     "output_type": "execute_result"
    }
   ],
   "source": [
    "data = [re.sub(\"\\n\", \" \", sent) for sent in data]\n",
    "data = list(set(data))\n",
    "data = [x for x in data if str(x) != 'nan' and str(x)]\n",
    "len(data)"
   ]
  },
  {
   "cell_type": "markdown",
   "metadata": {},
   "source": [
    "### Decompose into bag of words"
   ]
  },
  {
   "cell_type": "markdown",
   "metadata": {},
   "source": [
    "Let's take a tweet in our data:"
   ]
  },
  {
   "cell_type": "code",
   "execution_count": 16,
   "metadata": {},
   "outputs": [
    {
     "name": "stdout",
     "output_type": "stream",
     "text": [
      "News: Man who shot video of Eric Garner in apparent choke hold arrested on firearms charges.\n"
     ]
    }
   ],
   "source": [
    "tweet = 'News: Man who shot video of Eric Garner in apparent choke hold arrested on firearms charges.'\n",
    "print(tweet)"
   ]
  },
  {
   "cell_type": "markdown",
   "metadata": {},
   "source": [
    "Now we will decompose this tweet into an array of words, where the order doesn't matter."
   ]
  },
  {
   "cell_type": "code",
   "execution_count": 17,
   "metadata": {},
   "outputs": [
    {
     "name": "stdout",
     "output_type": "stream",
     "text": [
      "['news', 'man', 'who', 'shot', 'video', 'of', 'eric', 'garner', 'in', 'apparent', 'choke', 'hold', 'arrested', 'on', 'firearms', 'charges']\n"
     ]
    }
   ],
   "source": [
    "def sent_to_words(sentences):\n",
    "    for sentence in sentences:\n",
    "        yield(gensim.utils.simple_preprocess(str(sentence), deacc=True))  # deacc=True removes punctuations\n",
    "data_words = list(sent_to_words(data))\n",
    "\n",
    "#Example\n",
    "tweet_words = list(sent_to_words([tweet]))\n",
    "print(tweet_words[0])"
   ]
  },
  {
   "cell_type": "markdown",
   "metadata": {},
   "source": [
    "### Stop words"
   ]
  },
  {
   "cell_type": "markdown",
   "metadata": {},
   "source": [
    "There are commonly used words (such as “the”, “a”, “an”, “in”) which appear that often, that are useless to understand the context we are analyzing. Moreover, since they are common, they make the NLP techniques to spend more time processing, without adding any value. Therefore, we will remove them from every tweet."
   ]
  },
  {
   "cell_type": "code",
   "execution_count": 18,
   "metadata": {},
   "outputs": [
    {
     "name": "stdout",
     "output_type": "stream",
     "text": [
      "['news', 'man', 'shot', 'video', 'eric', 'garner', 'apparent', 'choke', 'hold', 'arrested', 'firearms', 'charges']\n"
     ]
    }
   ],
   "source": [
    "def remove_stopwords(texts):\n",
    "    return [[word for word in simple_preprocess(str(doc)) if word not in stop_words] for doc in texts]\n",
    "\n",
    "# Remove Stop Words\n",
    "data_words_nostops = remove_stopwords(data_words)\n",
    "\n",
    "#Example\n",
    "tweet_words_nostops = remove_stopwords(tweet_words)\n",
    "print(tweet_words_nostops[0])"
   ]
  },
  {
   "cell_type": "markdown",
   "metadata": {},
   "source": [
    "### Bigrams and Trigrams"
   ]
  },
  {
   "cell_type": "markdown",
   "metadata": {},
   "source": [
    "There are concepts like _Eric Garner_ or _New York_ which make more sense to be analyzed as a single word, than being split into two. To achieve that we will use the concept of bigrams and trigrams."
   ]
  },
  {
   "cell_type": "code",
   "execution_count": 19,
   "metadata": {},
   "outputs": [],
   "source": [
    "# Build the bigram and trigram models\n",
    "bigram = gensim.models.Phrases(data_words, min_count=5, threshold=20) # higher threshold fewer phrases.\n",
    "trigram = gensim.models.Phrases(bigram[data_words], threshold=20)  \n",
    "\n",
    "# Faster way to get a sentence clubbed as a trigram/bigram\n",
    "bigram_mod = gensim.models.phrases.Phraser(bigram)\n",
    "trigram_mod = gensim.models.phrases.Phraser(trigram)"
   ]
  },
  {
   "cell_type": "code",
   "execution_count": 20,
   "metadata": {},
   "outputs": [],
   "source": [
    "def make_bigrams(texts):\n",
    "    return [bigram_mod[doc] for doc in texts]\n",
    "\n",
    "def make_trigrams(texts):\n",
    "    return [trigram_mod[bigram_mod[doc]] for doc in texts]\n",
    "\n",
    "def lemmatization(texts, allowed_postags=['NOUN', 'ADJ', 'VERB', 'ADV']):\n",
    "    \"\"\"https://spacy.io/api/annotation\"\"\"\n",
    "    texts_out = []\n",
    "    for sent in texts:\n",
    "        doc = nlp(\" \".join(sent)) \n",
    "        texts_out.append([token.lemma_ for token in doc if token.pos_ in allowed_postags])\n",
    "    return texts_out"
   ]
  },
  {
   "cell_type": "code",
   "execution_count": 21,
   "metadata": {},
   "outputs": [
    {
     "name": "stdout",
     "output_type": "stream",
     "text": [
      "['news', 'man', 'shot', 'video', 'eric_garner', 'apparent', 'choke_hold', 'arrested', 'firearms', 'charges']\n"
     ]
    }
   ],
   "source": [
    "# Form Bigrams\n",
    "data_words_bigrams = make_bigrams(data_words_nostops)\n",
    "\n",
    "# Initialize spacy 'en' model, keeping only tagger component (for efficiency)\n",
    "# python3 -m spacy download en\n",
    "nlp = spacy.load('en', disable=['parser', 'ner'])\n",
    "\n",
    "# Example\n",
    "tweet_words_bigrams = make_bigrams(tweet_words_nostops)\n",
    "print(tweet_words_bigrams[0])"
   ]
  },
  {
   "cell_type": "markdown",
   "metadata": {},
   "source": [
    "### Lemmatization"
   ]
  },
  {
   "cell_type": "markdown",
   "metadata": {},
   "source": [
    "Finally, we would like to tackle one last challenge: The fact that a word used as a singular or plural should be considered the same. Similar case when you conjugate a verb or you use verbs and adjectives with the same origin. \n",
    "\n",
    "These kinds of problems are solved by _Lemmatization_ , a technique that transforms any single word to its root."
   ]
  },
  {
   "cell_type": "code",
   "execution_count": 22,
   "metadata": {},
   "outputs": [
    {
     "name": "stdout",
     "output_type": "stream",
     "text": [
      "['news', 'man', 'shoot', 'video', 'eric_garner', 'apparent', 'choke_hold', 'arrest', 'firearm', 'charge']\n"
     ]
    }
   ],
   "source": [
    "# Do lemmatization keeping only noun, adj, vb, adv\n",
    "data_lemmatized = lemmatization(data_words_bigrams, allowed_postags=['NOUN', 'ADJ', 'VERB', 'ADV'])\n",
    "\n",
    "# Example\n",
    "tweet_lemmatized = lemmatization(tweet_words_bigrams, allowed_postags=['NOUN', 'ADJ', 'VERB', 'ADV'])\n",
    "print(tweet_lemmatized[0])"
   ]
  },
  {
   "cell_type": "markdown",
   "metadata": {},
   "source": [
    "## Modeling topics"
   ]
  },
  {
   "cell_type": "markdown",
   "metadata": {},
   "source": [
    "### Build corpora"
   ]
  },
  {
   "cell_type": "markdown",
   "metadata": {},
   "source": [
    "Once we have the pre-processed tweets we want to model, we need to make them comparable on a mathematical way. To achieve that, we will create as many dimensions as we have unique words in the set of tweets. Then, we will assign to each word the number of times it was mentioned in the tweet (and zero if it didn't appear)."
   ]
  },
  {
   "cell_type": "code",
   "execution_count": 23,
   "metadata": {},
   "outputs": [
    {
     "name": "stdout",
     "output_type": "stream",
     "text": [
      "[(82, 1), (91, 1), (99, 1), (243, 1), (434, 1), (480, 1), (674, 1), (776, 1), (6143, 1), (7175, 1)]\n"
     ]
    }
   ],
   "source": [
    "# Create Dictionary\n",
    "id2word = corpora.Dictionary(data_lemmatized)\n",
    "\n",
    "# Create Corpus\n",
    "texts = data_lemmatized\n",
    "\n",
    "# Term Document Frequency\n",
    "corpus = [id2word.doc2bow(text) for text in texts]\n",
    "\n",
    "# Example\n",
    "print(id2word.doc2bow(tweet_lemmatized[0]))"
   ]
  },
  {
   "cell_type": "code",
   "execution_count": 24,
   "metadata": {},
   "outputs": [
    {
     "data": {
      "text/plain": [
       "[[('arrest', 1),\n",
       "  ('video', 1),\n",
       "  ('shoot', 1),\n",
       "  ('charge', 1),\n",
       "  ('man', 1),\n",
       "  ('news', 1),\n",
       "  ('apparent', 1),\n",
       "  ('eric_garner', 1),\n",
       "  ('choke_hold', 1),\n",
       "  ('firearm', 1)]]"
      ]
     },
     "execution_count": 24,
     "metadata": {},
     "output_type": "execute_result"
    }
   ],
   "source": [
    "# Human readable format of corpus (term-frequency)\n",
    "[[(id2word[id], freq) for id, freq in cp] for cp in [id2word.doc2bow(tweet) for tweet in tweet_lemmatized]]"
   ]
  },
  {
   "cell_type": "markdown",
   "metadata": {},
   "source": [
    "### LDA Mallet Model"
   ]
  },
  {
   "cell_type": "markdown",
   "metadata": {},
   "source": [
    "To model the different topics, we are going to use the Latent Dirichlet Allocation (LDA) technique. Specifically, we are going to use the Mallet implementation, which is a Java-based package for statistical NLP."
   ]
  },
  {
   "cell_type": "code",
   "execution_count": 25,
   "metadata": {},
   "outputs": [],
   "source": [
    "# Download File: http://mallet.cs.umass.edu/dist/mallet-2.0.8.zip\n",
    "mallet_path = 'mallet-2.0.8/bin/mallet' # update this path\n",
    "ldamallet = gensim.models.wrappers.LdaMallet(mallet_path, corpus=corpus, num_topics=10, id2word=id2word)"
   ]
  },
  {
   "cell_type": "markdown",
   "metadata": {},
   "source": [
    "This will give us 10 different topics (a fixed parameter we used). Now, we are going to explore the 10 words most representative of each of these topics. "
   ]
  },
  {
   "cell_type": "code",
   "execution_count": 26,
   "metadata": {},
   "outputs": [
    {
     "name": "stdout",
     "output_type": "stream",
     "text": [
      "[(0,\n",
      "  [('ferguson', 0.1889613091110803),\n",
      "   ('police', 0.06265427818610456),\n",
      "   ('missouri', 0.02324226875606712),\n",
      "   ('stand', 0.016863125780058243),\n",
      "   ('stl', 0.013007904590209403),\n",
      "   ('violence', 0.012591873526556649),\n",
      "   ('city', 0.01231451948412148),\n",
      "   ('curfew', 0.011926223824712244),\n",
      "   ('state', 0.011426986548328941),\n",
      "   ('american', 0.011205103314380807)]),\n",
      " (1,\n",
      "  [('http', 0.2811442633035989),\n",
      "   ('ferguson', 0.21084421576577836),\n",
      "   ('photo', 0.019406616146080927),\n",
      "   ('protestor', 0.01873549397388216),\n",
      "   ('local', 0.00989905203993177),\n",
      "   ('sign', 0.008305136880959704),\n",
      "   ('scene', 0.007801795251810632),\n",
      "   ('move', 0.007717904980285786),\n",
      "   ('action', 0.007270490198819943),\n",
      "   ('looter', 0.006403624059729873)]),\n",
      " (2,\n",
      "  [('ferguson', 0.16025111514951265),\n",
      "   ('medium', 0.029517043890082053),\n",
      "   ('cnn', 0.02557960240101327),\n",
      "   ('live', 0.025331791398204746),\n",
      "   ('watch', 0.02356957982267746),\n",
      "   ('america', 0.023046423261192796),\n",
      "   ('talk', 0.016520733520568313),\n",
      "   ('good', 0.016300457073627404),\n",
      "   ('reporter', 0.01506140205958478),\n",
      "   ('tweet', 0.013078914037116581)]),\n",
      " (3,\n",
      "  [('http', 0.14804199851186375),\n",
      "   ('ferguson', 0.12095240719817014),\n",
      "   ('rt', 0.07043844903133353),\n",
      "   ('protest', 0.04525036514454212),\n",
      "   ('arrest', 0.04502990051533607),\n",
      "   ('journalist', 0.014743572078154712),\n",
      "   ('mikebrown', 0.012924738887204783),\n",
      "   ('march', 0.012401135392840412),\n",
      "   ('tonight', 0.011794857662523769),\n",
      "   ('antoniofrench', 0.01124369608950864)]),\n",
      " (4,\n",
      "  [('http', 0.2286539254777946),\n",
      "   ('michael_brown', 0.1289701636188643),\n",
      "   ('michaelbrown', 0.04688574178468308),\n",
      "   ('video', 0.02964388835418672),\n",
      "   ('show', 0.02392410284614327),\n",
      "   ('shooting', 0.021614189467894954),\n",
      "   ('funeral', 0.013144507080984464),\n",
      "   ('story', 0.012787020486731748),\n",
      "   ('brown', 0.011467069984875566),\n",
      "   ('witness', 0.009817131857555342)]),\n",
      " (5,\n",
      "  [('ferguson', 0.0853992228971707),\n",
      "   ('people', 0.07697148798774148),\n",
      "   ('happen', 0.030153778799321403),\n",
      "   ('make', 0.02645980408252613),\n",
      "   ('stop', 0.022081759973731737),\n",
      "   ('thing', 0.016910195370218355),\n",
      "   ('riot', 0.014803261642861052),\n",
      "   ('news', 0.012887867345263504),\n",
      "   ('citizen', 0.011984895747824659),\n",
      "   ('loot', 0.011957532972144694)]),\n",
      " (6,\n",
      "  [('mikebrown', 0.09279755283648498),\n",
      "   ('mike_brown', 0.039571746384872084),\n",
      "   ('justice', 0.027808676307007785),\n",
      "   ('family', 0.02246941045606229),\n",
      "   ('day', 0.018631813125695215),\n",
      "   ('today', 0.017018909899888766),\n",
      "   ('peace', 0.016268075639599554),\n",
      "   ('hand', 0.015989988876529478),\n",
      "   ('community', 0.01596218020022247),\n",
      "   ('support', 0.015795328142380424)]),\n",
      " (7,\n",
      "  [('ferguson', 0.05569435477079415),\n",
      "   ('http', 0.045504309013839374),\n",
      "   ('mikebrown', 0.0347528282289532),\n",
      "   ('call', 0.02739802936305196),\n",
      "   ('death', 0.02661202032394801),\n",
      "   ('report', 0.02310305139937681),\n",
      "   ('obama', 0.017657131628442298),\n",
      "   ('break', 0.016871122589338348),\n",
      "   ('officer', 0.016000898296044692),\n",
      "   ('pd', 0.015860539539061844)]),\n",
      " (8,\n",
      "  [('police', 0.13976945244956773),\n",
      "   ('ferguson', 0.09526398782012942),\n",
      "   ('protester', 0.03333152085259094),\n",
      "   ('street', 0.020009787396008918),\n",
      "   ('back', 0.016285139470393128),\n",
      "   ('tear_gas', 0.015333587080637269),\n",
      "   ('crowd', 0.015061714969278451),\n",
      "   ('fire', 0.013647979990212604),\n",
      "   ('leave', 0.013131422978630852),\n",
      "   ('gas', 0.01147300309934207)]),\n",
      " (9,\n",
      "  [('cop', 0.07244726424814273),\n",
      "   ('shoot', 0.061710319396995825),\n",
      "   ('kill', 0.04937367821701643),\n",
      "   ('black', 0.04400520579144298),\n",
      "   ('officer', 0.03424434683585489),\n",
      "   ('mike_brown', 0.032861558483813245),\n",
      "   ('white', 0.029011441895775716),\n",
      "   ('time', 0.027330405075646658),\n",
      "   ('man', 0.025134211810639337),\n",
      "   ('shot', 0.02277533756303888)])]\n"
     ]
    }
   ],
   "source": [
    "# Show Topics\n",
    "pprint(ldamallet.show_topics(formatted=False))"
   ]
  },
  {
   "cell_type": "markdown",
   "metadata": {},
   "source": [
    "Finally, we will obtain the coherence score, a metric that will indicate how good the model fit is."
   ]
  },
  {
   "cell_type": "code",
   "execution_count": 27,
   "metadata": {},
   "outputs": [
    {
     "name": "stdout",
     "output_type": "stream",
     "text": [
      "\n",
      "Coherence Score:  0.3032840425309623\n"
     ]
    }
   ],
   "source": [
    "# Compute Coherence Score\n",
    "coherence_model_ldamallet = CoherenceModel(model=ldamallet, texts=data_lemmatized, dictionary=id2word, coherence='c_v')\n",
    "coherence_ldamallet = coherence_model_ldamallet.get_coherence()\n",
    "print('\\nCoherence Score: ', coherence_ldamallet)"
   ]
  },
  {
   "cell_type": "markdown",
   "metadata": {},
   "source": [
    "### Choosing the number of topics"
   ]
  },
  {
   "cell_type": "markdown",
   "metadata": {},
   "source": [
    "As we mentioned before, the number of topics was fixed to 10. However, we would like to optimize that hyper-parameter as well to improve the model performance. To achieve that we will use the Coherence Score, trying different values, and analyzing which is the one with the best performance."
   ]
  },
  {
   "cell_type": "code",
   "execution_count": 28,
   "metadata": {},
   "outputs": [],
   "source": [
    "def compute_coherence_values(dictionary, corpus, texts, limit, start=2, step=3):\n",
    "    \"\"\"\n",
    "    Compute c_v coherence for various number of topics\n",
    "\n",
    "    Parameters:\n",
    "    ----------\n",
    "    dictionary : Gensim dictionary\n",
    "    corpus : Gensim corpus\n",
    "    texts : List of input texts\n",
    "    limit : Max num of topics\n",
    "\n",
    "    Returns:\n",
    "    -------\n",
    "    model_list : List of LDA topic models\n",
    "    coherence_values : Coherence values corresponding to the LDA model with respective number of topics\n",
    "    \"\"\"\n",
    "    coherence_values = []\n",
    "    model_list = []\n",
    "    for num_topics in range(start, limit, step):\n",
    "        model = gensim.models.wrappers.LdaMallet(mallet_path, corpus=corpus, num_topics=num_topics, id2word=id2word, random_seed = 2019)\n",
    "        model_list.append(model)\n",
    "        coherencemodel = CoherenceModel(model=model, texts=texts, dictionary=dictionary, coherence='c_v')\n",
    "        coherence_values.append(coherencemodel.get_coherence())\n",
    "\n",
    "    return model_list, coherence_values"
   ]
  },
  {
   "cell_type": "code",
   "execution_count": 29,
   "metadata": {},
   "outputs": [],
   "source": [
    "# Can take a long time to run.\n",
    "model_list, coherence_values = compute_coherence_values(dictionary=id2word, corpus=corpus, texts=data_lemmatized, start=2, limit=22, step=2)"
   ]
  },
  {
   "cell_type": "code",
   "execution_count": 30,
   "metadata": {},
   "outputs": [
    {
     "data": {
      "image/png": "[encoded data removed]",
      "text/plain": [
       "<Figure size 432x288 with 1 Axes>"
      ]
     },
     "metadata": {
      "needs_background": "light"
     },
     "output_type": "display_data"
    }
   ],
   "source": [
    "# Show graph\n",
    "limit=22; start=2; step=2;\n",
    "x = range(start, limit, step)\n",
    "plt.plot(x, coherence_values)\n",
    "plt.xlabel(\"Num Topics\")\n",
    "plt.ylabel(\"Coherence score\")\n",
    "plt.legend((\"coherence_values\"), loc='best')\n",
    "plt.show()"
   ]
  },
  {
   "cell_type": "code",
   "execution_count": 31,
   "metadata": {},
   "outputs": [
    {
     "name": "stdout",
     "output_type": "stream",
     "text": [
      "Num Topics = 2  has Coherence Value of 0.2139\n",
      "Num Topics = 4  has Coherence Value of 0.2615\n",
      "Num Topics = 6  has Coherence Value of 0.2914\n",
      "Num Topics = 8  has Coherence Value of 0.2918\n",
      "Num Topics = 10  has Coherence Value of 0.2789\n",
      "Num Topics = 12  has Coherence Value of 0.3033\n",
      "Num Topics = 14  has Coherence Value of 0.2737\n",
      "Num Topics = 16  has Coherence Value of 0.2817\n",
      "Num Topics = 18  has Coherence Value of 0.2942\n",
      "Num Topics = 20  has Coherence Value of 0.2866\n"
     ]
    }
   ],
   "source": [
    "# Print the coherence scores\n",
    "for m, cv in zip(x, coherence_values):\n",
    "    print(\"Num Topics =\", m, \" has Coherence Value of\", round(cv, 4))"
   ]
  },
  {
   "cell_type": "markdown",
   "metadata": {},
   "source": [
    "### Working with the optimal model"
   ]
  },
  {
   "cell_type": "markdown",
   "metadata": {},
   "source": [
    "The model we liked the most was the one with 8 topics. Although the 4-theme model has the best performance, the 8-theme balances the diversity of topics with acceptable performance."
   ]
  },
  {
   "cell_type": "code",
   "execution_count": 32,
   "metadata": {},
   "outputs": [],
   "source": [
    "optimal_model = model_list[3]"
   ]
  },
  {
   "cell_type": "code",
   "execution_count": 33,
   "metadata": {},
   "outputs": [
    {
     "name": "stdout",
     "output_type": "stream",
     "text": [
      "[(0,\n",
      "  [('people', 0.06127344090710859),\n",
      "   ('black', 0.03438726559092892),\n",
      "   ('white', 0.023331879633667684),\n",
      "   ('happen', 0.023179241168774532),\n",
      "   ('make', 0.021107719145224597),\n",
      "   ('america', 0.01825119930222416),\n",
      "   ('ferguson', 0.016615787178368948),\n",
      "   ('thing', 0.013410379415612735),\n",
      "   ('good', 0.012908853030963802),\n",
      "   ('tweet', 0.010444832097688617)]),\n",
      " (1,\n",
      "  [('michael_brown', 0.0910018060129608),\n",
      "   ('mike_brown', 0.05598640178476575),\n",
      "   ('shoot', 0.05526399660044619),\n",
      "   ('officer', 0.03894613831934558),\n",
      "   ('kill', 0.03869117178370339),\n",
      "   ('cop', 0.03187081695527462),\n",
      "   ('video', 0.022904493785190695),\n",
      "   ('death', 0.02014235631573356),\n",
      "   ('man', 0.019696164878359717),\n",
      "   ('shot', 0.017868904706257304)]),\n",
      " (2,\n",
      "  [('ferguson', 0.13953125348437884),\n",
      "   ('http', 0.11183462301808532),\n",
      "   ('call', 0.022300024530026982),\n",
      "   ('obama', 0.014026715429386973),\n",
      "   ('community', 0.012800214080235489),\n",
      "   ('riot', 0.012198113417924759),\n",
      "   ('pd', 0.011261512387663626),\n",
      "   ('michael_brown', 0.010659411725352898),\n",
      "   ('funeral', 0.010547911602702763),\n",
      "   ('loot', 0.009722810695091764)]),\n",
      " (3,\n",
      "  [('ferguson', 0.07862662491269966),\n",
      "   ('http', 0.07770293103836709),\n",
      "   ('michaelbrown', 0.038682497127537345),\n",
      "   ('justice', 0.02252911888616036),\n",
      "   ('mikebrown', 0.022123594746209476),\n",
      "   ('missouri', 0.018879401626602385),\n",
      "   ('family', 0.018226057178903732),\n",
      "   ('today', 0.017279834185685),\n",
      "   ('day', 0.015252213485930565),\n",
      "   ('peace', 0.013179534548403812)]),\n",
      " (4,\n",
      "  [('police', 0.114849442542358),\n",
      "   ('ferguson', 0.08489158107277675),\n",
      "   ('arrest', 0.03586164515845843),\n",
      "   ('protester', 0.026907207444473707),\n",
      "   ('cop', 0.025744008427706085),\n",
      "   ('medium', 0.02352734615046967),\n",
      "   ('tear_gas', 0.012378193310508295),\n",
      "   ('reporter', 0.012005091739092266),\n",
      "   ('journalist', 0.011895355982793433),\n",
      "   ('gun', 0.011631990167676236)]),\n",
      " (5,\n",
      "  [('ferguson', 0.1257262426819224),\n",
      "   ('http', 0.12158582463326136),\n",
      "   ('mikebrown', 0.09146762237606572),\n",
      "   ('protest', 0.03661821338735169),\n",
      "   ('stop', 0.01794181154419785),\n",
      "   ('tonight', 0.01725174186942101),\n",
      "   ('support', 0.012643857266878882),\n",
      "   ('show', 0.012577076330610155),\n",
      "   ('story', 0.012243171649266523),\n",
      "   ('stl', 0.010440086370010907)]),\n",
      " (6,\n",
      "  [('ferguson', 0.1538955289951306),\n",
      "   ('police', 0.05061974324922532),\n",
      "   ('cnn', 0.020562195661797254),\n",
      "   ('live', 0.020318725099601594),\n",
      "   ('watch', 0.018946436476316955),\n",
      "   ('report', 0.018238158477202303),\n",
      "   ('protestor', 0.014829570606463036),\n",
      "   ('stand', 0.013767153607791058),\n",
      "   ('back', 0.013258078795927402),\n",
      "   ('crowd', 0.01226206285967242)]),\n",
      " (7,\n",
      "  [('http', 0.24961458542797774),\n",
      "   ('ferguson', 0.14909399646982596),\n",
      "   ('rt', 0.05710838528051478),\n",
      "   ('photo', 0.015505954375851822),\n",
      "   ('march', 0.010076636056929641),\n",
      "   ('real', 0.009406349844717027),\n",
      "   ('antoniofrench', 0.009115892486091562),\n",
      "   ('mo', 0.008289206157696002),\n",
      "   ('last_night', 0.00813280604151306),\n",
      "   ('solidarity', 0.007194405344415399)])]\n"
     ]
    }
   ],
   "source": [
    "# Print the topics\n",
    "pprint(optimal_model.show_topics(formatted=False))"
   ]
  },
  {
   "cell_type": "markdown",
   "metadata": {},
   "source": [
    "## Exploring the results"
   ]
  },
  {
   "cell_type": "markdown",
   "metadata": {},
   "source": [
    "### Dominant topic in each sentence"
   ]
  },
  {
   "cell_type": "code",
   "execution_count": 34,
   "metadata": {},
   "outputs": [],
   "source": [
    "def format_topics_sentences(ldamodel=optimal_model, corpus=corpus, texts=data):\n",
    "    # Init output\n",
    "    sent_topics_df = pd.DataFrame()\n",
    "\n",
    "    # Get main topic in each document\n",
    "    for i, row in enumerate(ldamodel[corpus]):\n",
    "        row = sorted(row, key=lambda x: (x[1]), reverse=True)\n",
    "        # Get the Dominant topic, Perc Contribution and Keywords for each document\n",
    "        for j, (topic_num, prop_topic) in enumerate(row):\n",
    "            if j == 0:  # => dominant topic\n",
    "                wp = ldamodel.show_topic(topic_num)\n",
    "                topic_keywords = \", \".join([word for word, prop in wp])\n",
    "                sent_topics_df = sent_topics_df.append(pd.Series([int(topic_num), round(prop_topic,4), topic_keywords]), ignore_index=True)\n",
    "            else:\n",
    "                break\n",
    "    sent_topics_df.columns = ['Dominant_Topic', 'Perc_Contribution', 'Topic_Keywords']\n",
    "\n",
    "    # Add original text to the end of the output\n",
    "    contents = pd.Series(texts)\n",
    "    sent_topics_df = pd.concat([sent_topics_df, contents], axis=1)\n",
    "    return(sent_topics_df)\n",
    "\n",
    "\n",
    "df_topic_sents_keywords = format_topics_sentences(ldamodel=optimal_model, corpus=corpus, texts=data)\n",
    "\n",
    "# Format\n",
    "df_dominant_topic = df_topic_sents_keywords.reset_index()\n",
    "df_dominant_topic.columns = ['Document_No', 'Dominant_Topic', 'Topic_Perc_Contrib', 'Keywords', 'Text']"
   ]
  },
  {
   "cell_type": "code",
   "execution_count": 35,
   "metadata": {},
   "outputs": [
    {
     "data": {
      "text/html": [
       "<div>\n",
       "<style scoped>\n",
       "    .dataframe tbody tr th:only-of-type {\n",
       "        vertical-align: middle;\n",
       "    }\n",
       "\n",
       "    .dataframe tbody tr th {\n",
       "        vertical-align: top;\n",
       "    }\n",
       "\n",
       "    .dataframe thead th {\n",
       "        text-align: right;\n",
       "    }\n",
       "</style>\n",
       "<table border=\"1\" class=\"dataframe\">\n",
       "  <thead>\n",
       "    <tr style=\"text-align: right;\">\n",
       "      <th></th>\n",
       "      <th>Document_No</th>\n",
       "      <th>Dominant_Topic</th>\n",
       "      <th>Topic_Perc_Contrib</th>\n",
       "      <th>Keywords</th>\n",
       "      <th>Text</th>\n",
       "    </tr>\n",
       "  </thead>\n",
       "  <tbody>\n",
       "    <tr>\n",
       "      <td>0</td>\n",
       "      <td>0</td>\n",
       "      <td>0.0</td>\n",
       "      <td>0.1756</td>\n",
       "      <td>people, black, white, happen, make, america, ferguson, thing, good, tweet</td>\n",
       "      <td>#Ferguson Have you ever noticed that police always seem to make things worse?  What happened to \"Peace Officers\"?</td>\n",
       "    </tr>\n",
       "    <tr>\n",
       "      <td>1</td>\n",
       "      <td>1</td>\n",
       "      <td>3.0</td>\n",
       "      <td>0.1474</td>\n",
       "      <td>ferguson, http, michaelbrown, justice, mikebrown, missouri, family, today, day, peace</td>\n",
       "      <td>The Ballot or the Bullet: Voter Registration in Ferguson Called ‘Disgusting’ by Republican http #Ferg…</td>\n",
       "    </tr>\n",
       "    <tr>\n",
       "      <td>2</td>\n",
       "      <td>2</td>\n",
       "      <td>7.0</td>\n",
       "      <td>0.1513</td>\n",
       "      <td>http, ferguson, rt, photo, march, real, antoniofrench, mo, last_night, solidarity</td>\n",
       "      <td>OUR GENERATION NEEDED THIS! THIS IS CIVIL RIGHTS AND IT WILL UNITE THE PEOPLE! WE ARE TOO ENTITLED AND #FERGUSON IS THE…</td>\n",
       "    </tr>\n",
       "    <tr>\n",
       "      <td>3</td>\n",
       "      <td>3</td>\n",
       "      <td>5.0</td>\n",
       "      <td>0.1480</td>\n",
       "      <td>ferguson, http, mikebrown, protest, stop, tonight, support, show, story, stl</td>\n",
       "      <td>Our justice system must function the same, no matter the victim, to remain credible. #Ferguson #MichaelBrown</td>\n",
       "    </tr>\n",
       "    <tr>\n",
       "      <td>4</td>\n",
       "      <td>4</td>\n",
       "      <td>3.0</td>\n",
       "      <td>0.1523</td>\n",
       "      <td>ferguson, http, michaelbrown, justice, mikebrown, missouri, family, today, day, peace</td>\n",
       "      <td>UNBELIEVABLE: Libs Erect Voter Registration Booth At Mike Brown Death Site via @TellMeNow_</td>\n",
       "    </tr>\n",
       "    <tr>\n",
       "      <td>5</td>\n",
       "      <td>5</td>\n",
       "      <td>7.0</td>\n",
       "      <td>0.1394</td>\n",
       "      <td>http, ferguson, rt, photo, march, real, antoniofrench, mo, last_night, solidarity</td>\n",
       "      <td>.@RepCummings (D-Md.) says #Ferguson turmoil could be a 'turning point' http</td>\n",
       "    </tr>\n",
       "    <tr>\n",
       "      <td>6</td>\n",
       "      <td>6</td>\n",
       "      <td>2.0</td>\n",
       "      <td>0.1354</td>\n",
       "      <td>ferguson, http, call, obama, community, riot, pd, michael_brown, funeral, loot</td>\n",
       "      <td>It's kinda upsetting twitter is blocking #Ferguson from trending</td>\n",
       "    </tr>\n",
       "    <tr>\n",
       "      <td>7</td>\n",
       "      <td>7</td>\n",
       "      <td>5.0</td>\n",
       "      <td>0.1492</td>\n",
       "      <td>ferguson, http, mikebrown, protest, stop, tonight, support, show, story, stl</td>\n",
       "      <td>How Capt. Ron Johnson changed police tactics in wake of Mike Brown shooting http</td>\n",
       "    </tr>\n",
       "    <tr>\n",
       "      <td>8</td>\n",
       "      <td>8</td>\n",
       "      <td>5.0</td>\n",
       "      <td>0.1419</td>\n",
       "      <td>ferguson, http, mikebrown, protest, stop, tonight, support, show, story, stl</td>\n",
       "      <td>I can't stop watching the #Ferguson coverage.  Just awful all around.</td>\n",
       "    </tr>\n",
       "    <tr>\n",
       "      <td>9</td>\n",
       "      <td>9</td>\n",
       "      <td>4.0</td>\n",
       "      <td>0.1473</td>\n",
       "      <td>police, ferguson, arrest, protester, cop, medium, tear_gas, reporter, journalist, gun</td>\n",
       "      <td>If you still out on the streets of #Ferguson you may need to call it a night...you know they out there with teargas and rubber bullets...</td>\n",
       "    </tr>\n",
       "    <tr>\n",
       "      <td>10</td>\n",
       "      <td>10</td>\n",
       "      <td>7.0</td>\n",
       "      <td>0.1394</td>\n",
       "      <td>http, ferguson, rt, photo, march, real, antoniofrench, mo, last_night, solidarity</td>\n",
       "      <td>#5M #MikeBrown #timetogethigh</td>\n",
       "    </tr>\n",
       "    <tr>\n",
       "      <td>11</td>\n",
       "      <td>11</td>\n",
       "      <td>4.0</td>\n",
       "      <td>0.1330</td>\n",
       "      <td>police, ferguson, arrest, protester, cop, medium, tear_gas, reporter, journalist, gun</td>\n",
       "      <td>I'm proud and amazed of these protestors. I would want blood to avenge all of MO. Purge. 🙏 for y'all. #Ferguson</td>\n",
       "    </tr>\n",
       "    <tr>\n",
       "      <td>12</td>\n",
       "      <td>12</td>\n",
       "      <td>1.0</td>\n",
       "      <td>0.1653</td>\n",
       "      <td>michael_brown, mike_brown, shoot, officer, kill, cop, video, death, man, shot</td>\n",
       "      <td>#DarrenWilson?  Not arrested and AWOL. #MikeBrown? Sketchy Video released. DEAD. The entire #Ferguson PD needs to be shuttered …</td>\n",
       "    </tr>\n",
       "    <tr>\n",
       "      <td>13</td>\n",
       "      <td>13</td>\n",
       "      <td>7.0</td>\n",
       "      <td>0.1561</td>\n",
       "      <td>http, ferguson, rt, photo, march, real, antoniofrench, mo, last_night, solidarity</td>\n",
       "      <td>Yall are officially at 6 stars #Ferguson #GTA http</td>\n",
       "    </tr>\n",
       "    <tr>\n",
       "      <td>14</td>\n",
       "      <td>14</td>\n",
       "      <td>1.0</td>\n",
       "      <td>0.1652</td>\n",
       "      <td>michael_brown, mike_brown, shoot, officer, kill, cop, video, death, man, shot</td>\n",
       "      <td>\"You can’t go shoot someone already down.” + ENTIRE VIDEO of autopsy presser  http #JusticeForMikeBrown #F…</td>\n",
       "    </tr>\n",
       "    <tr>\n",
       "      <td>15</td>\n",
       "      <td>15</td>\n",
       "      <td>0.0</td>\n",
       "      <td>0.1500</td>\n",
       "      <td>people, black, white, happen, make, america, ferguson, thing, good, tweet</td>\n",
       "      <td>Wow... RT @JasFly: Something's are bigger than you. #ferguson http</td>\n",
       "    </tr>\n",
       "    <tr>\n",
       "      <td>16</td>\n",
       "      <td>16</td>\n",
       "      <td>1.0</td>\n",
       "      <td>0.1791</td>\n",
       "      <td>michael_brown, mike_brown, shoot, officer, kill, cop, video, death, man, shot</td>\n",
       "      <td>Preliminary autopsy says Michael Brown was shot 6 times, including twice in the head: http http</td>\n",
       "    </tr>\n",
       "    <tr>\n",
       "      <td>17</td>\n",
       "      <td>17</td>\n",
       "      <td>7.0</td>\n",
       "      <td>0.1422</td>\n",
       "      <td>http, ferguson, rt, photo, march, real, antoniofrench, mo, last_night, solidarity</td>\n",
       "      <td>Next Saturday, 8/30 a radical march for Mike Brown, Ryan Ronquillo and all the others http #ferguson</td>\n",
       "    </tr>\n",
       "    <tr>\n",
       "      <td>18</td>\n",
       "      <td>18</td>\n",
       "      <td>6.0</td>\n",
       "      <td>0.1949</td>\n",
       "      <td>ferguson, police, cnn, live, watch, report, protestor, stand, back, crowd</td>\n",
       "      <td>@Ana_Mubasher soaking a bandana/cloth/whatever in apple cider vinegar &amp;amp; puttong over nose &amp;amp; mouth helps too! #Ferguson</td>\n",
       "    </tr>\n",
       "    <tr>\n",
       "      <td>19</td>\n",
       "      <td>19</td>\n",
       "      <td>4.0</td>\n",
       "      <td>0.1671</td>\n",
       "      <td>police, ferguson, arrest, protester, cop, medium, tear_gas, reporter, journalist, gun</td>\n",
       "      <td>Left Bullies Black Reporter To Recant 'No Angel' Description of Michael Brown: John Eligon, a 31 year-old blac... http:/…</td>\n",
       "    </tr>\n",
       "  </tbody>\n",
       "</table>\n",
       "</div>"
      ],
      "text/plain": [
       "    Document_No  Dominant_Topic  Topic_Perc_Contrib  \\\n",
       "0   0            0.0             0.1756               \n",
       "1   1            3.0             0.1474               \n",
       "2   2            7.0             0.1513               \n",
       "3   3            5.0             0.1480               \n",
       "4   4            3.0             0.1523               \n",
       "5   5            7.0             0.1394               \n",
       "6   6            2.0             0.1354               \n",
       "7   7            5.0             0.1492               \n",
       "8   8            5.0             0.1419               \n",
       "9   9            4.0             0.1473               \n",
       "10  10           7.0             0.1394               \n",
       "11  11           4.0             0.1330               \n",
       "12  12           1.0             0.1653               \n",
       "13  13           7.0             0.1561               \n",
       "14  14           1.0             0.1652               \n",
       "15  15           0.0             0.1500               \n",
       "16  16           1.0             0.1791               \n",
       "17  17           7.0             0.1422               \n",
       "18  18           6.0             0.1949               \n",
       "19  19           4.0             0.1671               \n",
       "\n",
       "                                                                                 Keywords  \\\n",
       "0   people, black, white, happen, make, america, ferguson, thing, good, tweet               \n",
       "1   ferguson, http, michaelbrown, justice, mikebrown, missouri, family, today, day, peace   \n",
       "2   http, ferguson, rt, photo, march, real, antoniofrench, mo, last_night, solidarity       \n",
       "3   ferguson, http, mikebrown, protest, stop, tonight, support, show, story, stl            \n",
       "4   ferguson, http, michaelbrown, justice, mikebrown, missouri, family, today, day, peace   \n",
       "5   http, ferguson, rt, photo, march, real, antoniofrench, mo, last_night, solidarity       \n",
       "6   ferguson, http, call, obama, community, riot, pd, michael_brown, funeral, loot          \n",
       "7   ferguson, http, mikebrown, protest, stop, tonight, support, show, story, stl            \n",
       "8   ferguson, http, mikebrown, protest, stop, tonight, support, show, story, stl            \n",
       "9   police, ferguson, arrest, protester, cop, medium, tear_gas, reporter, journalist, gun   \n",
       "10  http, ferguson, rt, photo, march, real, antoniofrench, mo, last_night, solidarity       \n",
       "11  police, ferguson, arrest, protester, cop, medium, tear_gas, reporter, journalist, gun   \n",
       "12  michael_brown, mike_brown, shoot, officer, kill, cop, video, death, man, shot           \n",
       "13  http, ferguson, rt, photo, march, real, antoniofrench, mo, last_night, solidarity       \n",
       "14  michael_brown, mike_brown, shoot, officer, kill, cop, video, death, man, shot           \n",
       "15  people, black, white, happen, make, america, ferguson, thing, good, tweet               \n",
       "16  michael_brown, mike_brown, shoot, officer, kill, cop, video, death, man, shot           \n",
       "17  http, ferguson, rt, photo, march, real, antoniofrench, mo, last_night, solidarity       \n",
       "18  ferguson, police, cnn, live, watch, report, protestor, stand, back, crowd               \n",
       "19  police, ferguson, arrest, protester, cop, medium, tear_gas, reporter, journalist, gun   \n",
       "\n",
       "                                                                                                                                         Text  \n",
       "0   #Ferguson Have you ever noticed that police always seem to make things worse?  What happened to \"Peace Officers\"?                          \n",
       "1   The Ballot or the Bullet: Voter Registration in Ferguson Called ‘Disgusting’ by Republican http #Ferg…                                     \n",
       "2   OUR GENERATION NEEDED THIS! THIS IS CIVIL RIGHTS AND IT WILL UNITE THE PEOPLE! WE ARE TOO ENTITLED AND #FERGUSON IS THE…                   \n",
       "3   Our justice system must function the same, no matter the victim, to remain credible. #Ferguson #MichaelBrown                               \n",
       "4   UNBELIEVABLE: Libs Erect Voter Registration Booth At Mike Brown Death Site via @TellMeNow_                                                 \n",
       "5   .@RepCummings (D-Md.) says #Ferguson turmoil could be a 'turning point' http                                                               \n",
       "6   It's kinda upsetting twitter is blocking #Ferguson from trending                                                                           \n",
       "7   How Capt. Ron Johnson changed police tactics in wake of Mike Brown shooting http                                                           \n",
       "8   I can't stop watching the #Ferguson coverage.  Just awful all around.                                                                      \n",
       "9   If you still out on the streets of #Ferguson you may need to call it a night...you know they out there with teargas and rubber bullets...  \n",
       "10  #5M #MikeBrown #timetogethigh                                                                                                              \n",
       "11  I'm proud and amazed of these protestors. I would want blood to avenge all of MO. Purge. 🙏 for y'all. #Ferguson                            \n",
       "12  #DarrenWilson?  Not arrested and AWOL. #MikeBrown? Sketchy Video released. DEAD. The entire #Ferguson PD needs to be shuttered …           \n",
       "13  Yall are officially at 6 stars #Ferguson #GTA http                                                                                         \n",
       "14  \"You can’t go shoot someone already down.” + ENTIRE VIDEO of autopsy presser  http #JusticeForMikeBrown #F…                                \n",
       "15  Wow... RT @JasFly: Something's are bigger than you. #ferguson http                                                                         \n",
       "16  Preliminary autopsy says Michael Brown was shot 6 times, including twice in the head: http http                                            \n",
       "17  Next Saturday, 8/30 a radical march for Mike Brown, Ryan Ronquillo and all the others http #ferguson                                       \n",
       "18  @Ana_Mubasher soaking a bandana/cloth/whatever in apple cider vinegar &amp; puttong over nose &amp; mouth helps too! #Ferguson             \n",
       "19  Left Bullies Black Reporter To Recant 'No Angel' Description of Michael Brown: John Eligon, a 31 year-old blac... http:/…                  "
      ]
     },
     "execution_count": 35,
     "metadata": {},
     "output_type": "execute_result"
    }
   ],
   "source": [
    "# Show\n",
    "pd.set_option('display.max_colwidth', -1)\n",
    "df_dominant_topic.head(20)"
   ]
  },
  {
   "cell_type": "markdown",
   "metadata": {},
   "source": [
    "### Most representative tweets"
   ]
  },
  {
   "cell_type": "code",
   "execution_count": 36,
   "metadata": {},
   "outputs": [
    {
     "data": {
      "text/html": [
       "<div>\n",
       "<style scoped>\n",
       "    .dataframe tbody tr th:only-of-type {\n",
       "        vertical-align: middle;\n",
       "    }\n",
       "\n",
       "    .dataframe tbody tr th {\n",
       "        vertical-align: top;\n",
       "    }\n",
       "\n",
       "    .dataframe thead th {\n",
       "        text-align: right;\n",
       "    }\n",
       "</style>\n",
       "<table border=\"1\" class=\"dataframe\">\n",
       "  <thead>\n",
       "    <tr style=\"text-align: right;\">\n",
       "      <th></th>\n",
       "      <th>Topic_Num</th>\n",
       "      <th>Topic_Perc_Contrib</th>\n",
       "      <th>Keywords</th>\n",
       "      <th>Text</th>\n",
       "    </tr>\n",
       "  </thead>\n",
       "  <tbody>\n",
       "    <tr>\n",
       "      <td>0</td>\n",
       "      <td>0.0</td>\n",
       "      <td>0.2823</td>\n",
       "      <td>people, black, white, happen, make, america, ferguson, thing, good, tweet</td>\n",
       "      <td>Made DA error of thinking a blk man gets DA #Ferguson issue at my job. Me:ppl in Ferguson r brave Him: ppl need 2 fight dis blk on blk crime</td>\n",
       "    </tr>\n",
       "    <tr>\n",
       "      <td>1</td>\n",
       "      <td>0.0</td>\n",
       "      <td>0.2614</td>\n",
       "      <td>people, black, white, happen, make, america, ferguson, thing, good, tweet</td>\n",
       "      <td>#Ferguson Except 4 illegals, we r Americans- NOT African, Spanish, White, Black American- red blood shades of brown Americans. Stp race bait</td>\n",
       "    </tr>\n",
       "    <tr>\n",
       "      <td>2</td>\n",
       "      <td>0.0</td>\n",
       "      <td>0.2603</td>\n",
       "      <td>people, black, white, happen, make, america, ferguson, thing, good, tweet</td>\n",
       "      <td>The only race I care about is, the human race. Not black, Asian, or white. Stop talking about color and it won't be about color #Ferguson</td>\n",
       "    </tr>\n",
       "    <tr>\n",
       "      <td>3</td>\n",
       "      <td>0.0</td>\n",
       "      <td>0.2585</td>\n",
       "      <td>people, black, white, happen, make, america, ferguson, thing, good, tweet</td>\n",
       "      <td>Racism - Structures (economic, social, political) that create disadvantages for ethnic/racial minorities #Ferguson #Rac…</td>\n",
       "    </tr>\n",
       "    <tr>\n",
       "      <td>4</td>\n",
       "      <td>0.0</td>\n",
       "      <td>0.2585</td>\n",
       "      <td>people, black, white, happen, make, america, ferguson, thing, good, tweet</td>\n",
       "      <td>Hey guys, it's a race issue. (It's a class issue and a fascism issue and a capitalism issue too) but... IT'S A RACE ISSUE…</td>\n",
       "    </tr>\n",
       "    <tr>\n",
       "      <td>5</td>\n",
       "      <td>0.0</td>\n",
       "      <td>0.2575</td>\n",
       "      <td>people, black, white, happen, make, america, ferguson, thing, good, tweet</td>\n",
       "      <td>'06 Long Beach, Ca. Black girls beaten by white mob! BIG story! Oops! WHITE girls, BLACK mob. Yawn.. http</td>\n",
       "    </tr>\n",
       "    <tr>\n",
       "      <td>6</td>\n",
       "      <td>0.0</td>\n",
       "      <td>0.2541</td>\n",
       "      <td>people, black, white, happen, make, america, ferguson, thing, good, tweet</td>\n",
       "      <td>2006 Long Beach, Ca. Black girls beaten by white mob! BIG story! Oops! WHITE girls, BLACK mob. Yawn.. http</td>\n",
       "    </tr>\n",
       "    <tr>\n",
       "      <td>7</td>\n",
       "      <td>0.0</td>\n",
       "      <td>0.2525</td>\n",
       "      <td>people, black, white, happen, make, america, ferguson, thing, good, tweet</td>\n",
       "      <td>Another Tom mention blk on blk crime n conjunction wit the murder of #MikeBrown I'm giv dat ass 1more blk on blk stat 2 add 2 their argument</td>\n",
       "    </tr>\n",
       "    <tr>\n",
       "      <td>8</td>\n",
       "      <td>0.0</td>\n",
       "      <td>0.2522</td>\n",
       "      <td>people, black, white, happen, make, america, ferguson, thing, good, tweet</td>\n",
       "      <td>To keep power, dems MUST make black voters angry, convinced of their oppression. Voter ID=racism! Oppose OCare=racism!  #tcot #ferguson</td>\n",
       "    </tr>\n",
       "    <tr>\n",
       "      <td>9</td>\n",
       "      <td>0.0</td>\n",
       "      <td>0.2500</td>\n",
       "      <td>people, black, white, happen, make, america, ferguson, thing, good, tweet</td>\n",
       "      <td>\"Gun rights\" is code for the rights of white people to arm themselves in fear of black people. Pretty obvious right now. #NRA …</td>\n",
       "    </tr>\n",
       "    <tr>\n",
       "      <td>10</td>\n",
       "      <td>1.0</td>\n",
       "      <td>0.3147</td>\n",
       "      <td>michael_brown, mike_brown, shoot, officer, kill, cop, video, death, man, shot</td>\n",
       "      <td>Black lives matter. Black lives matter. Black lives matter. Black lives matter. Black lives matter. Black lives matter. BLACK LIVES MATTER.</td>\n",
       "    </tr>\n",
       "    <tr>\n",
       "      <td>11</td>\n",
       "      <td>1.0</td>\n",
       "      <td>0.2844</td>\n",
       "      <td>michael_brown, mike_brown, shoot, officer, kill, cop, video, death, man, shot</td>\n",
       "      <td>Black lives matter. Black lives matter. Black lives matter. Black lives matter. Black lives matter. Black lives matter. BLACK …</td>\n",
       "    </tr>\n",
       "    <tr>\n",
       "      <td>12</td>\n",
       "      <td>1.0</td>\n",
       "      <td>0.2817</td>\n",
       "      <td>michael_brown, mike_brown, shoot, officer, kill, cop, video, death, man, shot</td>\n",
       "      <td>#Ferguson Examiner Michael Baden: Min 6 shots, last shot probabaly top of the head ('kill shot'). Other shots were non fatal.…</td>\n",
       "    </tr>\n",
       "    <tr>\n",
       "      <td>13</td>\n",
       "      <td>1.0</td>\n",
       "      <td>0.2810</td>\n",
       "      <td>michael_brown, mike_brown, shoot, officer, kill, cop, video, death, man, shot</td>\n",
       "      <td>Eric Garner choked to death by NYPD. John Crawford executed in a Walmart by cops. Mike Brown, an unarmed teen, murdered by 10 …</td>\n",
       "    </tr>\n",
       "    <tr>\n",
       "      <td>14</td>\n",
       "      <td>1.0</td>\n",
       "      <td>0.2810</td>\n",
       "      <td>michael_brown, mike_brown, shoot, officer, kill, cop, video, death, man, shot</td>\n",
       "      <td>RT @theCCR: via @AP: Medical examiner says chokehold by #NYPD officer killed #EricGarner; rules death a homicide. #changetheNYPD</td>\n",
       "    </tr>\n",
       "    <tr>\n",
       "      <td>15</td>\n",
       "      <td>1.0</td>\n",
       "      <td>0.2700</td>\n",
       "      <td>michael_brown, mike_brown, shoot, officer, kill, cop, video, death, man, shot</td>\n",
       "      <td>Mike Brown was unarmed. Mike Brown was shot 6 times by a cop. He was unarmed. He was shot 6 times. Unarmed. Shot 6 time…</td>\n",
       "    </tr>\n",
       "    <tr>\n",
       "      <td>16</td>\n",
       "      <td>1.0</td>\n",
       "      <td>0.2579</td>\n",
       "      <td>michael_brown, mike_brown, shoot, officer, kill, cop, video, death, man, shot</td>\n",
       "      <td>Eric Garner was choked to death ON VIDEO (Chokeholds banned in NYC), AUTOPSY RULED DEATH A HOMICIDE...officer still free.</td>\n",
       "    </tr>\n",
       "    <tr>\n",
       "      <td>17</td>\n",
       "      <td>1.0</td>\n",
       "      <td>0.2542</td>\n",
       "      <td>michael_brown, mike_brown, shoot, officer, kill, cop, video, death, man, shot</td>\n",
       "      <td>BREAKING: NY Medical Examiner: Eric Garner chokehold death ruled homicide http #Homicide #chokehold #StatenIsland</td>\n",
       "    </tr>\n",
       "    <tr>\n",
       "      <td>18</td>\n",
       "      <td>1.0</td>\n",
       "      <td>0.2531</td>\n",
       "      <td>michael_brown, mike_brown, shoot, officer, kill, cop, video, death, man, shot</td>\n",
       "      <td>@NY1 Medical examiner rules Eric Garner's death a homicide due to neck and chest compressions.&amp;lt;----Charge the cops,now.#J…</td>\n",
       "    </tr>\n",
       "    <tr>\n",
       "      <td>19</td>\n",
       "      <td>1.0</td>\n",
       "      <td>0.2523</td>\n",
       "      <td>michael_brown, mike_brown, shoot, officer, kill, cop, video, death, man, shot</td>\n",
       "      <td>Staten Island Man Died From Officer's Chokehold, Autopsy Finds: The death of Eric Garner, 43, which was ruled ... http</td>\n",
       "    </tr>\n",
       "    <tr>\n",
       "      <td>20</td>\n",
       "      <td>2.0</td>\n",
       "      <td>0.2657</td>\n",
       "      <td>ferguson, http, call, obama, community, riot, pd, michael_brown, funeral, loot</td>\n",
       "      <td>White House aides to attend Michael Brown funeral: EDGARTOWN, Mass. (AP) ? President Barack Obama is sending three White House aides ...</td>\n",
       "    </tr>\n",
       "    <tr>\n",
       "      <td>21</td>\n",
       "      <td>2.0</td>\n",
       "      <td>0.2646</td>\n",
       "      <td>ferguson, http, call, obama, community, riot, pd, michael_brown, funeral, loot</td>\n",
       "      <td>.@WhiteHouse will send Cabinet Sec. Broderick Johnson and two other WH officials to funeral of #MikeBrown on Monday.</td>\n",
       "    </tr>\n",
       "    <tr>\n",
       "      <td>22</td>\n",
       "      <td>2.0</td>\n",
       "      <td>0.2639</td>\n",
       "      <td>ferguson, http, call, obama, community, riot, pd, michael_brown, funeral, loot</td>\n",
       "      <td>.@WhiteHouse: Cabinet Secretary Broderick Johnson will attend Monday's funeral for Michael Brown along with two other WH officials - @vj44</td>\n",
       "    </tr>\n",
       "    <tr>\n",
       "      <td>23</td>\n",
       "      <td>2.0</td>\n",
       "      <td>0.2609</td>\n",
       "      <td>ferguson, http, call, obama, community, riot, pd, michael_brown, funeral, loot</td>\n",
       "      <td>Obama Sends No Representative To Memorial Mass For James Foley, Sent Three WH Aides To Michael Brown Funeral… http…</td>\n",
       "    </tr>\n",
       "    <tr>\n",
       "      <td>24</td>\n",
       "      <td>2.0</td>\n",
       "      <td>0.2591</td>\n",
       "      <td>ferguson, http, call, obama, community, riot, pd, michael_brown, funeral, loot</td>\n",
       "      <td>Obama Sends No Representative To Memorial Mass For James Foley, Sent Three WH Aides To Michael Brown Funeral… http</td>\n",
       "    </tr>\n",
       "    <tr>\n",
       "      <td>25</td>\n",
       "      <td>2.0</td>\n",
       "      <td>0.2591</td>\n",
       "      <td>ferguson, http, call, obama, community, riot, pd, michael_brown, funeral, loot</td>\n",
       "      <td>Obama Sends No Representative To Memorial Mass For James Foley, Sent Three WH Aides To Michael Brown Funeral…  http</td>\n",
       "    </tr>\n",
       "    <tr>\n",
       "      <td>26</td>\n",
       "      <td>2.0</td>\n",
       "      <td>0.2562</td>\n",
       "      <td>ferguson, http, call, obama, community, riot, pd, michael_brown, funeral, loot</td>\n",
       "      <td>#Ferguson PD are the felons #Ferguson PD are the felons #Ferguson PD are the felons #Ferguson PD are the felons #Ferguson…</td>\n",
       "    </tr>\n",
       "    <tr>\n",
       "      <td>27</td>\n",
       "      <td>2.0</td>\n",
       "      <td>0.2539</td>\n",
       "      <td>ferguson, http, call, obama, community, riot, pd, michael_brown, funeral, loot</td>\n",
       "      <td>Obama's Regime Snubbed America General Killed On Battle Field &amp;amp; Brit PM Margaret Thatcher’s Funerals..But Sending 3 to Michael…</td>\n",
       "    </tr>\n",
       "    <tr>\n",
       "      <td>28</td>\n",
       "      <td>2.0</td>\n",
       "      <td>0.2531</td>\n",
       "      <td>ferguson, http, call, obama, community, riot, pd, michael_brown, funeral, loot</td>\n",
       "      <td>Obama Sends No Rep To Memorial Mass For James Foley, Sent Three WH Aides To Michael Brown Funeral… http via @WeaselZippers</td>\n",
       "    </tr>\n",
       "    <tr>\n",
       "      <td>29</td>\n",
       "      <td>2.0</td>\n",
       "      <td>0.2505</td>\n",
       "      <td>ferguson, http, call, obama, community, riot, pd, michael_brown, funeral, loot</td>\n",
       "      <td>Obama Sending White House Aides To Attend Michael Brown's Funeral - CBS Local http</td>\n",
       "    </tr>\n",
       "    <tr>\n",
       "      <td>30</td>\n",
       "      <td>3.0</td>\n",
       "      <td>0.2685</td>\n",
       "      <td>ferguson, http, michaelbrown, justice, mikebrown, missouri, family, today, day, peace</td>\n",
       "      <td>&amp;gt;&amp;gt; No es la #GNB ni la #PNB es EL SWAT ARMADO HASTA LOS DIENTES para REPRIMIR MANIFESTANTES en #Ferguson #SosEEUU http…</td>\n",
       "    </tr>\n",
       "    <tr>\n",
       "      <td>31</td>\n",
       "      <td>3.0</td>\n",
       "      <td>0.2609</td>\n",
       "      <td>ferguson, http, michaelbrown, justice, mikebrown, missouri, family, today, day, peace</td>\n",
       "      <td>#Ferguson: Potential Tyranny vs Freedom via Red, Right and True w @Ellysa_Maye #conservative #youth #commonsense  http</td>\n",
       "    </tr>\n",
       "    <tr>\n",
       "      <td>32</td>\n",
       "      <td>3.0</td>\n",
       "      <td>0.2591</td>\n",
       "      <td>ferguson, http, michaelbrown, justice, mikebrown, missouri, family, today, day, peace</td>\n",
       "      <td>Civil Rights Attorney Benjamin Crump speaks. Will represent #MichaelBrown family. Represented Trayvon Martin family http…</td>\n",
       "    </tr>\n",
       "    <tr>\n",
       "      <td>33</td>\n",
       "      <td>3.0</td>\n",
       "      <td>0.2555</td>\n",
       "      <td>ferguson, http, michaelbrown, justice, mikebrown, missouri, family, today, day, peace</td>\n",
       "      <td>#Ferguson: Potential Tyranny vs Freedom via Red, Right and True w @Ellysa_Maye #conservative #youth #commonsense  http…</td>\n",
       "    </tr>\n",
       "    <tr>\n",
       "      <td>34</td>\n",
       "      <td>3.0</td>\n",
       "      <td>0.2526</td>\n",
       "      <td>ferguson, http, michaelbrown, justice, mikebrown, missouri, family, today, day, peace</td>\n",
       "      <td>&amp;gt; No es la #GNB ni la #PNB es EL SWAT ARMADO HASTA LOS DIENTES para REPRIMIR MANIFESTANTES en #Ferguson #SosEEUU http.…</td>\n",
       "    </tr>\n",
       "    <tr>\n",
       "      <td>35</td>\n",
       "      <td>3.0</td>\n",
       "      <td>0.2505</td>\n",
       "      <td>ferguson, http, michaelbrown, justice, mikebrown, missouri, family, today, day, peace</td>\n",
       "      <td>#MichaelBrown Sr. doesn't want any protests the day he buries his son. \"Our son needs to have a moment of silence,\" @yamiche …</td>\n",
       "    </tr>\n",
       "    <tr>\n",
       "      <td>36</td>\n",
       "      <td>3.0</td>\n",
       "      <td>0.2474</td>\n",
       "      <td>ferguson, http, michaelbrown, justice, mikebrown, missouri, family, today, day, peace</td>\n",
       "      <td>#Ferguson: Potential Tyranny vs Freedom via Red, Right &amp;amp; True w @Ellysa_Maye 8-16 #tcot #tiot #ccot #tlot #tgdn  http…</td>\n",
       "    </tr>\n",
       "    <tr>\n",
       "      <td>37</td>\n",
       "      <td>3.0</td>\n",
       "      <td>0.2474</td>\n",
       "      <td>ferguson, http, michaelbrown, justice, mikebrown, missouri, family, today, day, peace</td>\n",
       "      <td>I host special edition of #RFL tonight - all on #Ferguson:  Rev. W. Franklyn Richardson of @NationalAction, Atty Mayo Ba…</td>\n",
       "    </tr>\n",
       "    <tr>\n",
       "      <td>38</td>\n",
       "      <td>3.0</td>\n",
       "      <td>0.2474</td>\n",
       "      <td>ferguson, http, michaelbrown, justice, mikebrown, missouri, family, today, day, peace</td>\n",
       "      <td>Michael Brown's father pleads for peace today \"while we lay our son to rest.\" http #prayers #comfort #strength to this fam</td>\n",
       "    </tr>\n",
       "    <tr>\n",
       "      <td>39</td>\n",
       "      <td>3.0</td>\n",
       "      <td>0.2431</td>\n",
       "      <td>ferguson, http, michaelbrown, justice, mikebrown, missouri, family, today, day, peace</td>\n",
       "      <td>Family of #MichaelBrown to host press conference with attorneys at 3:30p CDT/ 4:30p EST via @attorneycrump #Ferguson http:…</td>\n",
       "    </tr>\n",
       "    <tr>\n",
       "      <td>40</td>\n",
       "      <td>4.0</td>\n",
       "      <td>0.2713</td>\n",
       "      <td>police, ferguson, arrest, protester, cop, medium, tear_gas, reporter, journalist, gun</td>\n",
       "      <td>@randyprine Teargas,Bearcats,helicopters,rubber bullets,rifles,media arrests,curfews,media censorship #Ferguson USA 2014? Wo…</td>\n",
       "    </tr>\n",
       "    <tr>\n",
       "      <td>41</td>\n",
       "      <td>4.0</td>\n",
       "      <td>0.2523</td>\n",
       "      <td>police, ferguson, arrest, protester, cop, medium, tear_gas, reporter, journalist, gun</td>\n",
       "      <td>The police would rather dress in military gear, deploy trucks, use tear gas/smoke, and intimidate people than arrest the…</td>\n",
       "    </tr>\n",
       "    <tr>\n",
       "      <td>42</td>\n",
       "      <td>4.0</td>\n",
       "      <td>0.2449</td>\n",
       "      <td>police, ferguson, arrest, protester, cop, medium, tear_gas, reporter, journalist, gun</td>\n",
       "      <td>#NLG observers &amp;amp; media arrested. @amnesty nternational observers have left area.  Something is wrong here! #ferguson</td>\n",
       "    </tr>\n",
       "    <tr>\n",
       "      <td>43</td>\n",
       "      <td>4.0</td>\n",
       "      <td>0.2415</td>\n",
       "      <td>police, ferguson, arrest, protester, cop, medium, tear_gas, reporter, journalist, gun</td>\n",
       "      <td>You don't teargas, aim assault weapons at civilians, mace and threaten reporters if you think you will ever be called to…</td>\n",
       "    </tr>\n",
       "    <tr>\n",
       "      <td>44</td>\n",
       "      <td>4.0</td>\n",
       "      <td>0.2412</td>\n",
       "      <td>police, ferguson, arrest, protester, cop, medium, tear_gas, reporter, journalist, gun</td>\n",
       "      <td>#Ferguson declared a NO FLY ZONE, after last night police ORDERED journalists &amp;amp; photographers to leave or be arrested</td>\n",
       "    </tr>\n",
       "    <tr>\n",
       "      <td>45</td>\n",
       "      <td>4.0</td>\n",
       "      <td>0.2394</td>\n",
       "      <td>police, ferguson, arrest, protester, cop, medium, tear_gas, reporter, journalist, gun</td>\n",
       "      <td>#Ferguson Police have rubber bullets, tanks, tear gas &amp;amp; all sorts of paramilitary equipment but they don't have dash or bod…</td>\n",
       "    </tr>\n",
       "    <tr>\n",
       "      <td>46</td>\n",
       "      <td>4.0</td>\n",
       "      <td>0.2383</td>\n",
       "      <td>police, ferguson, arrest, protester, cop, medium, tear_gas, reporter, journalist, gun</td>\n",
       "      <td>BREAKING Police teargas parking lot where news media had staged. Contrary to agreement, journalists ordered behind police lines #Ferguson</td>\n",
       "    </tr>\n",
       "    <tr>\n",
       "      <td>47</td>\n",
       "      <td>4.0</td>\n",
       "      <td>0.2356</td>\n",
       "      <td>police, ferguson, arrest, protester, cop, medium, tear_gas, reporter, journalist, gun</td>\n",
       "      <td>Police shut down W. Florissant Ave to traffic/pedestrians. Police allowing \"protest zone\" and media staging area along sho…</td>\n",
       "    </tr>\n",
       "    <tr>\n",
       "      <td>48</td>\n",
       "      <td>4.0</td>\n",
       "      <td>0.2342</td>\n",
       "      <td>police, ferguson, arrest, protester, cop, medium, tear_gas, reporter, journalist, gun</td>\n",
       "      <td>Protesters are embedding with groups of journalists for protection. Peacekeepers telling them to leave. #Ferguson</td>\n",
       "    </tr>\n",
       "    <tr>\n",
       "      <td>49</td>\n",
       "      <td>4.0</td>\n",
       "      <td>0.2340</td>\n",
       "      <td>police, ferguson, arrest, protester, cop, medium, tear_gas, reporter, journalist, gun</td>\n",
       "      <td>I guess I did see that correctly: Amnesty International observers were forced to leave at gunpoint by cops http</td>\n",
       "    </tr>\n",
       "    <tr>\n",
       "      <td>50</td>\n",
       "      <td>5.0</td>\n",
       "      <td>0.2682</td>\n",
       "      <td>ferguson, http, mikebrown, protest, stop, tonight, support, show, story, stl</td>\n",
       "      <td>Listen: Various Artists – #DontShoot (ft. The Game, Rick Ross, Diddy, Fabolous, Etc.) #Ferguson - Listen:... http</td>\n",
       "    </tr>\n",
       "    <tr>\n",
       "      <td>51</td>\n",
       "      <td>5.0</td>\n",
       "      <td>0.2646</td>\n",
       "      <td>ferguson, http, mikebrown, protest, stop, tonight, support, show, story, stl</td>\n",
       "      <td>#MikeBrown #MikeBrown #MikeBrown #MikeBrown #MikeBrown #MikeBrown #MikeBrown #MikeBrown #MikeBrown #MikeBrown #MikeBrow…</td>\n",
       "    </tr>\n",
       "    <tr>\n",
       "      <td>52</td>\n",
       "      <td>5.0</td>\n",
       "      <td>0.2442</td>\n",
       "      <td>ferguson, http, mikebrown, protest, stop, tonight, support, show, story, stl</td>\n",
       "      <td>Wow MT @PlMPCESS Silent protest in Philadelphia; performance artists protest murder of #MikeBrown while passers mock http://…</td>\n",
       "    </tr>\n",
       "    <tr>\n",
       "      <td>53</td>\n",
       "      <td>5.0</td>\n",
       "      <td>0.2409</td>\n",
       "      <td>ferguson, http, mikebrown, protest, stop, tonight, support, show, story, stl</td>\n",
       "      <td>Observe a moment of silence for police brutality victims: 7pm tonight in Boston Common http #NMOS14 #MikeB…</td>\n",
       "    </tr>\n",
       "    <tr>\n",
       "      <td>54</td>\n",
       "      <td>5.0</td>\n",
       "      <td>0.2394</td>\n",
       "      <td>ferguson, http, mikebrown, protest, stop, tonight, support, show, story, stl</td>\n",
       "      <td>Tragedies like #MikeBrown show change is needed&amp;amp;begins w/ us. Join movement at http #UnitedWeWin htt…</td>\n",
       "    </tr>\n",
       "    <tr>\n",
       "      <td>55</td>\n",
       "      <td>5.0</td>\n",
       "      <td>0.2391</td>\n",
       "      <td>ferguson, http, mikebrown, protest, stop, tonight, support, show, story, stl</td>\n",
       "      <td>&amp;amp; Pants! RT @Luke_FLYtalker: So Mike Brown ditched his hat and changed from sandals to sneakers within five minutes? http:…</td>\n",
       "    </tr>\n",
       "    <tr>\n",
       "      <td>56</td>\n",
       "      <td>5.0</td>\n",
       "      <td>0.2375</td>\n",
       "      <td>ferguson, http, mikebrown, protest, stop, tonight, support, show, story, stl</td>\n",
       "      <td>We are headed to both #MikeBrown vigils tonight at @HowardU and Malcolm X Park.  #NMOS14 at 7 pm sharp.  #Ferguson</td>\n",
       "    </tr>\n",
       "    <tr>\n",
       "      <td>57</td>\n",
       "      <td>5.0</td>\n",
       "      <td>0.2342</td>\n",
       "      <td>ferguson, http, mikebrown, protest, stop, tonight, support, show, story, stl</td>\n",
       "      <td>again DC National Moment of Silencr #NMOS14  at Malcolm X Park 7pm tomorrow. #Ferguson #stl</td>\n",
       "    </tr>\n",
       "    <tr>\n",
       "      <td>58</td>\n",
       "      <td>5.0</td>\n",
       "      <td>0.2336</td>\n",
       "      <td>ferguson, http, mikebrown, protest, stop, tonight, support, show, story, stl</td>\n",
       "      <td>@FeministaJones !!“@TyreeBP: #NMOS14 rallies  STRETCHED across the Pond...Pic of a #MikeBrown protest in London. 🇬🇧 http.…</td>\n",
       "    </tr>\n",
       "    <tr>\n",
       "      <td>59</td>\n",
       "      <td>5.0</td>\n",
       "      <td>0.2334</td>\n",
       "      <td>ferguson, http, mikebrown, protest, stop, tonight, support, show, story, stl</td>\n",
       "      <td>#ferguson #stl #MikeBrown RT @trillaryklinton: Tuesday In STL There Is A Rally At City Hall. Let Your Voice Be Heard. htt…</td>\n",
       "    </tr>\n",
       "    <tr>\n",
       "      <td>60</td>\n",
       "      <td>6.0</td>\n",
       "      <td>0.2445</td>\n",
       "      <td>ferguson, police, cnn, live, watch, report, protestor, stand, back, crowd</td>\n",
       "      <td>.@CNN correspondent says live on air that he heard gunshots seconds ago, echoing reports from reporters throughout #Ferguson.</td>\n",
       "    </tr>\n",
       "    <tr>\n",
       "      <td>61</td>\n",
       "      <td>6.0</td>\n",
       "      <td>0.2442</td>\n",
       "      <td>ferguson, police, cnn, live, watch, report, protestor, stand, back, crowd</td>\n",
       "      <td>THE REAL MVP: Man picks up a burning tear gas can police threw &amp;amp; throws it back, while eating chips.  #Ferguson http</td>\n",
       "    </tr>\n",
       "    <tr>\n",
       "      <td>62</td>\n",
       "      <td>6.0</td>\n",
       "      <td>0.2421</td>\n",
       "      <td>ferguson, police, cnn, live, watch, report, protestor, stand, back, crowd</td>\n",
       "      <td>If hit with Tear Gas: carry water in a spray bottle, wash eyes immediately and thoroughly. Cover mouth and nose, wash cloth…</td>\n",
       "    </tr>\n",
       "    <tr>\n",
       "      <td>63</td>\n",
       "      <td>6.0</td>\n",
       "      <td>0.2418</td>\n",
       "      <td>ferguson, police, cnn, live, watch, report, protestor, stand, back, crowd</td>\n",
       "      <td>news slowing in #Ferguson, starting to see 'show up and throw up' out of network anchors/reporters #CNN #MSNBC #FoxNews @Maddow @jaketapper</td>\n",
       "    </tr>\n",
       "    <tr>\n",
       "      <td>64</td>\n",
       "      <td>6.0</td>\n",
       "      <td>0.2391</td>\n",
       "      <td>ferguson, police, cnn, live, watch, report, protestor, stand, back, crowd</td>\n",
       "      <td>So I'm watching Tim Pools live stream. Comments are live rounds fired. Can anyone confirm? Lie rounds? #Ferguson</td>\n",
       "    </tr>\n",
       "    <tr>\n",
       "      <td>65</td>\n",
       "      <td>6.0</td>\n",
       "      <td>0.2388</td>\n",
       "      <td>ferguson, police, cnn, live, watch, report, protestor, stand, back, crowd</td>\n",
       "      <td>@NickCannon Talib Kweli, Rosa Clemente &amp;amp;Jessica Care Moore Report Being Chased/Harassed By Police In #Ferguson http</td>\n",
       "    </tr>\n",
       "    <tr>\n",
       "      <td>66</td>\n",
       "      <td>6.0</td>\n",
       "      <td>0.2388</td>\n",
       "      <td>ferguson, police, cnn, live, watch, report, protestor, stand, back, crowd</td>\n",
       "      <td>\"THE REAL MVP: Man picks up a burning tear gas can police threw &amp;amp; throws it back, while eating chips.  #Ferguson http://…</td>\n",
       "    </tr>\n",
       "    <tr>\n",
       "      <td>67</td>\n",
       "      <td>6.0</td>\n",
       "      <td>0.2370</td>\n",
       "      <td>ferguson, police, cnn, live, watch, report, protestor, stand, back, crowd</td>\n",
       "      <td>@chrisrock Talib Kweli, Rosa Clemente &amp;amp;Jessica Care Moore Report Being Chased/Harassed By Police In #Ferguson http</td>\n",
       "    </tr>\n",
       "    <tr>\n",
       "      <td>68</td>\n",
       "      <td>6.0</td>\n",
       "      <td>0.2368</td>\n",
       "      <td>ferguson, police, cnn, live, watch, report, protestor, stand, back, crowd</td>\n",
       "      <td>My TL right now: Amber Amber Amber Mike Brown Mike Brown Amber Mike Brown Amber wtf Wiz Amber Amber Amber.</td>\n",
       "    </tr>\n",
       "    <tr>\n",
       "      <td>69</td>\n",
       "      <td>6.0</td>\n",
       "      <td>0.2356</td>\n",
       "      <td>ferguson, police, cnn, live, watch, report, protestor, stand, back, crowd</td>\n",
       "      <td>Anchor on @CNN wondering aloud why police aren't using water cannons in #Ferguson. Co-anchor not impressed  http</td>\n",
       "    </tr>\n",
       "    <tr>\n",
       "      <td>70</td>\n",
       "      <td>7.0</td>\n",
       "      <td>0.2766</td>\n",
       "      <td>http, ferguson, rt, photo, march, real, antoniofrench, mo, last_night, solidarity</td>\n",
       "      <td>\"Die meisten schwarzen Jugendlichen in den #USA werden von schwarzen Jugendlichen getötet\". -Zitat von der Trauerfeier für #MikeBrown&amp;gt;#WDR5</td>\n",
       "    </tr>\n",
       "    <tr>\n",
       "      <td>71</td>\n",
       "      <td>7.0</td>\n",
       "      <td>0.2722</td>\n",
       "      <td>http, ferguson, rt, photo, march, real, antoniofrench, mo, last_night, solidarity</td>\n",
       "      <td>Tellement fort ! RT @Breaking3zero: En une photo, pourquoi ce qui se passe à #Ferguson nous concerne tous. http</td>\n",
       "    </tr>\n",
       "    <tr>\n",
       "      <td>72</td>\n",
       "      <td>7.0</td>\n",
       "      <td>0.2650</td>\n",
       "      <td>http, ferguson, rt, photo, march, real, antoniofrench, mo, last_night, solidarity</td>\n",
       "      <td>#EEUU Una autopsia revela que Michael Brown recibió el impacto de al menos seis balas, dos de ellas en la cabeza http:…</td>\n",
       "    </tr>\n",
       "    <tr>\n",
       "      <td>73</td>\n",
       "      <td>7.0</td>\n",
       "      <td>0.2639</td>\n",
       "      <td>http, ferguson, rt, photo, march, real, antoniofrench, mo, last_night, solidarity</td>\n",
       "      <td>Amazing image. RT @natedrug: Not Egypt, not Syria, not Turkey, not Iraq. This is #Ferguson, Missouri, USA. http</td>\n",
       "    </tr>\n",
       "    <tr>\n",
       "      <td>74</td>\n",
       "      <td>7.0</td>\n",
       "      <td>0.2603</td>\n",
       "      <td>http, ferguson, rt, photo, march, real, antoniofrench, mo, last_night, solidarity</td>\n",
       "      <td>La autopsia revela que Michael Brown, quien estaba desarmado, fue baleado seis veces, dos en la cabeza #Ferguson http.…</td>\n",
       "    </tr>\n",
       "    <tr>\n",
       "      <td>75</td>\n",
       "      <td>7.0</td>\n",
       "      <td>0.2555</td>\n",
       "      <td>http, ferguson, rt, photo, march, real, antoniofrench, mo, last_night, solidarity</td>\n",
       "      <td>Michael Brown recibió el impacto de al menos seis balas, dos de ellas en la cabeza http http</td>\n",
       "    </tr>\n",
       "    <tr>\n",
       "      <td>76</td>\n",
       "      <td>7.0</td>\n",
       "      <td>0.2513</td>\n",
       "      <td>http, ferguson, rt, photo, march, real, antoniofrench, mo, last_night, solidarity</td>\n",
       "      <td>PHOTOS: Police fire tear gas near Al Jazeera crew, then disassemble the gear after they flee. #Ferguson http RT @CassFM</td>\n",
       "    </tr>\n",
       "    <tr>\n",
       "      <td>77</td>\n",
       "      <td>7.0</td>\n",
       "      <td>0.2505</td>\n",
       "      <td>http, ferguson, rt, photo, march, real, antoniofrench, mo, last_night, solidarity</td>\n",
       "      <td>Whoa. MT @itsRawanE: #Ferguson has reached Istanbul. From a soccer match: RT@G_Coppo: Besiktas fans. Istanbul, Turkey http…</td>\n",
       "    </tr>\n",
       "    <tr>\n",
       "      <td>78</td>\n",
       "      <td>7.0</td>\n",
       "      <td>0.2500</td>\n",
       "      <td>http, ferguson, rt, photo, march, real, antoniofrench, mo, last_night, solidarity</td>\n",
       "      <td>Speechless RT @YourAnonGlobal: Not Egypt, not Syria, not Turkey, not Iraq. This is #Ferguson, Missouri, USA. http</td>\n",
       "    </tr>\n",
       "    <tr>\n",
       "      <td>79</td>\n",
       "      <td>7.0</td>\n",
       "      <td>0.2491</td>\n",
       "      <td>http, ferguson, rt, photo, march, real, antoniofrench, mo, last_night, solidarity</td>\n",
       "      <td>Autopsia publicada por @nytimes revela que Michael Brown recibió dos disparos en la cabeza &amp;gt;&amp;gt;&amp;gt;http http://…</td>\n",
       "    </tr>\n",
       "  </tbody>\n",
       "</table>\n",
       "</div>"
      ],
      "text/plain": [
       "    Topic_Num  Topic_Perc_Contrib  \\\n",
       "0   0.0        0.2823               \n",
       "1   0.0        0.2614               \n",
       "2   0.0        0.2603               \n",
       "3   0.0        0.2585               \n",
       "4   0.0        0.2585               \n",
       "5   0.0        0.2575               \n",
       "6   0.0        0.2541               \n",
       "7   0.0        0.2525               \n",
       "8   0.0        0.2522               \n",
       "9   0.0        0.2500               \n",
       "10  1.0        0.3147               \n",
       "11  1.0        0.2844               \n",
       "12  1.0        0.2817               \n",
       "13  1.0        0.2810               \n",
       "14  1.0        0.2810               \n",
       "15  1.0        0.2700               \n",
       "16  1.0        0.2579               \n",
       "17  1.0        0.2542               \n",
       "18  1.0        0.2531               \n",
       "19  1.0        0.2523               \n",
       "20  2.0        0.2657               \n",
       "21  2.0        0.2646               \n",
       "22  2.0        0.2639               \n",
       "23  2.0        0.2609               \n",
       "24  2.0        0.2591               \n",
       "25  2.0        0.2591               \n",
       "26  2.0        0.2562               \n",
       "27  2.0        0.2539               \n",
       "28  2.0        0.2531               \n",
       "29  2.0        0.2505               \n",
       "30  3.0        0.2685               \n",
       "31  3.0        0.2609               \n",
       "32  3.0        0.2591               \n",
       "33  3.0        0.2555               \n",
       "34  3.0        0.2526               \n",
       "35  3.0        0.2505               \n",
       "36  3.0        0.2474               \n",
       "37  3.0        0.2474               \n",
       "38  3.0        0.2474               \n",
       "39  3.0        0.2431               \n",
       "40  4.0        0.2713               \n",
       "41  4.0        0.2523               \n",
       "42  4.0        0.2449               \n",
       "43  4.0        0.2415               \n",
       "44  4.0        0.2412               \n",
       "45  4.0        0.2394               \n",
       "46  4.0        0.2383               \n",
       "47  4.0        0.2356               \n",
       "48  4.0        0.2342               \n",
       "49  4.0        0.2340               \n",
       "50  5.0        0.2682               \n",
       "51  5.0        0.2646               \n",
       "52  5.0        0.2442               \n",
       "53  5.0        0.2409               \n",
       "54  5.0        0.2394               \n",
       "55  5.0        0.2391               \n",
       "56  5.0        0.2375               \n",
       "57  5.0        0.2342               \n",
       "58  5.0        0.2336               \n",
       "59  5.0        0.2334               \n",
       "60  6.0        0.2445               \n",
       "61  6.0        0.2442               \n",
       "62  6.0        0.2421               \n",
       "63  6.0        0.2418               \n",
       "64  6.0        0.2391               \n",
       "65  6.0        0.2388               \n",
       "66  6.0        0.2388               \n",
       "67  6.0        0.2370               \n",
       "68  6.0        0.2368               \n",
       "69  6.0        0.2356               \n",
       "70  7.0        0.2766               \n",
       "71  7.0        0.2722               \n",
       "72  7.0        0.2650               \n",
       "73  7.0        0.2639               \n",
       "74  7.0        0.2603               \n",
       "75  7.0        0.2555               \n",
       "76  7.0        0.2513               \n",
       "77  7.0        0.2505               \n",
       "78  7.0        0.2500               \n",
       "79  7.0        0.2491               \n",
       "\n",
       "                                                                                 Keywords  \\\n",
       "0   people, black, white, happen, make, america, ferguson, thing, good, tweet               \n",
       "1   people, black, white, happen, make, america, ferguson, thing, good, tweet               \n",
       "2   people, black, white, happen, make, america, ferguson, thing, good, tweet               \n",
       "3   people, black, white, happen, make, america, ferguson, thing, good, tweet               \n",
       "4   people, black, white, happen, make, america, ferguson, thing, good, tweet               \n",
       "5   people, black, white, happen, make, america, ferguson, thing, good, tweet               \n",
       "6   people, black, white, happen, make, america, ferguson, thing, good, tweet               \n",
       "7   people, black, white, happen, make, america, ferguson, thing, good, tweet               \n",
       "8   people, black, white, happen, make, america, ferguson, thing, good, tweet               \n",
       "9   people, black, white, happen, make, america, ferguson, thing, good, tweet               \n",
       "10  michael_brown, mike_brown, shoot, officer, kill, cop, video, death, man, shot           \n",
       "11  michael_brown, mike_brown, shoot, officer, kill, cop, video, death, man, shot           \n",
       "12  michael_brown, mike_brown, shoot, officer, kill, cop, video, death, man, shot           \n",
       "13  michael_brown, mike_brown, shoot, officer, kill, cop, video, death, man, shot           \n",
       "14  michael_brown, mike_brown, shoot, officer, kill, cop, video, death, man, shot           \n",
       "15  michael_brown, mike_brown, shoot, officer, kill, cop, video, death, man, shot           \n",
       "16  michael_brown, mike_brown, shoot, officer, kill, cop, video, death, man, shot           \n",
       "17  michael_brown, mike_brown, shoot, officer, kill, cop, video, death, man, shot           \n",
       "18  michael_brown, mike_brown, shoot, officer, kill, cop, video, death, man, shot           \n",
       "19  michael_brown, mike_brown, shoot, officer, kill, cop, video, death, man, shot           \n",
       "20  ferguson, http, call, obama, community, riot, pd, michael_brown, funeral, loot          \n",
       "21  ferguson, http, call, obama, community, riot, pd, michael_brown, funeral, loot          \n",
       "22  ferguson, http, call, obama, community, riot, pd, michael_brown, funeral, loot          \n",
       "23  ferguson, http, call, obama, community, riot, pd, michael_brown, funeral, loot          \n",
       "24  ferguson, http, call, obama, community, riot, pd, michael_brown, funeral, loot          \n",
       "25  ferguson, http, call, obama, community, riot, pd, michael_brown, funeral, loot          \n",
       "26  ferguson, http, call, obama, community, riot, pd, michael_brown, funeral, loot          \n",
       "27  ferguson, http, call, obama, community, riot, pd, michael_brown, funeral, loot          \n",
       "28  ferguson, http, call, obama, community, riot, pd, michael_brown, funeral, loot          \n",
       "29  ferguson, http, call, obama, community, riot, pd, michael_brown, funeral, loot          \n",
       "30  ferguson, http, michaelbrown, justice, mikebrown, missouri, family, today, day, peace   \n",
       "31  ferguson, http, michaelbrown, justice, mikebrown, missouri, family, today, day, peace   \n",
       "32  ferguson, http, michaelbrown, justice, mikebrown, missouri, family, today, day, peace   \n",
       "33  ferguson, http, michaelbrown, justice, mikebrown, missouri, family, today, day, peace   \n",
       "34  ferguson, http, michaelbrown, justice, mikebrown, missouri, family, today, day, peace   \n",
       "35  ferguson, http, michaelbrown, justice, mikebrown, missouri, family, today, day, peace   \n",
       "36  ferguson, http, michaelbrown, justice, mikebrown, missouri, family, today, day, peace   \n",
       "37  ferguson, http, michaelbrown, justice, mikebrown, missouri, family, today, day, peace   \n",
       "38  ferguson, http, michaelbrown, justice, mikebrown, missouri, family, today, day, peace   \n",
       "39  ferguson, http, michaelbrown, justice, mikebrown, missouri, family, today, day, peace   \n",
       "40  police, ferguson, arrest, protester, cop, medium, tear_gas, reporter, journalist, gun   \n",
       "41  police, ferguson, arrest, protester, cop, medium, tear_gas, reporter, journalist, gun   \n",
       "42  police, ferguson, arrest, protester, cop, medium, tear_gas, reporter, journalist, gun   \n",
       "43  police, ferguson, arrest, protester, cop, medium, tear_gas, reporter, journalist, gun   \n",
       "44  police, ferguson, arrest, protester, cop, medium, tear_gas, reporter, journalist, gun   \n",
       "45  police, ferguson, arrest, protester, cop, medium, tear_gas, reporter, journalist, gun   \n",
       "46  police, ferguson, arrest, protester, cop, medium, tear_gas, reporter, journalist, gun   \n",
       "47  police, ferguson, arrest, protester, cop, medium, tear_gas, reporter, journalist, gun   \n",
       "48  police, ferguson, arrest, protester, cop, medium, tear_gas, reporter, journalist, gun   \n",
       "49  police, ferguson, arrest, protester, cop, medium, tear_gas, reporter, journalist, gun   \n",
       "50  ferguson, http, mikebrown, protest, stop, tonight, support, show, story, stl            \n",
       "51  ferguson, http, mikebrown, protest, stop, tonight, support, show, story, stl            \n",
       "52  ferguson, http, mikebrown, protest, stop, tonight, support, show, story, stl            \n",
       "53  ferguson, http, mikebrown, protest, stop, tonight, support, show, story, stl            \n",
       "54  ferguson, http, mikebrown, protest, stop, tonight, support, show, story, stl            \n",
       "55  ferguson, http, mikebrown, protest, stop, tonight, support, show, story, stl            \n",
       "56  ferguson, http, mikebrown, protest, stop, tonight, support, show, story, stl            \n",
       "57  ferguson, http, mikebrown, protest, stop, tonight, support, show, story, stl            \n",
       "58  ferguson, http, mikebrown, protest, stop, tonight, support, show, story, stl            \n",
       "59  ferguson, http, mikebrown, protest, stop, tonight, support, show, story, stl            \n",
       "60  ferguson, police, cnn, live, watch, report, protestor, stand, back, crowd               \n",
       "61  ferguson, police, cnn, live, watch, report, protestor, stand, back, crowd               \n",
       "62  ferguson, police, cnn, live, watch, report, protestor, stand, back, crowd               \n",
       "63  ferguson, police, cnn, live, watch, report, protestor, stand, back, crowd               \n",
       "64  ferguson, police, cnn, live, watch, report, protestor, stand, back, crowd               \n",
       "65  ferguson, police, cnn, live, watch, report, protestor, stand, back, crowd               \n",
       "66  ferguson, police, cnn, live, watch, report, protestor, stand, back, crowd               \n",
       "67  ferguson, police, cnn, live, watch, report, protestor, stand, back, crowd               \n",
       "68  ferguson, police, cnn, live, watch, report, protestor, stand, back, crowd               \n",
       "69  ferguson, police, cnn, live, watch, report, protestor, stand, back, crowd               \n",
       "70  http, ferguson, rt, photo, march, real, antoniofrench, mo, last_night, solidarity       \n",
       "71  http, ferguson, rt, photo, march, real, antoniofrench, mo, last_night, solidarity       \n",
       "72  http, ferguson, rt, photo, march, real, antoniofrench, mo, last_night, solidarity       \n",
       "73  http, ferguson, rt, photo, march, real, antoniofrench, mo, last_night, solidarity       \n",
       "74  http, ferguson, rt, photo, march, real, antoniofrench, mo, last_night, solidarity       \n",
       "75  http, ferguson, rt, photo, march, real, antoniofrench, mo, last_night, solidarity       \n",
       "76  http, ferguson, rt, photo, march, real, antoniofrench, mo, last_night, solidarity       \n",
       "77  http, ferguson, rt, photo, march, real, antoniofrench, mo, last_night, solidarity       \n",
       "78  http, ferguson, rt, photo, march, real, antoniofrench, mo, last_night, solidarity       \n",
       "79  http, ferguson, rt, photo, march, real, antoniofrench, mo, last_night, solidarity       \n",
       "\n",
       "                                                                                                                                              Text  \n",
       "0   Made DA error of thinking a blk man gets DA #Ferguson issue at my job. Me:ppl in Ferguson r brave Him: ppl need 2 fight dis blk on blk crime    \n",
       "1   #Ferguson Except 4 illegals, we r Americans- NOT African, Spanish, White, Black American- red blood shades of brown Americans. Stp race bait    \n",
       "2   The only race I care about is, the human race. Not black, Asian, or white. Stop talking about color and it won't be about color #Ferguson       \n",
       "3   Racism - Structures (economic, social, political) that create disadvantages for ethnic/racial minorities #Ferguson #Rac…                        \n",
       "4   Hey guys, it's a race issue. (It's a class issue and a fascism issue and a capitalism issue too) but... IT'S A RACE ISSUE…                      \n",
       "5   '06 Long Beach, Ca. Black girls beaten by white mob! BIG story! Oops! WHITE girls, BLACK mob. Yawn.. http                                       \n",
       "6   2006 Long Beach, Ca. Black girls beaten by white mob! BIG story! Oops! WHITE girls, BLACK mob. Yawn.. http                                      \n",
       "7   Another Tom mention blk on blk crime n conjunction wit the murder of #MikeBrown I'm giv dat ass 1more blk on blk stat 2 add 2 their argument    \n",
       "8   To keep power, dems MUST make black voters angry, convinced of their oppression. Voter ID=racism! Oppose OCare=racism!  #tcot #ferguson         \n",
       "9   \"Gun rights\" is code for the rights of white people to arm themselves in fear of black people. Pretty obvious right now. #NRA …                 \n",
       "10  Black lives matter. Black lives matter. Black lives matter. Black lives matter. Black lives matter. Black lives matter. BLACK LIVES MATTER.     \n",
       "11  Black lives matter. Black lives matter. Black lives matter. Black lives matter. Black lives matter. Black lives matter. BLACK …                 \n",
       "12  #Ferguson Examiner Michael Baden: Min 6 shots, last shot probabaly top of the head ('kill shot'). Other shots were non fatal.…                  \n",
       "13  Eric Garner choked to death by NYPD. John Crawford executed in a Walmart by cops. Mike Brown, an unarmed teen, murdered by 10 …                 \n",
       "14  RT @theCCR: via @AP: Medical examiner says chokehold by #NYPD officer killed #EricGarner; rules death a homicide. #changetheNYPD                \n",
       "15  Mike Brown was unarmed. Mike Brown was shot 6 times by a cop. He was unarmed. He was shot 6 times. Unarmed. Shot 6 time…                        \n",
       "16  Eric Garner was choked to death ON VIDEO (Chokeholds banned in NYC), AUTOPSY RULED DEATH A HOMICIDE...officer still free.                       \n",
       "17  BREAKING: NY Medical Examiner: Eric Garner chokehold death ruled homicide http #Homicide #chokehold #StatenIsland                               \n",
       "18  @NY1 Medical examiner rules Eric Garner's death a homicide due to neck and chest compressions.&lt;----Charge the cops,now.#J…                   \n",
       "19  Staten Island Man Died From Officer's Chokehold, Autopsy Finds: The death of Eric Garner, 43, which was ruled ... http                          \n",
       "20  White House aides to attend Michael Brown funeral: EDGARTOWN, Mass. (AP) ? President Barack Obama is sending three White House aides ...        \n",
       "21  .@WhiteHouse will send Cabinet Sec. Broderick Johnson and two other WH officials to funeral of #MikeBrown on Monday.                            \n",
       "22  .@WhiteHouse: Cabinet Secretary Broderick Johnson will attend Monday's funeral for Michael Brown along with two other WH officials - @vj44      \n",
       "23  Obama Sends No Representative To Memorial Mass For James Foley, Sent Three WH Aides To Michael Brown Funeral… http…                             \n",
       "24  Obama Sends No Representative To Memorial Mass For James Foley, Sent Three WH Aides To Michael Brown Funeral… http                              \n",
       "25  Obama Sends No Representative To Memorial Mass For James Foley, Sent Three WH Aides To Michael Brown Funeral…  http                             \n",
       "26  #Ferguson PD are the felons #Ferguson PD are the felons #Ferguson PD are the felons #Ferguson PD are the felons #Ferguson…                      \n",
       "27  Obama's Regime Snubbed America General Killed On Battle Field &amp; Brit PM Margaret Thatcher’s Funerals..But Sending 3 to Michael…             \n",
       "28  Obama Sends No Rep To Memorial Mass For James Foley, Sent Three WH Aides To Michael Brown Funeral… http via @WeaselZippers                      \n",
       "29  Obama Sending White House Aides To Attend Michael Brown's Funeral - CBS Local http                                                              \n",
       "30  &gt;&gt; No es la #GNB ni la #PNB es EL SWAT ARMADO HASTA LOS DIENTES para REPRIMIR MANIFESTANTES en #Ferguson #SosEEUU http…                   \n",
       "31  #Ferguson: Potential Tyranny vs Freedom via Red, Right and True w @Ellysa_Maye #conservative #youth #commonsense  http                          \n",
       "32  Civil Rights Attorney Benjamin Crump speaks. Will represent #MichaelBrown family. Represented Trayvon Martin family http…                       \n",
       "33  #Ferguson: Potential Tyranny vs Freedom via Red, Right and True w @Ellysa_Maye #conservative #youth #commonsense  http…                         \n",
       "34  &gt; No es la #GNB ni la #PNB es EL SWAT ARMADO HASTA LOS DIENTES para REPRIMIR MANIFESTANTES en #Ferguson #SosEEUU http.…                      \n",
       "35  #MichaelBrown Sr. doesn't want any protests the day he buries his son. \"Our son needs to have a moment of silence,\" @yamiche …                  \n",
       "36  #Ferguson: Potential Tyranny vs Freedom via Red, Right &amp; True w @Ellysa_Maye 8-16 #tcot #tiot #ccot #tlot #tgdn  http…                      \n",
       "37  I host special edition of #RFL tonight - all on #Ferguson:  Rev. W. Franklyn Richardson of @NationalAction, Atty Mayo Ba…                       \n",
       "38  Michael Brown's father pleads for peace today \"while we lay our son to rest.\" http #prayers #comfort #strength to this fam                      \n",
       "39  Family of #MichaelBrown to host press conference with attorneys at 3:30p CDT/ 4:30p EST via @attorneycrump #Ferguson http:…                     \n",
       "40  @randyprine Teargas,Bearcats,helicopters,rubber bullets,rifles,media arrests,curfews,media censorship #Ferguson USA 2014? Wo…                   \n",
       "41  The police would rather dress in military gear, deploy trucks, use tear gas/smoke, and intimidate people than arrest the…                       \n",
       "42  #NLG observers &amp; media arrested. @amnesty nternational observers have left area.  Something is wrong here! #ferguson                        \n",
       "43  You don't teargas, aim assault weapons at civilians, mace and threaten reporters if you think you will ever be called to…                       \n",
       "44  #Ferguson declared a NO FLY ZONE, after last night police ORDERED journalists &amp; photographers to leave or be arrested                       \n",
       "45  #Ferguson Police have rubber bullets, tanks, tear gas &amp; all sorts of paramilitary equipment but they don't have dash or bod…                \n",
       "46  BREAKING Police teargas parking lot where news media had staged. Contrary to agreement, journalists ordered behind police lines #Ferguson       \n",
       "47  Police shut down W. Florissant Ave to traffic/pedestrians. Police allowing \"protest zone\" and media staging area along sho…                     \n",
       "48  Protesters are embedding with groups of journalists for protection. Peacekeepers telling them to leave. #Ferguson                               \n",
       "49  I guess I did see that correctly: Amnesty International observers were forced to leave at gunpoint by cops http                                 \n",
       "50  Listen: Various Artists – #DontShoot (ft. The Game, Rick Ross, Diddy, Fabolous, Etc.) #Ferguson - Listen:... http                               \n",
       "51  #MikeBrown #MikeBrown #MikeBrown #MikeBrown #MikeBrown #MikeBrown #MikeBrown #MikeBrown #MikeBrown #MikeBrown #MikeBrow…                        \n",
       "52  Wow MT @PlMPCESS Silent protest in Philadelphia; performance artists protest murder of #MikeBrown while passers mock http://…                   \n",
       "53  Observe a moment of silence for police brutality victims: 7pm tonight in Boston Common http #NMOS14 #MikeB…                                     \n",
       "54  Tragedies like #MikeBrown show change is needed&amp;begins w/ us. Join movement at http #UnitedWeWin htt…                                       \n",
       "55  &amp; Pants! RT @Luke_FLYtalker: So Mike Brown ditched his hat and changed from sandals to sneakers within five minutes? http:…                 \n",
       "56  We are headed to both #MikeBrown vigils tonight at @HowardU and Malcolm X Park.  #NMOS14 at 7 pm sharp.  #Ferguson                              \n",
       "57  again DC National Moment of Silencr #NMOS14  at Malcolm X Park 7pm tomorrow. #Ferguson #stl                                                     \n",
       "58  @FeministaJones !!“@TyreeBP: #NMOS14 rallies  STRETCHED across the Pond...Pic of a #MikeBrown protest in London. 🇬🇧 http.…                      \n",
       "59  #ferguson #stl #MikeBrown RT @trillaryklinton: Tuesday In STL There Is A Rally At City Hall. Let Your Voice Be Heard. htt…                      \n",
       "60  .@CNN correspondent says live on air that he heard gunshots seconds ago, echoing reports from reporters throughout #Ferguson.                   \n",
       "61  THE REAL MVP: Man picks up a burning tear gas can police threw &amp; throws it back, while eating chips.  #Ferguson http                        \n",
       "62  If hit with Tear Gas: carry water in a spray bottle, wash eyes immediately and thoroughly. Cover mouth and nose, wash cloth…                    \n",
       "63  news slowing in #Ferguson, starting to see 'show up and throw up' out of network anchors/reporters #CNN #MSNBC #FoxNews @Maddow @jaketapper     \n",
       "64  So I'm watching Tim Pools live stream. Comments are live rounds fired. Can anyone confirm? Lie rounds? #Ferguson                                \n",
       "65  @NickCannon Talib Kweli, Rosa Clemente &amp;Jessica Care Moore Report Being Chased/Harassed By Police In #Ferguson http                         \n",
       "66  \"THE REAL MVP: Man picks up a burning tear gas can police threw &amp; throws it back, while eating chips.  #Ferguson http://…                   \n",
       "67  @chrisrock Talib Kweli, Rosa Clemente &amp;Jessica Care Moore Report Being Chased/Harassed By Police In #Ferguson http                          \n",
       "68  My TL right now: Amber Amber Amber Mike Brown Mike Brown Amber Mike Brown Amber wtf Wiz Amber Amber Amber.                                      \n",
       "69  Anchor on @CNN wondering aloud why police aren't using water cannons in #Ferguson. Co-anchor not impressed  http                                \n",
       "70  \"Die meisten schwarzen Jugendlichen in den #USA werden von schwarzen Jugendlichen getötet\". -Zitat von der Trauerfeier für #MikeBrown&gt;#WDR5  \n",
       "71  Tellement fort ! RT @Breaking3zero: En une photo, pourquoi ce qui se passe à #Ferguson nous concerne tous. http                                 \n",
       "72  #EEUU Una autopsia revela que Michael Brown recibió el impacto de al menos seis balas, dos de ellas en la cabeza http:…                         \n",
       "73  Amazing image. RT @natedrug: Not Egypt, not Syria, not Turkey, not Iraq. This is #Ferguson, Missouri, USA. http                                 \n",
       "74  La autopsia revela que Michael Brown, quien estaba desarmado, fue baleado seis veces, dos en la cabeza #Ferguson http.…                         \n",
       "75  Michael Brown recibió el impacto de al menos seis balas, dos de ellas en la cabeza http http                                                    \n",
       "76  PHOTOS: Police fire tear gas near Al Jazeera crew, then disassemble the gear after they flee. #Ferguson http RT @CassFM                         \n",
       "77  Whoa. MT @itsRawanE: #Ferguson has reached Istanbul. From a soccer match: RT@G_Coppo: Besiktas fans. Istanbul, Turkey http…                     \n",
       "78  Speechless RT @YourAnonGlobal: Not Egypt, not Syria, not Turkey, not Iraq. This is #Ferguson, Missouri, USA. http                               \n",
       "79  Autopsia publicada por @nytimes revela que Michael Brown recibió dos disparos en la cabeza &gt;&gt;&gt;http http://…                            "
      ]
     },
     "execution_count": 36,
     "metadata": {},
     "output_type": "execute_result"
    }
   ],
   "source": [
    "pd.set_option('display.max_colwidth', -1)\n",
    "pd.set_option('display.max_rows', 500)\n",
    "# Group top 5 sentences under each topic\n",
    "sent_topics_sorteddf_mallet = pd.DataFrame()\n",
    "\n",
    "sent_topics_outdf_grpd = df_topic_sents_keywords.groupby('Dominant_Topic')\n",
    "\n",
    "for i, grp in sent_topics_outdf_grpd:\n",
    "    sent_topics_sorteddf_mallet = pd.concat([sent_topics_sorteddf_mallet, \n",
    "                                             grp.sort_values(['Perc_Contribution'], ascending=[0]).head(10)], \n",
    "                                            axis=0)\n",
    "\n",
    "# Reset Index    \n",
    "sent_topics_sorteddf_mallet.reset_index(drop=True, inplace=True)\n",
    "\n",
    "# Format\n",
    "sent_topics_sorteddf_mallet.columns = ['Topic_Num', \"Topic_Perc_Contrib\", \"Keywords\", \"Text\"]\n",
    "\n",
    "# Show\n",
    "sent_topics_sorteddf_mallet"
   ]
  },
  {
   "cell_type": "markdown",
   "metadata": {},
   "source": [
    "### Topic Distribution"
   ]
  },
  {
   "cell_type": "code",
   "execution_count": 37,
   "metadata": {},
   "outputs": [
    {
     "data": {
      "text/html": [
       "<div>\n",
       "<style scoped>\n",
       "    .dataframe tbody tr th:only-of-type {\n",
       "        vertical-align: middle;\n",
       "    }\n",
       "\n",
       "    .dataframe tbody tr th {\n",
       "        vertical-align: top;\n",
       "    }\n",
       "\n",
       "    .dataframe thead th {\n",
       "        text-align: right;\n",
       "    }\n",
       "</style>\n",
       "<table border=\"1\" class=\"dataframe\">\n",
       "  <thead>\n",
       "    <tr style=\"text-align: right;\">\n",
       "      <th></th>\n",
       "      <th>Dominant_Topic</th>\n",
       "      <th>Topic_Keywords</th>\n",
       "      <th>Num_Documents</th>\n",
       "      <th>Perc_Documents</th>\n",
       "    </tr>\n",
       "  </thead>\n",
       "  <tbody>\n",
       "    <tr>\n",
       "      <td>0.0</td>\n",
       "      <td>0.0</td>\n",
       "      <td>people, black, white, happen, make, america, ferguson, thing, good, tweet</td>\n",
       "      <td>6886</td>\n",
       "      <td>0.1509</td>\n",
       "    </tr>\n",
       "    <tr>\n",
       "      <td>1.0</td>\n",
       "      <td>1.0</td>\n",
       "      <td>michael_brown, mike_brown, shoot, officer, kill, cop, video, death, man, shot</td>\n",
       "      <td>7397</td>\n",
       "      <td>0.1621</td>\n",
       "    </tr>\n",
       "    <tr>\n",
       "      <td>2.0</td>\n",
       "      <td>2.0</td>\n",
       "      <td>ferguson, http, call, obama, community, riot, pd, michael_brown, funeral, loot</td>\n",
       "      <td>5170</td>\n",
       "      <td>0.1133</td>\n",
       "    </tr>\n",
       "    <tr>\n",
       "      <td>3.0</td>\n",
       "      <td>3.0</td>\n",
       "      <td>ferguson, http, michaelbrown, justice, mikebrown, missouri, family, today, day, peace</td>\n",
       "      <td>5328</td>\n",
       "      <td>0.1167</td>\n",
       "    </tr>\n",
       "    <tr>\n",
       "      <td>4.0</td>\n",
       "      <td>4.0</td>\n",
       "      <td>police, ferguson, arrest, protester, cop, medium, tear_gas, reporter, journalist, gun</td>\n",
       "      <td>5933</td>\n",
       "      <td>0.1300</td>\n",
       "    </tr>\n",
       "    <tr>\n",
       "      <td>5.0</td>\n",
       "      <td>5.0</td>\n",
       "      <td>ferguson, http, mikebrown, protest, stop, tonight, support, show, story, stl</td>\n",
       "      <td>4839</td>\n",
       "      <td>0.1060</td>\n",
       "    </tr>\n",
       "    <tr>\n",
       "      <td>6.0</td>\n",
       "      <td>6.0</td>\n",
       "      <td>ferguson, police, cnn, live, watch, report, protestor, stand, back, crowd</td>\n",
       "      <td>5227</td>\n",
       "      <td>0.1145</td>\n",
       "    </tr>\n",
       "    <tr>\n",
       "      <td>7.0</td>\n",
       "      <td>7.0</td>\n",
       "      <td>http, ferguson, rt, photo, march, real, antoniofrench, mo, last_night, solidarity</td>\n",
       "      <td>4865</td>\n",
       "      <td>0.1066</td>\n",
       "    </tr>\n",
       "  </tbody>\n",
       "</table>\n",
       "</div>"
      ],
      "text/plain": [
       "     Dominant_Topic  \\\n",
       "0.0  0.0              \n",
       "1.0  1.0              \n",
       "2.0  2.0              \n",
       "3.0  3.0              \n",
       "4.0  4.0              \n",
       "5.0  5.0              \n",
       "6.0  6.0              \n",
       "7.0  7.0              \n",
       "\n",
       "                                                                            Topic_Keywords  \\\n",
       "0.0  people, black, white, happen, make, america, ferguson, thing, good, tweet               \n",
       "1.0  michael_brown, mike_brown, shoot, officer, kill, cop, video, death, man, shot           \n",
       "2.0  ferguson, http, call, obama, community, riot, pd, michael_brown, funeral, loot          \n",
       "3.0  ferguson, http, michaelbrown, justice, mikebrown, missouri, family, today, day, peace   \n",
       "4.0  police, ferguson, arrest, protester, cop, medium, tear_gas, reporter, journalist, gun   \n",
       "5.0  ferguson, http, mikebrown, protest, stop, tonight, support, show, story, stl            \n",
       "6.0  ferguson, police, cnn, live, watch, report, protestor, stand, back, crowd               \n",
       "7.0  http, ferguson, rt, photo, march, real, antoniofrench, mo, last_night, solidarity       \n",
       "\n",
       "     Num_Documents  Perc_Documents  \n",
       "0.0  6886           0.1509          \n",
       "1.0  7397           0.1621          \n",
       "2.0  5170           0.1133          \n",
       "3.0  5328           0.1167          \n",
       "4.0  5933           0.1300          \n",
       "5.0  4839           0.1060          \n",
       "6.0  5227           0.1145          \n",
       "7.0  4865           0.1066          "
      ]
     },
     "execution_count": 37,
     "metadata": {},
     "output_type": "execute_result"
    }
   ],
   "source": [
    "# Number of Documents for Each Topic\n",
    "topic_counts = df_topic_sents_keywords['Dominant_Topic'].value_counts().sort_index()\n",
    "\n",
    "# Percentage of Documents for Each Topic\n",
    "topic_contribution = round(topic_counts/topic_counts.sum(), 4).sort_index()\n",
    "\n",
    "# Topic Number and Keywords\n",
    "topic_num_keywords = df_topic_sents_keywords[['Dominant_Topic', 'Topic_Keywords']].drop_duplicates()\\\n",
    "    .sort_values('Dominant_Topic').reset_index(drop=True)\n",
    "\n",
    "# Concatenate Column wise\n",
    "df_dominant_topics = pd.concat([topic_num_keywords, topic_counts, topic_contribution], axis=1)\n",
    "\n",
    "# Change Column names\n",
    "df_dominant_topics.columns = ['Dominant_Topic', 'Topic_Keywords', 'Num_Documents', 'Perc_Documents']\n",
    "\n",
    "# Show\n",
    "df_dominant_topics"
   ]
  },
  {
   "cell_type": "code",
   "execution_count": null,
   "metadata": {},
   "outputs": [],
   "source": []
  }
 ],
 "metadata": {
  "kernelspec": {
   "display_name": "Python 3",
   "language": "python",
   "name": "python3"
  },
  "language_info": {
   "codemirror_mode": {
    "name": "ipython",
    "version": 3
   },
   "file_extension": ".py",
   "mimetype": "text/x-python",
   "name": "python",
   "nbconvert_exporter": "python",
   "pygments_lexer": "ipython3",
   "version": "3.7.4"
  }
 },
 "nbformat": 4,
 "nbformat_minor": 2
}
