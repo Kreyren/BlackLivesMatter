{
 "cells": [
  {
   "cell_type": "markdown",
   "metadata": {},
   "source": [
    "# Exploratory Data Analysis"
   ]
  },
  {
   "cell_type": "markdown",
   "metadata": {},
   "source": [
    "### Let's import the usual libraries"
   ]
  },
  {
   "cell_type": "code",
   "execution_count": 33,
   "metadata": {},
   "outputs": [],
   "source": [
    "import pandas as pd\n",
    "import numpy as np\n",
    "import matplotlib.pyplot as plt\n",
    "plt.style.use('fivethirtyeight')"
   ]
  },
  {
   "cell_type": "code",
   "execution_count": 2,
   "metadata": {},
   "outputs": [],
   "source": [
    "from google.cloud import bigquery\n",
    "from google.oauth2 import service_account\n",
    "%load_ext google.cloud.bigquery"
   ]
  },
  {
   "cell_type": "markdown",
   "metadata": {},
   "source": [
    "## Let's load credentials"
   ]
  },
  {
   "cell_type": "code",
   "execution_count": 3,
   "metadata": {},
   "outputs": [
    {
     "name": "stdout",
     "output_type": "stream",
     "text": [
      "env: GOOGLE_APPLICATION_CREDENTIALS=../dsi-capstone-f19-group-1-198add732865.json\n"
     ]
    }
   ],
   "source": [
    "%env GOOGLE_APPLICATION_CREDENTIALS = ../dsi-capstone-f19-group-1-198add732865.json"
   ]
  },
  {
   "cell_type": "markdown",
   "metadata": {},
   "source": [
    "## Let's explore the table and see what's interesting"
   ]
  },
  {
   "cell_type": "code",
   "execution_count": 9,
   "metadata": {},
   "outputs": [],
   "source": [
    "%%bigquery df_s\n",
    "SELECT * from tweets.all_valid_tweets limit 10;"
   ]
  },
  {
   "cell_type": "code",
   "execution_count": 15,
   "metadata": {},
   "outputs": [
    {
     "data": {
      "text/html": [
       "<div>\n",
       "<style scoped>\n",
       "    .dataframe tbody tr th:only-of-type {\n",
       "        vertical-align: middle;\n",
       "    }\n",
       "\n",
       "    .dataframe tbody tr th {\n",
       "        vertical-align: top;\n",
       "    }\n",
       "\n",
       "    .dataframe thead th {\n",
       "        text-align: right;\n",
       "    }\n",
       "</style>\n",
       "<table border=\"1\" class=\"dataframe\">\n",
       "  <thead>\n",
       "    <tr style=\"text-align: right;\">\n",
       "      <th></th>\n",
       "      <th>contributors</th>\n",
       "      <th>coordinates</th>\n",
       "      <th>created_at</th>\n",
       "      <th>display_text_range</th>\n",
       "      <th>favorite_count</th>\n",
       "      <th>favorited</th>\n",
       "      <th>full_text</th>\n",
       "      <th>latitude</th>\n",
       "      <th>longitude</th>\n",
       "      <th>id</th>\n",
       "      <th>...</th>\n",
       "      <th>victor_white</th>\n",
       "      <th>jordan_baker</th>\n",
       "      <th>yvette_smith</th>\n",
       "      <th>dante_parker</th>\n",
       "      <th>mckenzie_cochran</th>\n",
       "      <th>tyree_woodson</th>\n",
       "      <th>other_murders_august</th>\n",
       "      <th>other_murders_before</th>\n",
       "      <th>full_text_cleaned</th>\n",
       "      <th>is_retweet</th>\n",
       "    </tr>\n",
       "  </thead>\n",
       "  <tbody>\n",
       "    <tr>\n",
       "      <th>0</th>\n",
       "      <td></td>\n",
       "      <td></td>\n",
       "      <td>2014-08-18 23:28:47+00:00</td>\n",
       "      <td>[0, 136]</td>\n",
       "      <td>0</td>\n",
       "      <td>False</td>\n",
       "      <td>Peace to the brother who saw his friend killed...</td>\n",
       "      <td>None</td>\n",
       "      <td>None</td>\n",
       "      <td>501511051817402400</td>\n",
       "      <td>...</td>\n",
       "      <td>0</td>\n",
       "      <td>0</td>\n",
       "      <td>0</td>\n",
       "      <td>0</td>\n",
       "      <td>0</td>\n",
       "      <td>0</td>\n",
       "      <td>0</td>\n",
       "      <td>0</td>\n",
       "      <td>peace to the brother who saw his friend killed...</td>\n",
       "      <td>False</td>\n",
       "    </tr>\n",
       "    <tr>\n",
       "      <th>1</th>\n",
       "      <td></td>\n",
       "      <td></td>\n",
       "      <td>2014-08-15 01:42:42+00:00</td>\n",
       "      <td>[0, 76]</td>\n",
       "      <td>0</td>\n",
       "      <td>False</td>\n",
       "      <td>RT @ryanjreilly: #Ferguson last night versus t...</td>\n",
       "      <td>None</td>\n",
       "      <td>None</td>\n",
       "      <td>500095205320560640</td>\n",
       "      <td>...</td>\n",
       "      <td>0</td>\n",
       "      <td>0</td>\n",
       "      <td>0</td>\n",
       "      <td>0</td>\n",
       "      <td>0</td>\n",
       "      <td>0</td>\n",
       "      <td>0</td>\n",
       "      <td>0</td>\n",
       "      <td>ferguson last night versus tonight $URL$</td>\n",
       "      <td>True</td>\n",
       "    </tr>\n",
       "    <tr>\n",
       "      <th>2</th>\n",
       "      <td></td>\n",
       "      <td></td>\n",
       "      <td>2014-08-10 04:07:21+00:00</td>\n",
       "      <td>[0, 138]</td>\n",
       "      <td>0</td>\n",
       "      <td>False</td>\n",
       "      <td>See what they do to concerned citizens, while ...</td>\n",
       "      <td>None</td>\n",
       "      <td>None</td>\n",
       "      <td>498319665794646000</td>\n",
       "      <td>...</td>\n",
       "      <td>0</td>\n",
       "      <td>0</td>\n",
       "      <td>0</td>\n",
       "      <td>0</td>\n",
       "      <td>0</td>\n",
       "      <td>0</td>\n",
       "      <td>0</td>\n",
       "      <td>0</td>\n",
       "      <td>see what they do to concerned citizens while i...</td>\n",
       "      <td>False</td>\n",
       "    </tr>\n",
       "    <tr>\n",
       "      <th>3</th>\n",
       "      <td></td>\n",
       "      <td></td>\n",
       "      <td>2014-08-15 15:38:15+00:00</td>\n",
       "      <td>[0, 115]</td>\n",
       "      <td>1</td>\n",
       "      <td>False</td>\n",
       "      <td>@Mr_GQ_ It's like 2 months earlier. Where's th...</td>\n",
       "      <td>None</td>\n",
       "      <td>None</td>\n",
       "      <td>500305475993227260</td>\n",
       "      <td>...</td>\n",
       "      <td>0</td>\n",
       "      <td>0</td>\n",
       "      <td>0</td>\n",
       "      <td>0</td>\n",
       "      <td>0</td>\n",
       "      <td>0</td>\n",
       "      <td>0</td>\n",
       "      <td>0</td>\n",
       "      <td>its like 2 months earlier wheres the hat? did ...</td>\n",
       "      <td>False</td>\n",
       "    </tr>\n",
       "    <tr>\n",
       "      <th>4</th>\n",
       "      <td></td>\n",
       "      <td></td>\n",
       "      <td>2014-08-25 16:55:18+00:00</td>\n",
       "      <td>[0, 140]</td>\n",
       "      <td>0</td>\n",
       "      <td>False</td>\n",
       "      <td>RT @CitizenRadio: Remember Tony Blair? He’s st...</td>\n",
       "      <td>None</td>\n",
       "      <td>None</td>\n",
       "      <td>503948746309517300</td>\n",
       "      <td>...</td>\n",
       "      <td>0</td>\n",
       "      <td>0</td>\n",
       "      <td>0</td>\n",
       "      <td>0</td>\n",
       "      <td>0</td>\n",
       "      <td>0</td>\n",
       "      <td>0</td>\n",
       "      <td>0</td>\n",
       "      <td>remember tony blair? he’s still awful huffpost...</td>\n",
       "      <td>True</td>\n",
       "    </tr>\n",
       "    <tr>\n",
       "      <th>5</th>\n",
       "      <td></td>\n",
       "      <td></td>\n",
       "      <td>2014-08-15 19:29:11+00:00</td>\n",
       "      <td>[0, 70]</td>\n",
       "      <td>0</td>\n",
       "      <td>False</td>\n",
       "      <td>RT @DatJuanDude: No Justice No Peace, Don't Tr...</td>\n",
       "      <td>None</td>\n",
       "      <td>None</td>\n",
       "      <td>500363591976247300</td>\n",
       "      <td>...</td>\n",
       "      <td>0</td>\n",
       "      <td>0</td>\n",
       "      <td>0</td>\n",
       "      <td>0</td>\n",
       "      <td>0</td>\n",
       "      <td>0</td>\n",
       "      <td>0</td>\n",
       "      <td>0</td>\n",
       "      <td>no justice no peace dont trust the police ferg...</td>\n",
       "      <td>True</td>\n",
       "    </tr>\n",
       "    <tr>\n",
       "      <th>6</th>\n",
       "      <td></td>\n",
       "      <td></td>\n",
       "      <td>2014-08-13 16:57:45+00:00</td>\n",
       "      <td>[0, 39]</td>\n",
       "      <td>4</td>\n",
       "      <td>False</td>\n",
       "      <td>“@DOELO_239: JUSTICE FOR #MIKEBROWN” #🙌</td>\n",
       "      <td>None</td>\n",
       "      <td>None</td>\n",
       "      <td>499600706975055900</td>\n",
       "      <td>...</td>\n",
       "      <td>0</td>\n",
       "      <td>0</td>\n",
       "      <td>0</td>\n",
       "      <td>0</td>\n",
       "      <td>0</td>\n",
       "      <td>0</td>\n",
       "      <td>0</td>\n",
       "      <td>0</td>\n",
       "      <td>“ justice for mikebrown” 🙌</td>\n",
       "      <td>True</td>\n",
       "    </tr>\n",
       "    <tr>\n",
       "      <th>7</th>\n",
       "      <td></td>\n",
       "      <td></td>\n",
       "      <td>2014-08-14 15:43:13+00:00</td>\n",
       "      <td>[0, 102]</td>\n",
       "      <td>0</td>\n",
       "      <td>False</td>\n",
       "      <td>RT @ndilettante: PLEASE RT THERE IS TOO MUCH M...</td>\n",
       "      <td>None</td>\n",
       "      <td>None</td>\n",
       "      <td>499944337435013100</td>\n",
       "      <td>...</td>\n",
       "      <td>0</td>\n",
       "      <td>0</td>\n",
       "      <td>0</td>\n",
       "      <td>0</td>\n",
       "      <td>0</td>\n",
       "      <td>0</td>\n",
       "      <td>0</td>\n",
       "      <td>0</td>\n",
       "      <td>please rt there is too much misinformation goi...</td>\n",
       "      <td>True</td>\n",
       "    </tr>\n",
       "    <tr>\n",
       "      <th>8</th>\n",
       "      <td></td>\n",
       "      <td></td>\n",
       "      <td>2014-08-18 19:35:00+00:00</td>\n",
       "      <td>[0, 140]</td>\n",
       "      <td>0</td>\n",
       "      <td>False</td>\n",
       "      <td>RT @KathyAngel2: @Politics_PR @stphil The fact...</td>\n",
       "      <td>None</td>\n",
       "      <td>None</td>\n",
       "      <td>501452221230641150</td>\n",
       "      <td>...</td>\n",
       "      <td>0</td>\n",
       "      <td>0</td>\n",
       "      <td>0</td>\n",
       "      <td>0</td>\n",
       "      <td>0</td>\n",
       "      <td>0</td>\n",
       "      <td>0</td>\n",
       "      <td>0</td>\n",
       "      <td>the fact michaelbrown may have had marijuana i...</td>\n",
       "      <td>True</td>\n",
       "    </tr>\n",
       "    <tr>\n",
       "      <th>9</th>\n",
       "      <td></td>\n",
       "      <td></td>\n",
       "      <td>2014-08-18 02:49:27+00:00</td>\n",
       "      <td>[0, 87]</td>\n",
       "      <td>0</td>\n",
       "      <td>False</td>\n",
       "      <td>RT @PDPJ: #Ferguson 5 ambulances being brought...</td>\n",
       "      <td>None</td>\n",
       "      <td>None</td>\n",
       "      <td>501199165490081800</td>\n",
       "      <td>...</td>\n",
       "      <td>0</td>\n",
       "      <td>0</td>\n",
       "      <td>0</td>\n",
       "      <td>0</td>\n",
       "      <td>0</td>\n",
       "      <td>0</td>\n",
       "      <td>0</td>\n",
       "      <td>0</td>\n",
       "      <td>ferguson 5 ambulances being brought into stagi...</td>\n",
       "      <td>True</td>\n",
       "    </tr>\n",
       "  </tbody>\n",
       "</table>\n",
       "<p>10 rows × 97 columns</p>\n",
       "</div>"
      ],
      "text/plain": [
       "  contributors coordinates                created_at display_text_range  \\\n",
       "0                          2014-08-18 23:28:47+00:00           [0, 136]   \n",
       "1                          2014-08-15 01:42:42+00:00            [0, 76]   \n",
       "2                          2014-08-10 04:07:21+00:00           [0, 138]   \n",
       "3                          2014-08-15 15:38:15+00:00           [0, 115]   \n",
       "4                          2014-08-25 16:55:18+00:00           [0, 140]   \n",
       "5                          2014-08-15 19:29:11+00:00            [0, 70]   \n",
       "6                          2014-08-13 16:57:45+00:00            [0, 39]   \n",
       "7                          2014-08-14 15:43:13+00:00           [0, 102]   \n",
       "8                          2014-08-18 19:35:00+00:00           [0, 140]   \n",
       "9                          2014-08-18 02:49:27+00:00            [0, 87]   \n",
       "\n",
       "   favorite_count  favorited  \\\n",
       "0               0      False   \n",
       "1               0      False   \n",
       "2               0      False   \n",
       "3               1      False   \n",
       "4               0      False   \n",
       "5               0      False   \n",
       "6               4      False   \n",
       "7               0      False   \n",
       "8               0      False   \n",
       "9               0      False   \n",
       "\n",
       "                                           full_text latitude longitude  \\\n",
       "0  Peace to the brother who saw his friend killed...     None      None   \n",
       "1  RT @ryanjreilly: #Ferguson last night versus t...     None      None   \n",
       "2  See what they do to concerned citizens, while ...     None      None   \n",
       "3  @Mr_GQ_ It's like 2 months earlier. Where's th...     None      None   \n",
       "4  RT @CitizenRadio: Remember Tony Blair? He’s st...     None      None   \n",
       "5  RT @DatJuanDude: No Justice No Peace, Don't Tr...     None      None   \n",
       "6            “@DOELO_239: JUSTICE FOR #MIKEBROWN” #🙌     None      None   \n",
       "7  RT @ndilettante: PLEASE RT THERE IS TOO MUCH M...     None      None   \n",
       "8  RT @KathyAngel2: @Politics_PR @stphil The fact...     None      None   \n",
       "9  RT @PDPJ: #Ferguson 5 ambulances being brought...     None      None   \n",
       "\n",
       "                   id    ...     victor_white jordan_baker  yvette_smith  \\\n",
       "0  501511051817402400    ...                0            0             0   \n",
       "1  500095205320560640    ...                0            0             0   \n",
       "2  498319665794646000    ...                0            0             0   \n",
       "3  500305475993227260    ...                0            0             0   \n",
       "4  503948746309517300    ...                0            0             0   \n",
       "5  500363591976247300    ...                0            0             0   \n",
       "6  499600706975055900    ...                0            0             0   \n",
       "7  499944337435013100    ...                0            0             0   \n",
       "8  501452221230641150    ...                0            0             0   \n",
       "9  501199165490081800    ...                0            0             0   \n",
       "\n",
       "  dante_parker  mckenzie_cochran tyree_woodson  other_murders_august  \\\n",
       "0            0                 0             0                     0   \n",
       "1            0                 0             0                     0   \n",
       "2            0                 0             0                     0   \n",
       "3            0                 0             0                     0   \n",
       "4            0                 0             0                     0   \n",
       "5            0                 0             0                     0   \n",
       "6            0                 0             0                     0   \n",
       "7            0                 0             0                     0   \n",
       "8            0                 0             0                     0   \n",
       "9            0                 0             0                     0   \n",
       "\n",
       "  other_murders_before                                  full_text_cleaned  \\\n",
       "0                    0  peace to the brother who saw his friend killed...   \n",
       "1                    0           ferguson last night versus tonight $URL$   \n",
       "2                    0  see what they do to concerned citizens while i...   \n",
       "3                    0  its like 2 months earlier wheres the hat? did ...   \n",
       "4                    0  remember tony blair? he’s still awful huffpost...   \n",
       "5                    0  no justice no peace dont trust the police ferg...   \n",
       "6                    0                         “ justice for mikebrown” 🙌   \n",
       "7                    0  please rt there is too much misinformation goi...   \n",
       "8                    0  the fact michaelbrown may have had marijuana i...   \n",
       "9                    0  ferguson 5 ambulances being brought into stagi...   \n",
       "\n",
       "  is_retweet  \n",
       "0      False  \n",
       "1       True  \n",
       "2      False  \n",
       "3      False  \n",
       "4       True  \n",
       "5       True  \n",
       "6       True  \n",
       "7       True  \n",
       "8       True  \n",
       "9       True  \n",
       "\n",
       "[10 rows x 97 columns]"
      ]
     },
     "execution_count": 15,
     "metadata": {},
     "output_type": "execute_result"
    }
   ],
   "source": [
    "df_s"
   ]
  },
  {
   "cell_type": "code",
   "execution_count": 18,
   "metadata": {},
   "outputs": [
    {
     "name": "stdout",
     "output_type": "stream",
     "text": [
      "<class 'pandas.core.frame.DataFrame'>\n",
      "RangeIndex: 10 entries, 0 to 9\n",
      "Data columns (total 97 columns):\n",
      "contributors                               10 non-null object\n",
      "coordinates                                10 non-null object\n",
      "created_at                                 10 non-null datetime64[ns, UTC]\n",
      "display_text_range                         10 non-null object\n",
      "favorite_count                             10 non-null int64\n",
      "favorited                                  10 non-null bool\n",
      "full_text                                  10 non-null object\n",
      "latitude                                   0 non-null object\n",
      "longitude                                  0 non-null object\n",
      "id                                         10 non-null int64\n",
      "id_str                                     10 non-null object\n",
      "in_reply_to_screen_name                    10 non-null object\n",
      "in_reply_to_status_id                      2 non-null float64\n",
      "in_reply_to_status_id_str                  2 non-null object\n",
      "in_reply_to_user_id                        2 non-null float64\n",
      "in_reply_to_user_id_str                    2 non-null object\n",
      "is_quote_status                            10 non-null bool\n",
      "lang                                       10 non-null object\n",
      "place                                      10 non-null object\n",
      "possibly_sensitive                         4 non-null object\n",
      "retweet_count                              10 non-null int64\n",
      "retweeted                                  10 non-null bool\n",
      "source                                     10 non-null object\n",
      "truncated                                  10 non-null bool\n",
      "retweeted_status                           10 non-null object\n",
      "extended_entities                          10 non-null object\n",
      "quoted_status_id                           0 non-null object\n",
      "quoted_status_id_str                       0 non-null object\n",
      "quoted_status_permalink                    10 non-null object\n",
      "quoted_status                              10 non-null object\n",
      "hashtags                                   10 non-null object\n",
      "symbols                                    10 non-null object\n",
      "urls                                       10 non-null object\n",
      "user_mentions                              10 non-null object\n",
      "media                                      10 non-null object\n",
      "user_id_mentions                           10 non-null object\n",
      "user_screen_name_mentions                  10 non-null object\n",
      "user_contributors_enabled                  10 non-null bool\n",
      "user_created_at                            10 non-null datetime64[ns, UTC]\n",
      "user_default_profile                       10 non-null bool\n",
      "user_default_profile_image                 10 non-null bool\n",
      "user_description                           10 non-null object\n",
      "user_entities                              10 non-null object\n",
      "user_favourites_count                      10 non-null int64\n",
      "user_follow_request_sent                   10 non-null bool\n",
      "user_followers_count                       10 non-null int64\n",
      "user_following                             10 non-null bool\n",
      "user_friends_count                         10 non-null int64\n",
      "user_geo_enabled                           10 non-null bool\n",
      "user_has_extended_profile                  10 non-null bool\n",
      "user_id                                    10 non-null int64\n",
      "user_id_str                                10 non-null object\n",
      "user_is_translation_enabled                10 non-null bool\n",
      "user_is_translator                         10 non-null bool\n",
      "user_lang                                  10 non-null object\n",
      "user_listed_count                          10 non-null int64\n",
      "user_location                              10 non-null object\n",
      "user_name                                  10 non-null object\n",
      "user_notifications                         10 non-null bool\n",
      "user_profile_background_color              10 non-null object\n",
      "user_profile_background_image_url          10 non-null object\n",
      "user_profile_background_image_url_https    10 non-null object\n",
      "user_profile_background_tile               10 non-null bool\n",
      "user_profile_image_url                     10 non-null object\n",
      "user_profile_image_url_https               10 non-null object\n",
      "user_profile_link_color                    10 non-null object\n",
      "user_profile_sidebar_border_color          10 non-null object\n",
      "user_profile_sidebar_fill_color            10 non-null object\n",
      "user_profile_text_color                    10 non-null object\n",
      "user_profile_use_background_image          10 non-null bool\n",
      "user_protected                             10 non-null bool\n",
      "user_screen_name                           10 non-null object\n",
      "user_statuses_count                        10 non-null int64\n",
      "user_time_zone                             10 non-null object\n",
      "user_translator_type                       10 non-null object\n",
      "user_url                                   10 non-null object\n",
      "user_utc_offset                            10 non-null object\n",
      "user_verified                              10 non-null bool\n",
      "user_profile_banner_url                    10 non-null object\n",
      "day_of_tweet                               10 non-null int64\n",
      "ferguson_ht                                10 non-null int64\n",
      "michael_brown                              10 non-null int64\n",
      "blm                                        10 non-null int64\n",
      "eric_garner                                10 non-null int64\n",
      "john_crawford                              10 non-null int64\n",
      "ezell_ford                                 10 non-null int64\n",
      "kajieme_powell                             10 non-null int64\n",
      "victor_white                               10 non-null int64\n",
      "jordan_baker                               10 non-null int64\n",
      "yvette_smith                               10 non-null int64\n",
      "dante_parker                               10 non-null int64\n",
      "mckenzie_cochran                           10 non-null int64\n",
      "tyree_woodson                              10 non-null int64\n",
      "other_murders_august                       10 non-null int64\n",
      "other_murders_before                       10 non-null int64\n",
      "full_text_cleaned                          10 non-null object\n",
      "is_retweet                                 10 non-null bool\n",
      "dtypes: bool(19), datetime64[ns, UTC](2), float64(2), int64(25), object(49)\n",
      "memory usage: 6.4+ KB\n"
     ]
    }
   ],
   "source": [
    "df_s.info()"
   ]
  },
  {
   "cell_type": "markdown",
   "metadata": {},
   "source": [
    "With the info function and the sample, I think it'd be interesting to dive deeper into some questions. "
   ]
  },
  {
   "cell_type": "markdown",
   "metadata": {},
   "source": [
    "- How frequent are tweets?\n",
    "- How frequent are retweets?\n",
    "- User Location and place to understand if some regions drive more conversation\n",
    "- Sensitive as a proxy for sentiment\n",
    "- Hashtags as a proxy for topic modeling"
   ]
  },
  {
   "cell_type": "markdown",
   "metadata": {},
   "source": [
    "### Frequency of Tweets"
   ]
  },
  {
   "cell_type": "code",
   "execution_count": 183,
   "metadata": {},
   "outputs": [],
   "source": [
    "%%bigquery df_ft\n",
    "SELECT day_of_tweet, count(*) as day_tweets,\n",
    "    count(*)/1440 as tpm\n",
    "    from tweets.all_valid_tweets\n",
    "    where is_retweet = False\n",
    "    group by day_of_tweet\n",
    "    order by day_of_tweet;"
   ]
  },
  {
   "cell_type": "code",
   "execution_count": 111,
   "metadata": {},
   "outputs": [
    {
     "data": {
      "text/html": [
       "<div>\n",
       "<style scoped>\n",
       "    .dataframe tbody tr th:only-of-type {\n",
       "        vertical-align: middle;\n",
       "    }\n",
       "\n",
       "    .dataframe tbody tr th {\n",
       "        vertical-align: top;\n",
       "    }\n",
       "\n",
       "    .dataframe thead th {\n",
       "        text-align: right;\n",
       "    }\n",
       "</style>\n",
       "<table border=\"1\" class=\"dataframe\">\n",
       "  <thead>\n",
       "    <tr style=\"text-align: right;\">\n",
       "      <th></th>\n",
       "      <th>day_of_tweet</th>\n",
       "      <th>day_tweets</th>\n",
       "      <th>tpm</th>\n",
       "    </tr>\n",
       "  </thead>\n",
       "  <tbody>\n",
       "    <tr>\n",
       "      <th>0</th>\n",
       "      <td>1</td>\n",
       "      <td>3887</td>\n",
       "      <td>2.699306</td>\n",
       "    </tr>\n",
       "    <tr>\n",
       "      <th>1</th>\n",
       "      <td>2</td>\n",
       "      <td>2967</td>\n",
       "      <td>2.060417</td>\n",
       "    </tr>\n",
       "    <tr>\n",
       "      <th>2</th>\n",
       "      <td>3</td>\n",
       "      <td>2162</td>\n",
       "      <td>1.501389</td>\n",
       "    </tr>\n",
       "    <tr>\n",
       "      <th>3</th>\n",
       "      <td>4</td>\n",
       "      <td>1947</td>\n",
       "      <td>1.352083</td>\n",
       "    </tr>\n",
       "    <tr>\n",
       "      <th>4</th>\n",
       "      <td>5</td>\n",
       "      <td>1692</td>\n",
       "      <td>1.175000</td>\n",
       "    </tr>\n",
       "    <tr>\n",
       "      <th>5</th>\n",
       "      <td>6</td>\n",
       "      <td>1428</td>\n",
       "      <td>0.991667</td>\n",
       "    </tr>\n",
       "    <tr>\n",
       "      <th>6</th>\n",
       "      <td>7</td>\n",
       "      <td>1057</td>\n",
       "      <td>0.734028</td>\n",
       "    </tr>\n",
       "    <tr>\n",
       "      <th>7</th>\n",
       "      <td>8</td>\n",
       "      <td>896</td>\n",
       "      <td>0.622222</td>\n",
       "    </tr>\n",
       "    <tr>\n",
       "      <th>8</th>\n",
       "      <td>9</td>\n",
       "      <td>6496</td>\n",
       "      <td>4.511111</td>\n",
       "    </tr>\n",
       "    <tr>\n",
       "      <th>9</th>\n",
       "      <td>10</td>\n",
       "      <td>32844</td>\n",
       "      <td>22.808333</td>\n",
       "    </tr>\n",
       "    <tr>\n",
       "      <th>10</th>\n",
       "      <td>11</td>\n",
       "      <td>68366</td>\n",
       "      <td>47.476389</td>\n",
       "    </tr>\n",
       "    <tr>\n",
       "      <th>11</th>\n",
       "      <td>12</td>\n",
       "      <td>60946</td>\n",
       "      <td>42.323611</td>\n",
       "    </tr>\n",
       "    <tr>\n",
       "      <th>12</th>\n",
       "      <td>13</td>\n",
       "      <td>144513</td>\n",
       "      <td>100.356250</td>\n",
       "    </tr>\n",
       "    <tr>\n",
       "      <th>13</th>\n",
       "      <td>14</td>\n",
       "      <td>237779</td>\n",
       "      <td>165.124306</td>\n",
       "    </tr>\n",
       "    <tr>\n",
       "      <th>14</th>\n",
       "      <td>15</td>\n",
       "      <td>158626</td>\n",
       "      <td>110.156944</td>\n",
       "    </tr>\n",
       "    <tr>\n",
       "      <th>15</th>\n",
       "      <td>16</td>\n",
       "      <td>97831</td>\n",
       "      <td>67.938194</td>\n",
       "    </tr>\n",
       "    <tr>\n",
       "      <th>16</th>\n",
       "      <td>17</td>\n",
       "      <td>161789</td>\n",
       "      <td>112.353472</td>\n",
       "    </tr>\n",
       "    <tr>\n",
       "      <th>17</th>\n",
       "      <td>18</td>\n",
       "      <td>236768</td>\n",
       "      <td>164.422222</td>\n",
       "    </tr>\n",
       "    <tr>\n",
       "      <th>18</th>\n",
       "      <td>19</td>\n",
       "      <td>186077</td>\n",
       "      <td>129.220139</td>\n",
       "    </tr>\n",
       "    <tr>\n",
       "      <th>19</th>\n",
       "      <td>20</td>\n",
       "      <td>131137</td>\n",
       "      <td>91.067361</td>\n",
       "    </tr>\n",
       "    <tr>\n",
       "      <th>20</th>\n",
       "      <td>21</td>\n",
       "      <td>84418</td>\n",
       "      <td>58.623611</td>\n",
       "    </tr>\n",
       "    <tr>\n",
       "      <th>21</th>\n",
       "      <td>22</td>\n",
       "      <td>59164</td>\n",
       "      <td>41.086111</td>\n",
       "    </tr>\n",
       "    <tr>\n",
       "      <th>22</th>\n",
       "      <td>23</td>\n",
       "      <td>40825</td>\n",
       "      <td>28.350694</td>\n",
       "    </tr>\n",
       "    <tr>\n",
       "      <th>23</th>\n",
       "      <td>24</td>\n",
       "      <td>40592</td>\n",
       "      <td>28.188889</td>\n",
       "    </tr>\n",
       "    <tr>\n",
       "      <th>24</th>\n",
       "      <td>25</td>\n",
       "      <td>71377</td>\n",
       "      <td>49.567361</td>\n",
       "    </tr>\n",
       "    <tr>\n",
       "      <th>25</th>\n",
       "      <td>26</td>\n",
       "      <td>38571</td>\n",
       "      <td>26.785417</td>\n",
       "    </tr>\n",
       "    <tr>\n",
       "      <th>26</th>\n",
       "      <td>27</td>\n",
       "      <td>28559</td>\n",
       "      <td>19.832639</td>\n",
       "    </tr>\n",
       "    <tr>\n",
       "      <th>27</th>\n",
       "      <td>28</td>\n",
       "      <td>24834</td>\n",
       "      <td>17.245833</td>\n",
       "    </tr>\n",
       "    <tr>\n",
       "      <th>28</th>\n",
       "      <td>29</td>\n",
       "      <td>16964</td>\n",
       "      <td>11.780556</td>\n",
       "    </tr>\n",
       "    <tr>\n",
       "      <th>29</th>\n",
       "      <td>30</td>\n",
       "      <td>18686</td>\n",
       "      <td>12.976389</td>\n",
       "    </tr>\n",
       "    <tr>\n",
       "      <th>30</th>\n",
       "      <td>31</td>\n",
       "      <td>11065</td>\n",
       "      <td>7.684028</td>\n",
       "    </tr>\n",
       "  </tbody>\n",
       "</table>\n",
       "</div>"
      ],
      "text/plain": [
       "    day_of_tweet  day_tweets         tpm\n",
       "0              1        3887    2.699306\n",
       "1              2        2967    2.060417\n",
       "2              3        2162    1.501389\n",
       "3              4        1947    1.352083\n",
       "4              5        1692    1.175000\n",
       "5              6        1428    0.991667\n",
       "6              7        1057    0.734028\n",
       "7              8         896    0.622222\n",
       "8              9        6496    4.511111\n",
       "9             10       32844   22.808333\n",
       "10            11       68366   47.476389\n",
       "11            12       60946   42.323611\n",
       "12            13      144513  100.356250\n",
       "13            14      237779  165.124306\n",
       "14            15      158626  110.156944\n",
       "15            16       97831   67.938194\n",
       "16            17      161789  112.353472\n",
       "17            18      236768  164.422222\n",
       "18            19      186077  129.220139\n",
       "19            20      131137   91.067361\n",
       "20            21       84418   58.623611\n",
       "21            22       59164   41.086111\n",
       "22            23       40825   28.350694\n",
       "23            24       40592   28.188889\n",
       "24            25       71377   49.567361\n",
       "25            26       38571   26.785417\n",
       "26            27       28559   19.832639\n",
       "27            28       24834   17.245833\n",
       "28            29       16964   11.780556\n",
       "29            30       18686   12.976389\n",
       "30            31       11065    7.684028"
      ]
     },
     "execution_count": 111,
     "metadata": {},
     "output_type": "execute_result"
    }
   ],
   "source": [
    "df_ft"
   ]
  },
  {
   "cell_type": "code",
   "execution_count": 184,
   "metadata": {},
   "outputs": [
    {
     "data": {
      "text/plain": [
       "([<matplotlib.axis.XTick at 0x11ce920b8>,\n",
       "  <matplotlib.axis.XTick at 0x12452bc88>,\n",
       "  <matplotlib.axis.XTick at 0x1231868d0>,\n",
       "  <matplotlib.axis.XTick at 0x123155668>,\n",
       "  <matplotlib.axis.XTick at 0x123155da0>,\n",
       "  <matplotlib.axis.XTick at 0x1231712e8>,\n",
       "  <matplotlib.axis.XTick at 0x123171860>,\n",
       "  <matplotlib.axis.XTick at 0x11ce75ef0>,\n",
       "  <matplotlib.axis.XTick at 0x1231979e8>,\n",
       "  <matplotlib.axis.XTick at 0x123197e80>,\n",
       "  <matplotlib.axis.XTick at 0x11ce9a438>,\n",
       "  <matplotlib.axis.XTick at 0x11ce9a9b0>,\n",
       "  <matplotlib.axis.XTick at 0x11ce9af28>,\n",
       "  <matplotlib.axis.XTick at 0x123197ac8>,\n",
       "  <matplotlib.axis.XTick at 0x123189860>,\n",
       "  <matplotlib.axis.XTick at 0x1231b52b0>,\n",
       "  <matplotlib.axis.XTick at 0x1231b5828>,\n",
       "  <matplotlib.axis.XTick at 0x1231b5da0>,\n",
       "  <matplotlib.axis.XTick at 0x1231bd358>,\n",
       "  <matplotlib.axis.XTick at 0x1231bd8d0>,\n",
       "  <matplotlib.axis.XTick at 0x1231bde48>,\n",
       "  <matplotlib.axis.XTick at 0x1231bd860>,\n",
       "  <matplotlib.axis.XTick at 0x1231b5400>],\n",
       " <a list of 23 Text xticklabel objects>)"
      ]
     },
     "execution_count": 184,
     "metadata": {},
     "output_type": "execute_result"
    },
    {
     "data": {
      "image/png": "[encoded data removed]",
      "text/plain": [
       "<Figure size 1080x432 with 1 Axes>"
      ]
     },
     "metadata": {},
     "output_type": "display_data"
    }
   ],
   "source": [
    "df_ft = df_ft[8:]\n",
    "ax = df_ft.plot(x='day_of_tweet',\n",
    "             y='tpm',\n",
    "             kind='scatter',\n",
    "             figsize=(15,6),\n",
    "             label='Tweets per Minute')\n",
    "plt.xlabel('Day of August 2014')\n",
    "\n",
    "xticks = np.arange(9,32,1)\n",
    "plt.xticks(xticks)"
   ]
  },
  {
   "cell_type": "markdown",
   "metadata": {},
   "source": [
    "Original tweets seem to have spiked at nearly 160 tweets per minute on August 14th and 18th. It will be interesting to see what happened on those days."
   ]
  },
  {
   "cell_type": "markdown",
   "metadata": {},
   "source": [
    "### Frequency of Reweets"
   ]
  },
  {
   "cell_type": "code",
   "execution_count": 114,
   "metadata": {},
   "outputs": [],
   "source": [
    "%%bigquery df_fr\n",
    "SELECT day_of_tweet, count(*) as day_tweets,\n",
    "    count(*)/1440 as tpm\n",
    "    from tweets.all_valid_tweets\n",
    "    where is_retweet = True\n",
    "    group by day_of_tweet\n",
    "    order by day_of_tweet;"
   ]
  },
  {
   "cell_type": "code",
   "execution_count": 115,
   "metadata": {},
   "outputs": [
    {
     "data": {
      "text/html": [
       "<div>\n",
       "<style scoped>\n",
       "    .dataframe tbody tr th:only-of-type {\n",
       "        vertical-align: middle;\n",
       "    }\n",
       "\n",
       "    .dataframe tbody tr th {\n",
       "        vertical-align: top;\n",
       "    }\n",
       "\n",
       "    .dataframe thead th {\n",
       "        text-align: right;\n",
       "    }\n",
       "</style>\n",
       "<table border=\"1\" class=\"dataframe\">\n",
       "  <thead>\n",
       "    <tr style=\"text-align: right;\">\n",
       "      <th></th>\n",
       "      <th>day_of_tweet</th>\n",
       "      <th>day_tweets</th>\n",
       "      <th>tpm</th>\n",
       "    </tr>\n",
       "  </thead>\n",
       "  <tbody>\n",
       "    <tr>\n",
       "      <th>0</th>\n",
       "      <td>1</td>\n",
       "      <td>7510</td>\n",
       "      <td>5.215278</td>\n",
       "    </tr>\n",
       "    <tr>\n",
       "      <th>1</th>\n",
       "      <td>2</td>\n",
       "      <td>4122</td>\n",
       "      <td>2.862500</td>\n",
       "    </tr>\n",
       "    <tr>\n",
       "      <th>2</th>\n",
       "      <td>3</td>\n",
       "      <td>2585</td>\n",
       "      <td>1.795139</td>\n",
       "    </tr>\n",
       "    <tr>\n",
       "      <th>3</th>\n",
       "      <td>4</td>\n",
       "      <td>1747</td>\n",
       "      <td>1.213194</td>\n",
       "    </tr>\n",
       "    <tr>\n",
       "      <th>4</th>\n",
       "      <td>5</td>\n",
       "      <td>1346</td>\n",
       "      <td>0.934722</td>\n",
       "    </tr>\n",
       "    <tr>\n",
       "      <th>5</th>\n",
       "      <td>6</td>\n",
       "      <td>1842</td>\n",
       "      <td>1.279167</td>\n",
       "    </tr>\n",
       "    <tr>\n",
       "      <th>6</th>\n",
       "      <td>7</td>\n",
       "      <td>1759</td>\n",
       "      <td>1.221528</td>\n",
       "    </tr>\n",
       "    <tr>\n",
       "      <th>7</th>\n",
       "      <td>8</td>\n",
       "      <td>1318</td>\n",
       "      <td>0.915278</td>\n",
       "    </tr>\n",
       "    <tr>\n",
       "      <th>8</th>\n",
       "      <td>9</td>\n",
       "      <td>42817</td>\n",
       "      <td>29.734028</td>\n",
       "    </tr>\n",
       "    <tr>\n",
       "      <th>9</th>\n",
       "      <td>10</td>\n",
       "      <td>139555</td>\n",
       "      <td>96.913194</td>\n",
       "    </tr>\n",
       "    <tr>\n",
       "      <th>10</th>\n",
       "      <td>11</td>\n",
       "      <td>229693</td>\n",
       "      <td>159.509028</td>\n",
       "    </tr>\n",
       "    <tr>\n",
       "      <th>11</th>\n",
       "      <td>12</td>\n",
       "      <td>194161</td>\n",
       "      <td>134.834028</td>\n",
       "    </tr>\n",
       "    <tr>\n",
       "      <th>12</th>\n",
       "      <td>13</td>\n",
       "      <td>534422</td>\n",
       "      <td>371.126389</td>\n",
       "    </tr>\n",
       "    <tr>\n",
       "      <th>13</th>\n",
       "      <td>14</td>\n",
       "      <td>850774</td>\n",
       "      <td>590.815278</td>\n",
       "    </tr>\n",
       "    <tr>\n",
       "      <th>14</th>\n",
       "      <td>15</td>\n",
       "      <td>360377</td>\n",
       "      <td>250.261806</td>\n",
       "    </tr>\n",
       "    <tr>\n",
       "      <th>15</th>\n",
       "      <td>16</td>\n",
       "      <td>281619</td>\n",
       "      <td>195.568750</td>\n",
       "    </tr>\n",
       "    <tr>\n",
       "      <th>16</th>\n",
       "      <td>17</td>\n",
       "      <td>544071</td>\n",
       "      <td>377.827083</td>\n",
       "    </tr>\n",
       "    <tr>\n",
       "      <th>17</th>\n",
       "      <td>18</td>\n",
       "      <td>687282</td>\n",
       "      <td>477.279167</td>\n",
       "    </tr>\n",
       "    <tr>\n",
       "      <th>18</th>\n",
       "      <td>19</td>\n",
       "      <td>549927</td>\n",
       "      <td>381.893750</td>\n",
       "    </tr>\n",
       "    <tr>\n",
       "      <th>19</th>\n",
       "      <td>20</td>\n",
       "      <td>349530</td>\n",
       "      <td>242.729167</td>\n",
       "    </tr>\n",
       "    <tr>\n",
       "      <th>20</th>\n",
       "      <td>21</td>\n",
       "      <td>198012</td>\n",
       "      <td>137.508333</td>\n",
       "    </tr>\n",
       "    <tr>\n",
       "      <th>21</th>\n",
       "      <td>22</td>\n",
       "      <td>113461</td>\n",
       "      <td>78.792361</td>\n",
       "    </tr>\n",
       "    <tr>\n",
       "      <th>22</th>\n",
       "      <td>23</td>\n",
       "      <td>84282</td>\n",
       "      <td>58.529167</td>\n",
       "    </tr>\n",
       "    <tr>\n",
       "      <th>23</th>\n",
       "      <td>24</td>\n",
       "      <td>82523</td>\n",
       "      <td>57.307639</td>\n",
       "    </tr>\n",
       "    <tr>\n",
       "      <th>24</th>\n",
       "      <td>25</td>\n",
       "      <td>132352</td>\n",
       "      <td>91.911111</td>\n",
       "    </tr>\n",
       "    <tr>\n",
       "      <th>25</th>\n",
       "      <td>26</td>\n",
       "      <td>57236</td>\n",
       "      <td>39.747222</td>\n",
       "    </tr>\n",
       "    <tr>\n",
       "      <th>26</th>\n",
       "      <td>27</td>\n",
       "      <td>40035</td>\n",
       "      <td>27.802083</td>\n",
       "    </tr>\n",
       "    <tr>\n",
       "      <th>27</th>\n",
       "      <td>28</td>\n",
       "      <td>41477</td>\n",
       "      <td>28.803472</td>\n",
       "    </tr>\n",
       "    <tr>\n",
       "      <th>28</th>\n",
       "      <td>29</td>\n",
       "      <td>26236</td>\n",
       "      <td>18.219444</td>\n",
       "    </tr>\n",
       "    <tr>\n",
       "      <th>29</th>\n",
       "      <td>30</td>\n",
       "      <td>57374</td>\n",
       "      <td>39.843056</td>\n",
       "    </tr>\n",
       "    <tr>\n",
       "      <th>30</th>\n",
       "      <td>31</td>\n",
       "      <td>21067</td>\n",
       "      <td>14.629861</td>\n",
       "    </tr>\n",
       "  </tbody>\n",
       "</table>\n",
       "</div>"
      ],
      "text/plain": [
       "    day_of_tweet  day_tweets         tpm\n",
       "0              1        7510    5.215278\n",
       "1              2        4122    2.862500\n",
       "2              3        2585    1.795139\n",
       "3              4        1747    1.213194\n",
       "4              5        1346    0.934722\n",
       "5              6        1842    1.279167\n",
       "6              7        1759    1.221528\n",
       "7              8        1318    0.915278\n",
       "8              9       42817   29.734028\n",
       "9             10      139555   96.913194\n",
       "10            11      229693  159.509028\n",
       "11            12      194161  134.834028\n",
       "12            13      534422  371.126389\n",
       "13            14      850774  590.815278\n",
       "14            15      360377  250.261806\n",
       "15            16      281619  195.568750\n",
       "16            17      544071  377.827083\n",
       "17            18      687282  477.279167\n",
       "18            19      549927  381.893750\n",
       "19            20      349530  242.729167\n",
       "20            21      198012  137.508333\n",
       "21            22      113461   78.792361\n",
       "22            23       84282   58.529167\n",
       "23            24       82523   57.307639\n",
       "24            25      132352   91.911111\n",
       "25            26       57236   39.747222\n",
       "26            27       40035   27.802083\n",
       "27            28       41477   28.803472\n",
       "28            29       26236   18.219444\n",
       "29            30       57374   39.843056\n",
       "30            31       21067   14.629861"
      ]
     },
     "execution_count": 115,
     "metadata": {},
     "output_type": "execute_result"
    }
   ],
   "source": [
    "df_fr"
   ]
  },
  {
   "cell_type": "code",
   "execution_count": 185,
   "metadata": {},
   "outputs": [
    {
     "data": {
      "text/plain": [
       "([<matplotlib.axis.XTick at 0x1209b4240>,\n",
       "  <matplotlib.axis.XTick at 0x1231b10b8>,\n",
       "  <matplotlib.axis.XTick at 0x1209ed080>,\n",
       "  <matplotlib.axis.XTick at 0x1209ed3c8>,\n",
       "  <matplotlib.axis.XTick at 0x1209edb70>,\n",
       "  <matplotlib.axis.XTick at 0x1209ed7b8>,\n",
       "  <matplotlib.axis.XTick at 0x1209ed5f8>,\n",
       "  <matplotlib.axis.XTick at 0x1231b1860>,\n",
       "  <matplotlib.axis.XTick at 0x1209f3b38>,\n",
       "  <matplotlib.axis.XTick at 0x122002a20>,\n",
       "  <matplotlib.axis.XTick at 0x12200a320>,\n",
       "  <matplotlib.axis.XTick at 0x12200a898>,\n",
       "  <matplotlib.axis.XTick at 0x12200ae10>,\n",
       "  <matplotlib.axis.XTick at 0x122010ba8>,\n",
       "  <matplotlib.axis.XTick at 0x122010940>,\n",
       "  <matplotlib.axis.XTick at 0x122010d68>,\n",
       "  <matplotlib.axis.XTick at 0x122016b38>,\n",
       "  <matplotlib.axis.XTick at 0x1220102b0>,\n",
       "  <matplotlib.axis.XTick at 0x12200a128>,\n",
       "  <matplotlib.axis.XTick at 0x12200a828>,\n",
       "  <matplotlib.axis.XTick at 0x122016748>,\n",
       "  <matplotlib.axis.XTick at 0x12201ecf8>,\n",
       "  <matplotlib.axis.XTick at 0x12201e278>],\n",
       " <a list of 23 Text xticklabel objects>)"
      ]
     },
     "execution_count": 185,
     "metadata": {},
     "output_type": "execute_result"
    },
    {
     "data": {
      "image/png": "[encoded data removed]",
      "text/plain": [
       "<Figure size 1080x432 with 1 Axes>"
      ]
     },
     "metadata": {},
     "output_type": "display_data"
    }
   ],
   "source": [
    "df_fr = df_fr[8:]\n",
    "ax = df_fr.plot(x='day_of_tweet',\n",
    "             y='tpm',\n",
    "             kind='scatter',\n",
    "             figsize=(15,6),\n",
    "             label='Retweets per Minute')\n",
    "plt.xlabel('Day of August 2014')\n",
    "\n",
    "xticks = np.arange(9,32,1)\n",
    "plt.xticks(xticks)"
   ]
  },
  {
   "cell_type": "markdown",
   "metadata": {},
   "source": [
    "Retweet activity resembles that of original tweets, with maximums on August 14th and 18th. Since this type of activity only included sharing content created by someone else, it makes sense that the numbers are higher."
   ]
  },
  {
   "cell_type": "code",
   "execution_count": 133,
   "metadata": {},
   "outputs": [
    {
     "data": {
      "text/plain": [
       "([<matplotlib.axis.XTick at 0x11916acf8>,\n",
       "  <matplotlib.axis.XTick at 0x124ec8630>,\n",
       "  <matplotlib.axis.XTick at 0x119b08d30>,\n",
       "  <matplotlib.axis.XTick at 0x125db01d0>,\n",
       "  <matplotlib.axis.XTick at 0x125db0160>,\n",
       "  <matplotlib.axis.XTick at 0x125d994a8>,\n",
       "  <matplotlib.axis.XTick at 0x125d99400>,\n",
       "  <matplotlib.axis.XTick at 0x119176f98>,\n",
       "  <matplotlib.axis.XTick at 0x119b65c88>,\n",
       "  <matplotlib.axis.XTick at 0x116a9a668>,\n",
       "  <matplotlib.axis.XTick at 0x116a9acc0>,\n",
       "  <matplotlib.axis.XTick at 0x116a9a240>,\n",
       "  <matplotlib.axis.XTick at 0x113fbcb70>,\n",
       "  <matplotlib.axis.XTick at 0x113fbc710>,\n",
       "  <matplotlib.axis.XTick at 0x116aa3a90>,\n",
       "  <matplotlib.axis.XTick at 0x116aa3470>,\n",
       "  <matplotlib.axis.XTick at 0x116aa39b0>,\n",
       "  <matplotlib.axis.XTick at 0x116aa3278>,\n",
       "  <matplotlib.axis.XTick at 0x116a9a780>,\n",
       "  <matplotlib.axis.XTick at 0x119b65ba8>,\n",
       "  <matplotlib.axis.XTick at 0x116a97ba8>,\n",
       "  <matplotlib.axis.XTick at 0x116a97780>,\n",
       "  <matplotlib.axis.XTick at 0x11a0766a0>],\n",
       " <a list of 23 Text xticklabel objects>)"
      ]
     },
     "execution_count": 133,
     "metadata": {},
     "output_type": "execute_result"
    },
    {
     "data": {
      "image/png": "[encoded data removed]",
      "text/plain": [
       "<Figure size 1080x432 with 1 Axes>"
      ]
     },
     "metadata": {},
     "output_type": "display_data"
    }
   ],
   "source": [
    "ax = df_ft.plot(x='day_of_tweet',\n",
    "             y='tpm',\n",
    "             kind='line',\n",
    "             figsize=(15,6),\n",
    "             label='Tweets per Minute')\n",
    "df_fr.plot(x='day_of_tweet',\n",
    "             y='tpm',\n",
    "             kind='line',\n",
    "             label='Reweets per Minute',\n",
    "             ax=ax)\n",
    "plt.xlabel('Day of August 2014')\n",
    "\n",
    "xticks = np.arange(9,32,1)\n",
    "plt.xticks(xticks)"
   ]
  },
  {
   "cell_type": "markdown",
   "metadata": {},
   "source": [
    "In this plot it is clear that the behaviour of tweets and retweets resembles the other. Maximum activity occured on the 14th, 18th and 25th of August."
   ]
  },
  {
   "cell_type": "markdown",
   "metadata": {},
   "source": [
    "### User location and Place"
   ]
  },
  {
   "cell_type": "markdown",
   "metadata": {},
   "source": [
    "The dataset shows 2 fields related to location: place and user location. Let's examine what is contained on each field."
   ]
  },
  {
   "cell_type": "code",
   "execution_count": 232,
   "metadata": {},
   "outputs": [],
   "source": [
    "%%bigquery df_ul\n",
    "SELECT user_location, count(*) as total\n",
    "    from tweets.all_valid_tweets\n",
    "    where is_retweet = False\n",
    "    group by user_location;"
   ]
  },
  {
   "cell_type": "code",
   "execution_count": 248,
   "metadata": {},
   "outputs": [
    {
     "name": "stderr",
     "output_type": "stream",
     "text": [
      "/Users/rosarodriguez/anaconda3/envs/coms007/lib/python3.6/site-packages/ipykernel_launcher.py:10: FutureWarning: Sorting because non-concatenation axis is not aligned. A future version\n",
      "of pandas will change to not sort by default.\n",
      "\n",
      "To accept the future behavior, pass 'sort=False'.\n",
      "\n",
      "To retain the current behavior and silence the warning, pass 'sort=True'.\n",
      "\n",
      "  # Remove the CWD from sys.path while we load stuff.\n"
     ]
    }
   ],
   "source": [
    "df_ul2 = df_ul[:9].copy()\n",
    "\n",
    "new_row = pd.DataFrame(data = {\n",
    "    'total' : [df_ul['total'][9:].sum()],\n",
    "    'user_location' : 'other'\n",
    "})\n",
    "\n",
    "new_row.rename(index={0: 10}, inplace=True)\n",
    "\n",
    "df_ul2 = pd.concat([df_ul2, new_row])"
   ]
  },
  {
   "cell_type": "code",
   "execution_count": 250,
   "metadata": {},
   "outputs": [
    {
     "data": {
      "image/png": "[encoded data removed]",
      "text/plain": [
       "<Figure size 432x288 with 1 Axes>"
      ]
     },
     "metadata": {
      "needs_background": "light"
     },
     "output_type": "display_data"
    }
   ],
   "source": [
    "locations = list(df_ul2.user_location)\n",
    "y_pos = np.arange(len(df_ul2))\n",
    "count = list(df_ul2.total)\n",
    "\n",
    "plt.barh(y_pos, count, align='center', alpha=0.5)\n",
    "plt.yticks(y_pos, locations)\n",
    "plt.xlabel('Users')\n",
    "plt.title('Most popular user reported locations')\n",
    "plt.gca().invert_yaxis()\n",
    "\n",
    "plt.show()"
   ]
  },
  {
   "cell_type": "code",
   "execution_count": 236,
   "metadata": {},
   "outputs": [
    {
     "data": {
      "text/html": [
       "<div>\n",
       "<style scoped>\n",
       "    .dataframe tbody tr th:only-of-type {\n",
       "        vertical-align: middle;\n",
       "    }\n",
       "\n",
       "    .dataframe tbody tr th {\n",
       "        vertical-align: top;\n",
       "    }\n",
       "\n",
       "    .dataframe thead th {\n",
       "        text-align: right;\n",
       "    }\n",
       "</style>\n",
       "<table border=\"1\" class=\"dataframe\">\n",
       "  <thead>\n",
       "    <tr style=\"text-align: right;\">\n",
       "      <th></th>\n",
       "      <th>user_location</th>\n",
       "      <th>total</th>\n",
       "    </tr>\n",
       "  </thead>\n",
       "  <tbody>\n",
       "    <tr>\n",
       "      <th>0</th>\n",
       "      <td></td>\n",
       "      <td>409835</td>\n",
       "    </tr>\n",
       "    <tr>\n",
       "      <th>1</th>\n",
       "      <td>Washington, DC</td>\n",
       "      <td>24264</td>\n",
       "    </tr>\n",
       "    <tr>\n",
       "      <th>2</th>\n",
       "      <td>United States</td>\n",
       "      <td>22849</td>\n",
       "    </tr>\n",
       "    <tr>\n",
       "      <th>3</th>\n",
       "      <td>New York, NY</td>\n",
       "      <td>18693</td>\n",
       "    </tr>\n",
       "    <tr>\n",
       "      <th>4</th>\n",
       "      <td>USA</td>\n",
       "      <td>16737</td>\n",
       "    </tr>\n",
       "    <tr>\n",
       "      <th>5</th>\n",
       "      <td>Los Angeles, CA</td>\n",
       "      <td>16362</td>\n",
       "    </tr>\n",
       "    <tr>\n",
       "      <th>6</th>\n",
       "      <td>St. Louis, MO</td>\n",
       "      <td>13080</td>\n",
       "    </tr>\n",
       "    <tr>\n",
       "      <th>7</th>\n",
       "      <td>Atlanta, GA</td>\n",
       "      <td>12550</td>\n",
       "    </tr>\n",
       "    <tr>\n",
       "      <th>8</th>\n",
       "      <td>Chicago, IL</td>\n",
       "      <td>11896</td>\n",
       "    </tr>\n",
       "    <tr>\n",
       "      <th>9</th>\n",
       "      <td>Brooklyn, NY</td>\n",
       "      <td>9416</td>\n",
       "    </tr>\n",
       "    <tr>\n",
       "      <th>10</th>\n",
       "      <td>Los Angeles</td>\n",
       "      <td>9277</td>\n",
       "    </tr>\n",
       "    <tr>\n",
       "      <th>11</th>\n",
       "      <td>New York</td>\n",
       "      <td>9186</td>\n",
       "    </tr>\n",
       "    <tr>\n",
       "      <th>12</th>\n",
       "      <td>NYC</td>\n",
       "      <td>8430</td>\n",
       "    </tr>\n",
       "    <tr>\n",
       "      <th>13</th>\n",
       "      <td>Missouri, USA</td>\n",
       "      <td>7798</td>\n",
       "    </tr>\n",
       "    <tr>\n",
       "      <th>14</th>\n",
       "      <td>St Louis, MO</td>\n",
       "      <td>7792</td>\n",
       "    </tr>\n",
       "    <tr>\n",
       "      <th>15</th>\n",
       "      <td>St. Louis</td>\n",
       "      <td>7759</td>\n",
       "    </tr>\n",
       "    <tr>\n",
       "      <th>16</th>\n",
       "      <td>Chicago</td>\n",
       "      <td>7675</td>\n",
       "    </tr>\n",
       "    <tr>\n",
       "      <th>17</th>\n",
       "      <td>New York City</td>\n",
       "      <td>7520</td>\n",
       "    </tr>\n",
       "    <tr>\n",
       "      <th>18</th>\n",
       "      <td>San Francisco, CA</td>\n",
       "      <td>6402</td>\n",
       "    </tr>\n",
       "    <tr>\n",
       "      <th>19</th>\n",
       "      <td>Houston, TX</td>\n",
       "      <td>6184</td>\n",
       "    </tr>\n",
       "    <tr>\n",
       "      <th>20</th>\n",
       "      <td>Washington, D.C.</td>\n",
       "      <td>6111</td>\n",
       "    </tr>\n",
       "    <tr>\n",
       "      <th>21</th>\n",
       "      <td>Seattle, WA</td>\n",
       "      <td>5893</td>\n",
       "    </tr>\n",
       "    <tr>\n",
       "      <th>22</th>\n",
       "      <td>Boston, MA</td>\n",
       "      <td>5889</td>\n",
       "    </tr>\n",
       "    <tr>\n",
       "      <th>23</th>\n",
       "      <td>Philadelphia, PA</td>\n",
       "      <td>5766</td>\n",
       "    </tr>\n",
       "    <tr>\n",
       "      <th>24</th>\n",
       "      <td>Worldwide</td>\n",
       "      <td>5714</td>\n",
       "    </tr>\n",
       "    <tr>\n",
       "      <th>25</th>\n",
       "      <td>Earth</td>\n",
       "      <td>5615</td>\n",
       "    </tr>\n",
       "    <tr>\n",
       "      <th>26</th>\n",
       "      <td>California</td>\n",
       "      <td>5504</td>\n",
       "    </tr>\n",
       "    <tr>\n",
       "      <th>27</th>\n",
       "      <td>Texas</td>\n",
       "      <td>5097</td>\n",
       "    </tr>\n",
       "    <tr>\n",
       "      <th>28</th>\n",
       "      <td>California, USA</td>\n",
       "      <td>4908</td>\n",
       "    </tr>\n",
       "    <tr>\n",
       "      <th>29</th>\n",
       "      <td>St. Louis, Missouri</td>\n",
       "      <td>4721</td>\n",
       "    </tr>\n",
       "    <tr>\n",
       "      <th>30</th>\n",
       "      <td>Dallas, TX</td>\n",
       "      <td>4551</td>\n",
       "    </tr>\n",
       "    <tr>\n",
       "      <th>31</th>\n",
       "      <td>London</td>\n",
       "      <td>4544</td>\n",
       "    </tr>\n",
       "    <tr>\n",
       "      <th>32</th>\n",
       "      <td>Canada</td>\n",
       "      <td>4316</td>\n",
       "    </tr>\n",
       "    <tr>\n",
       "      <th>33</th>\n",
       "      <td>Austin, TX</td>\n",
       "      <td>4081</td>\n",
       "    </tr>\n",
       "    <tr>\n",
       "      <th>34</th>\n",
       "      <td>At Sea</td>\n",
       "      <td>4002</td>\n",
       "    </tr>\n",
       "    <tr>\n",
       "      <th>35</th>\n",
       "      <td>Charlotte, NC</td>\n",
       "      <td>3988</td>\n",
       "    </tr>\n",
       "    <tr>\n",
       "      <th>36</th>\n",
       "      <td>Everywhere</td>\n",
       "      <td>3845</td>\n",
       "    </tr>\n",
       "    <tr>\n",
       "      <th>37</th>\n",
       "      <td>New York, USA</td>\n",
       "      <td>3834</td>\n",
       "    </tr>\n",
       "    <tr>\n",
       "      <th>38</th>\n",
       "      <td>Texas, USA</td>\n",
       "      <td>3774</td>\n",
       "    </tr>\n",
       "    <tr>\n",
       "      <th>39</th>\n",
       "      <td>Atlanta</td>\n",
       "      <td>3767</td>\n",
       "    </tr>\n",
       "    <tr>\n",
       "      <th>40</th>\n",
       "      <td>Florida</td>\n",
       "      <td>3733</td>\n",
       "    </tr>\n",
       "    <tr>\n",
       "      <th>41</th>\n",
       "      <td>Toronto</td>\n",
       "      <td>3729</td>\n",
       "    </tr>\n",
       "    <tr>\n",
       "      <th>42</th>\n",
       "      <td>Oakland, CA</td>\n",
       "      <td>3637</td>\n",
       "    </tr>\n",
       "    <tr>\n",
       "      <th>43</th>\n",
       "      <td>Portland, OR</td>\n",
       "      <td>3572</td>\n",
       "    </tr>\n",
       "    <tr>\n",
       "      <th>44</th>\n",
       "      <td>Baltimore, MD</td>\n",
       "      <td>3516</td>\n",
       "    </tr>\n",
       "    <tr>\n",
       "      <th>45</th>\n",
       "      <td>Pittsburgh, PA</td>\n",
       "      <td>3515</td>\n",
       "    </tr>\n",
       "    <tr>\n",
       "      <th>46</th>\n",
       "      <td>Florida, USA</td>\n",
       "      <td>3261</td>\n",
       "    </tr>\n",
       "    <tr>\n",
       "      <th>47</th>\n",
       "      <td>Denver, CO</td>\n",
       "      <td>3148</td>\n",
       "    </tr>\n",
       "    <tr>\n",
       "      <th>48</th>\n",
       "      <td>Global</td>\n",
       "      <td>3120</td>\n",
       "    </tr>\n",
       "    <tr>\n",
       "      <th>49</th>\n",
       "      <td>Brooklyn</td>\n",
       "      <td>3114</td>\n",
       "    </tr>\n",
       "  </tbody>\n",
       "</table>\n",
       "</div>"
      ],
      "text/plain": [
       "          user_location   total\n",
       "0                        409835\n",
       "1        Washington, DC   24264\n",
       "2         United States   22849\n",
       "3          New York, NY   18693\n",
       "4                   USA   16737\n",
       "5       Los Angeles, CA   16362\n",
       "6         St. Louis, MO   13080\n",
       "7           Atlanta, GA   12550\n",
       "8           Chicago, IL   11896\n",
       "9          Brooklyn, NY    9416\n",
       "10          Los Angeles    9277\n",
       "11             New York    9186\n",
       "12                  NYC    8430\n",
       "13        Missouri, USA    7798\n",
       "14         St Louis, MO    7792\n",
       "15            St. Louis    7759\n",
       "16              Chicago    7675\n",
       "17        New York City    7520\n",
       "18    San Francisco, CA    6402\n",
       "19          Houston, TX    6184\n",
       "20     Washington, D.C.    6111\n",
       "21          Seattle, WA    5893\n",
       "22           Boston, MA    5889\n",
       "23     Philadelphia, PA    5766\n",
       "24            Worldwide    5714\n",
       "25                Earth    5615\n",
       "26           California    5504\n",
       "27                Texas    5097\n",
       "28      California, USA    4908\n",
       "29  St. Louis, Missouri    4721\n",
       "30           Dallas, TX    4551\n",
       "31               London    4544\n",
       "32               Canada    4316\n",
       "33           Austin, TX    4081\n",
       "34               At Sea    4002\n",
       "35        Charlotte, NC    3988\n",
       "36           Everywhere    3845\n",
       "37        New York, USA    3834\n",
       "38           Texas, USA    3774\n",
       "39              Atlanta    3767\n",
       "40              Florida    3733\n",
       "41              Toronto    3729\n",
       "42          Oakland, CA    3637\n",
       "43         Portland, OR    3572\n",
       "44        Baltimore, MD    3516\n",
       "45       Pittsburgh, PA    3515\n",
       "46         Florida, USA    3261\n",
       "47           Denver, CO    3148\n",
       "48               Global    3120\n",
       "49             Brooklyn    3114"
      ]
     },
     "execution_count": 236,
     "metadata": {},
     "output_type": "execute_result"
    }
   ],
   "source": [
    "df_ul = df_ul.sort_values(by='total', ascending=False).reset_index(drop=True)\n",
    "df_ul[:50]"
   ]
  },
  {
   "cell_type": "markdown",
   "metadata": {},
   "source": [
    "User location seems to be self reported, and the most common value is empty, and some other categories are.... creative... Let's look at the place field, which might be more promising."
   ]
  },
  {
   "cell_type": "code",
   "execution_count": 4,
   "metadata": {},
   "outputs": [],
   "source": [
    "%%bigquery df_pl\n",
    "SELECT place, count(*) as total, is_retweet\n",
    "    from tweets.all_valid_tweets\n",
    "    group by place, is_retweet;"
   ]
  },
  {
   "cell_type": "code",
   "execution_count": 252,
   "metadata": {},
   "outputs": [
    {
     "data": {
      "text/plain": [
       "\"{'attributes': {}, 'bounding_box': {'coordinates': [[[-74.026675, 40.683935], [-73.910408, 40.683935], [-73.910408, 40.877483], [-74.026675, 40.877483]]], 'type': 'Polygon'}, 'contained_within': [], 'country': 'United States', 'country_code': 'US', 'full_name': 'Manhattan, NY', 'id': '01a9a39529b27f36', 'name': 'Manhattan', 'place_type': 'city', 'url': 'https://api.twitter.com/1.1/geo/id/01a9a39529b27f36.json'}\""
      ]
     },
     "execution_count": 252,
     "metadata": {},
     "output_type": "execute_result"
    }
   ],
   "source": [
    "a = df_pl['place'][0]\n",
    "a"
   ]
  },
  {
   "cell_type": "markdown",
   "metadata": {},
   "source": [
    "This field contains a dictionary. Let's pull data related to the country code, the state and the city. This might show where's support and information flowing through."
   ]
  },
  {
   "cell_type": "code",
   "execution_count": 5,
   "metadata": {},
   "outputs": [],
   "source": [
    "df_pl['country'] = 'NA'\n",
    "df_pl['state'] = 'NA'\n",
    "df_pl['city'] = 'NA'"
   ]
  },
  {
   "cell_type": "code",
   "execution_count": 20,
   "metadata": {},
   "outputs": [],
   "source": [
    "for i in range(0,len(df_pl)):\n",
    "    a = df_pl.loc[i, 'place']\n",
    "    try:\n",
    "        df_pl.loc[i, 'country'] = a.split('\\'country_code\\'')[1].split('\\'')[1].strip()\n",
    "    except:\n",
    "        pass\n",
    "    try:\n",
    "        df_pl.loc[i, 'state'] = a.split('\\'full_name\\'')[1].split('\\'')[1].split(', ')[1].strip()\n",
    "    except:\n",
    "        pass\n",
    "    try:\n",
    "        df_pl.loc[i, 'city'] = a.split('\\'name\\'')[1].split('\\'')[1].strip()\n",
    "    except:\n",
    "        pass"
   ]
  },
  {
   "cell_type": "markdown",
   "metadata": {},
   "source": [
    "Let's quickly see how the spots change with respect to the user_location field"
   ]
  },
  {
   "cell_type": "code",
   "execution_count": 38,
   "metadata": {},
   "outputs": [],
   "source": [
    "df_pl2 = df_pl[df_pl['is_retweet']==False][:14].copy()"
   ]
  },
  {
   "cell_type": "code",
   "execution_count": 39,
   "metadata": {},
   "outputs": [
    {
     "data": {
      "image/png": "[encoded data removed]",
      "text/plain": [
       "<Figure size 432x288 with 1 Axes>"
      ]
     },
     "metadata": {},
     "output_type": "display_data"
    }
   ],
   "source": [
    "locations = list(df_pl2.city)\n",
    "y_pos = np.arange(len(df_pl2))\n",
    "count = list(df_pl2.total)\n",
    "\n",
    "plt.barh(y_pos, count, align='center', alpha=0.5)\n",
    "plt.yticks(y_pos, locations)\n",
    "plt.xlabel('Users')\n",
    "plt.title('Most popular Twitter reported locations')\n",
    "plt.gca().invert_yaxis()\n",
    "\n",
    "plt.show()"
   ]
  },
  {
   "cell_type": "markdown",
   "metadata": {},
   "source": [
    "It is difficult to understand anything from this plot, as so many users leave their location protected. Let us ignore empty fields."
   ]
  },
  {
   "cell_type": "code",
   "execution_count": 40,
   "metadata": {},
   "outputs": [
    {
     "data": {
      "image/png": "[encoded data removed]",
      "text/plain": [
       "<Figure size 432x288 with 1 Axes>"
      ]
     },
     "metadata": {},
     "output_type": "display_data"
    }
   ],
   "source": [
    "df_pl2 = df_pl[df_pl['is_retweet']==False][1:15].copy()\n",
    "locations = list(df_pl2.city)\n",
    "y_pos = np.arange(len(df_pl2))\n",
    "count = list(df_pl2.total)\n",
    "\n",
    "plt.barh(y_pos, count, align='center', alpha=0.5)\n",
    "plt.yticks(y_pos, locations)\n",
    "plt.xlabel('Tweets')\n",
    "plt.title('Most popular Twitter reported locations')\n",
    "plt.gca().invert_yaxis()\n",
    "\n",
    "plt.show()"
   ]
  },
  {
   "cell_type": "markdown",
   "metadata": {},
   "source": [
    "Here we can see that the largest source of original tweets is Missouri, and Twitter was used as a news broadcasting tool. \n",
    "\n",
    "Now, let's see the top 50 locations as a table."
   ]
  },
  {
   "cell_type": "code",
   "execution_count": 29,
   "metadata": {},
   "outputs": [
    {
     "data": {
      "text/html": [
       "<div>\n",
       "<style scoped>\n",
       "    .dataframe tbody tr th:only-of-type {\n",
       "        vertical-align: middle;\n",
       "    }\n",
       "\n",
       "    .dataframe tbody tr th {\n",
       "        vertical-align: top;\n",
       "    }\n",
       "\n",
       "    .dataframe thead th {\n",
       "        text-align: right;\n",
       "    }\n",
       "</style>\n",
       "<table border=\"1\" class=\"dataframe\">\n",
       "  <thead>\n",
       "    <tr style=\"text-align: right;\">\n",
       "      <th></th>\n",
       "      <th>place</th>\n",
       "      <th>total</th>\n",
       "      <th>is_retweet</th>\n",
       "      <th>country</th>\n",
       "      <th>state</th>\n",
       "      <th>city</th>\n",
       "    </tr>\n",
       "  </thead>\n",
       "  <tbody>\n",
       "    <tr>\n",
       "      <th>1</th>\n",
       "      <td></td>\n",
       "      <td>1907397</td>\n",
       "      <td>False</td>\n",
       "      <td>NA</td>\n",
       "      <td>NA</td>\n",
       "      <td>NA</td>\n",
       "    </tr>\n",
       "    <tr>\n",
       "      <th>2</th>\n",
       "      <td>{'attributes': {}, 'bounding_box': {'coordinat...</td>\n",
       "      <td>2058</td>\n",
       "      <td>False</td>\n",
       "      <td>US</td>\n",
       "      <td>MO</td>\n",
       "      <td>Ferguson</td>\n",
       "    </tr>\n",
       "    <tr>\n",
       "      <th>3</th>\n",
       "      <td>{'attributes': {}, 'bounding_box': {'coordinat...</td>\n",
       "      <td>1677</td>\n",
       "      <td>False</td>\n",
       "      <td>US</td>\n",
       "      <td>MO</td>\n",
       "      <td>St Louis</td>\n",
       "    </tr>\n",
       "    <tr>\n",
       "      <th>4</th>\n",
       "      <td>{'attributes': {}, 'bounding_box': {'coordinat...</td>\n",
       "      <td>1460</td>\n",
       "      <td>False</td>\n",
       "      <td>US</td>\n",
       "      <td>CA</td>\n",
       "      <td>Los Angeles</td>\n",
       "    </tr>\n",
       "    <tr>\n",
       "      <th>5</th>\n",
       "      <td>{'attributes': {}, 'bounding_box': {'coordinat...</td>\n",
       "      <td>1338</td>\n",
       "      <td>False</td>\n",
       "      <td>US</td>\n",
       "      <td>IL</td>\n",
       "      <td>Chicago</td>\n",
       "    </tr>\n",
       "    <tr>\n",
       "      <th>6</th>\n",
       "      <td>{'attributes': {}, 'bounding_box': {'coordinat...</td>\n",
       "      <td>1130</td>\n",
       "      <td>False</td>\n",
       "      <td>US</td>\n",
       "      <td>DC</td>\n",
       "      <td>Washington</td>\n",
       "    </tr>\n",
       "    <tr>\n",
       "      <th>7</th>\n",
       "      <td>{'attributes': {}, 'bounding_box': {'coordinat...</td>\n",
       "      <td>873</td>\n",
       "      <td>False</td>\n",
       "      <td>US</td>\n",
       "      <td>TX</td>\n",
       "      <td>Houston</td>\n",
       "    </tr>\n",
       "    <tr>\n",
       "      <th>8</th>\n",
       "      <td>{'attributes': {}, 'bounding_box': {'coordinat...</td>\n",
       "      <td>839</td>\n",
       "      <td>False</td>\n",
       "      <td>US</td>\n",
       "      <td>NY</td>\n",
       "      <td>Manhattan</td>\n",
       "    </tr>\n",
       "    <tr>\n",
       "      <th>9</th>\n",
       "      <td>{'attributes': {}, 'bounding_box': {'coordinat...</td>\n",
       "      <td>804</td>\n",
       "      <td>False</td>\n",
       "      <td>US</td>\n",
       "      <td>USA</td>\n",
       "      <td>Georgia</td>\n",
       "    </tr>\n",
       "    <tr>\n",
       "      <th>10</th>\n",
       "      <td>{'attributes': {}, 'bounding_box': {'coordinat...</td>\n",
       "      <td>726</td>\n",
       "      <td>False</td>\n",
       "      <td>US</td>\n",
       "      <td>CA</td>\n",
       "      <td>San Francisco</td>\n",
       "    </tr>\n",
       "    <tr>\n",
       "      <th>11</th>\n",
       "      <td>{'attributes': {}, 'bounding_box': {'coordinat...</td>\n",
       "      <td>683</td>\n",
       "      <td>False</td>\n",
       "      <td>US</td>\n",
       "      <td>CA</td>\n",
       "      <td>Irvine</td>\n",
       "    </tr>\n",
       "    <tr>\n",
       "      <th>12</th>\n",
       "      <td>{'attributes': {}, 'bounding_box': {'coordinat...</td>\n",
       "      <td>664</td>\n",
       "      <td>False</td>\n",
       "      <td>US</td>\n",
       "      <td>MO</td>\n",
       "      <td>St. Louis</td>\n",
       "    </tr>\n",
       "    <tr>\n",
       "      <th>13</th>\n",
       "      <td>{'attributes': {}, 'bounding_box': {'coordinat...</td>\n",
       "      <td>648</td>\n",
       "      <td>False</td>\n",
       "      <td>US</td>\n",
       "      <td>PA</td>\n",
       "      <td>Philadelphia</td>\n",
       "    </tr>\n",
       "    <tr>\n",
       "      <th>14</th>\n",
       "      <td>{'attributes': {}, 'bounding_box': {'coordinat...</td>\n",
       "      <td>646</td>\n",
       "      <td>False</td>\n",
       "      <td>US</td>\n",
       "      <td>NY</td>\n",
       "      <td>New York</td>\n",
       "    </tr>\n",
       "    <tr>\n",
       "      <th>15</th>\n",
       "      <td>{'attributes': {}, 'bounding_box': {'coordinat...</td>\n",
       "      <td>611</td>\n",
       "      <td>False</td>\n",
       "      <td>US</td>\n",
       "      <td>USA</td>\n",
       "      <td>Texas</td>\n",
       "    </tr>\n",
       "    <tr>\n",
       "      <th>16</th>\n",
       "      <td>{'attributes': {}, 'bounding_box': {'coordinat...</td>\n",
       "      <td>524</td>\n",
       "      <td>False</td>\n",
       "      <td>US</td>\n",
       "      <td>USA</td>\n",
       "      <td>California</td>\n",
       "    </tr>\n",
       "    <tr>\n",
       "      <th>17</th>\n",
       "      <td>{'attributes': {}, 'bounding_box': {'coordinat...</td>\n",
       "      <td>493</td>\n",
       "      <td>False</td>\n",
       "      <td>US</td>\n",
       "      <td>WA</td>\n",
       "      <td>Seattle</td>\n",
       "    </tr>\n",
       "    <tr>\n",
       "      <th>18</th>\n",
       "      <td>{'attributes': {}, 'bounding_box': {'coordinat...</td>\n",
       "      <td>491</td>\n",
       "      <td>False</td>\n",
       "      <td>US</td>\n",
       "      <td>CA</td>\n",
       "      <td>San Diego</td>\n",
       "    </tr>\n",
       "    <tr>\n",
       "      <th>19</th>\n",
       "      <td>{'attributes': {}, 'bounding_box': {'coordinat...</td>\n",
       "      <td>485</td>\n",
       "      <td>False</td>\n",
       "      <td>US</td>\n",
       "      <td>USA</td>\n",
       "      <td>Florida</td>\n",
       "    </tr>\n",
       "    <tr>\n",
       "      <th>20</th>\n",
       "      <td>{'attributes': {}, 'bounding_box': {'coordinat...</td>\n",
       "      <td>480</td>\n",
       "      <td>False</td>\n",
       "      <td>US</td>\n",
       "      <td>USA</td>\n",
       "      <td>Missouri</td>\n",
       "    </tr>\n",
       "    <tr>\n",
       "      <th>21</th>\n",
       "      <td>{'attributes': {}, 'bounding_box': {'coordinat...</td>\n",
       "      <td>477</td>\n",
       "      <td>False</td>\n",
       "      <td>US</td>\n",
       "      <td>NY</td>\n",
       "      <td>Brooklyn</td>\n",
       "    </tr>\n",
       "    <tr>\n",
       "      <th>22</th>\n",
       "      <td>{'attributes': {}, 'bounding_box': {'coordinat...</td>\n",
       "      <td>439</td>\n",
       "      <td>False</td>\n",
       "      <td>US</td>\n",
       "      <td>NC</td>\n",
       "      <td>Charlotte</td>\n",
       "    </tr>\n",
       "    <tr>\n",
       "      <th>23</th>\n",
       "      <td>{'attributes': {}, 'bounding_box': {'coordinat...</td>\n",
       "      <td>428</td>\n",
       "      <td>False</td>\n",
       "      <td>US</td>\n",
       "      <td>MA</td>\n",
       "      <td>Boston</td>\n",
       "    </tr>\n",
       "    <tr>\n",
       "      <th>24</th>\n",
       "      <td>{'attributes': {}, 'bounding_box': {'coordinat...</td>\n",
       "      <td>421</td>\n",
       "      <td>False</td>\n",
       "      <td>US</td>\n",
       "      <td>GA</td>\n",
       "      <td>Atlanta</td>\n",
       "    </tr>\n",
       "    <tr>\n",
       "      <th>25</th>\n",
       "      <td>{'attributes': {}, 'bounding_box': {'coordinat...</td>\n",
       "      <td>367</td>\n",
       "      <td>False</td>\n",
       "      <td>US</td>\n",
       "      <td>MO</td>\n",
       "      <td>Jennings</td>\n",
       "    </tr>\n",
       "    <tr>\n",
       "      <th>26</th>\n",
       "      <td>{'attributes': {}, 'bounding_box': {'coordinat...</td>\n",
       "      <td>358</td>\n",
       "      <td>False</td>\n",
       "      <td>US</td>\n",
       "      <td>LA</td>\n",
       "      <td>New Orleans</td>\n",
       "    </tr>\n",
       "    <tr>\n",
       "      <th>27</th>\n",
       "      <td>{'attributes': {}, 'bounding_box': {'coordinat...</td>\n",
       "      <td>349</td>\n",
       "      <td>False</td>\n",
       "      <td>US</td>\n",
       "      <td>CA</td>\n",
       "      <td>Oakland</td>\n",
       "    </tr>\n",
       "    <tr>\n",
       "      <th>28</th>\n",
       "      <td>{'attributes': {}, 'bounding_box': {'coordinat...</td>\n",
       "      <td>348</td>\n",
       "      <td>False</td>\n",
       "      <td>US</td>\n",
       "      <td>OR</td>\n",
       "      <td>Portland</td>\n",
       "    </tr>\n",
       "    <tr>\n",
       "      <th>29</th>\n",
       "      <td>{'attributes': {}, 'bounding_box': {'coordinat...</td>\n",
       "      <td>328</td>\n",
       "      <td>False</td>\n",
       "      <td>US</td>\n",
       "      <td>MD</td>\n",
       "      <td>Baltimore</td>\n",
       "    </tr>\n",
       "    <tr>\n",
       "      <th>30</th>\n",
       "      <td>{'attributes': {}, 'bounding_box': {'coordinat...</td>\n",
       "      <td>307</td>\n",
       "      <td>False</td>\n",
       "      <td>US</td>\n",
       "      <td>USA</td>\n",
       "      <td>South Carolina</td>\n",
       "    </tr>\n",
       "    <tr>\n",
       "      <th>31</th>\n",
       "      <td>{'attributes': {}, 'bounding_box': {'coordinat...</td>\n",
       "      <td>306</td>\n",
       "      <td>False</td>\n",
       "      <td>CA</td>\n",
       "      <td>Ontario</td>\n",
       "      <td>Toronto</td>\n",
       "    </tr>\n",
       "    <tr>\n",
       "      <th>32</th>\n",
       "      <td>{'attributes': {}, 'bounding_box': {'coordinat...</td>\n",
       "      <td>305</td>\n",
       "      <td>False</td>\n",
       "      <td>US</td>\n",
       "      <td>USA</td>\n",
       "      <td>Pennsylvania</td>\n",
       "    </tr>\n",
       "    <tr>\n",
       "      <th>33</th>\n",
       "      <td>{'attributes': {}, 'bounding_box': {'coordinat...</td>\n",
       "      <td>304</td>\n",
       "      <td>False</td>\n",
       "      <td>US</td>\n",
       "      <td>TX</td>\n",
       "      <td>Dallas</td>\n",
       "    </tr>\n",
       "    <tr>\n",
       "      <th>34</th>\n",
       "      <td>{'attributes': {}, 'bounding_box': {'coordinat...</td>\n",
       "      <td>289</td>\n",
       "      <td>False</td>\n",
       "      <td>US</td>\n",
       "      <td>TX</td>\n",
       "      <td>Austin</td>\n",
       "    </tr>\n",
       "    <tr>\n",
       "      <th>35</th>\n",
       "      <td>{'attributes': {}, 'bounding_box': {'coordinat...</td>\n",
       "      <td>273</td>\n",
       "      <td>False</td>\n",
       "      <td>US</td>\n",
       "      <td>NY</td>\n",
       "      <td>Manhattan</td>\n",
       "    </tr>\n",
       "    <tr>\n",
       "      <th>36</th>\n",
       "      <td>{'attributes': {}, 'bounding_box': {'coordinat...</td>\n",
       "      <td>272</td>\n",
       "      <td>False</td>\n",
       "      <td>US</td>\n",
       "      <td>TN</td>\n",
       "      <td>Memphis</td>\n",
       "    </tr>\n",
       "    <tr>\n",
       "      <th>37</th>\n",
       "      <td>{'attributes': {}, 'bounding_box': {'coordinat...</td>\n",
       "      <td>269</td>\n",
       "      <td>False</td>\n",
       "      <td>US</td>\n",
       "      <td>USA</td>\n",
       "      <td>Virginia</td>\n",
       "    </tr>\n",
       "    <tr>\n",
       "      <th>38</th>\n",
       "      <td>{'attributes': {}, 'bounding_box': {'coordinat...</td>\n",
       "      <td>257</td>\n",
       "      <td>False</td>\n",
       "      <td>US</td>\n",
       "      <td>AZ</td>\n",
       "      <td>Phoenix</td>\n",
       "    </tr>\n",
       "    <tr>\n",
       "      <th>39</th>\n",
       "      <td>{'attributes': {}, 'bounding_box': {'coordinat...</td>\n",
       "      <td>241</td>\n",
       "      <td>False</td>\n",
       "      <td>US</td>\n",
       "      <td>CO</td>\n",
       "      <td>Denver</td>\n",
       "    </tr>\n",
       "    <tr>\n",
       "      <th>40</th>\n",
       "      <td>{'attributes': {}, 'bounding_box': {'coordinat...</td>\n",
       "      <td>238</td>\n",
       "      <td>False</td>\n",
       "      <td>US</td>\n",
       "      <td>USA</td>\n",
       "      <td>North Carolina</td>\n",
       "    </tr>\n",
       "    <tr>\n",
       "      <th>41</th>\n",
       "      <td>{'attributes': {}, 'bounding_box': {'coordinat...</td>\n",
       "      <td>230</td>\n",
       "      <td>False</td>\n",
       "      <td>US</td>\n",
       "      <td>MN</td>\n",
       "      <td>Minneapolis</td>\n",
       "    </tr>\n",
       "    <tr>\n",
       "      <th>42</th>\n",
       "      <td>{'attributes': {}, 'bounding_box': {'coordinat...</td>\n",
       "      <td>230</td>\n",
       "      <td>False</td>\n",
       "      <td>US</td>\n",
       "      <td>USA</td>\n",
       "      <td>New York</td>\n",
       "    </tr>\n",
       "    <tr>\n",
       "      <th>43</th>\n",
       "      <td>{'attributes': {}, 'bounding_box': {'coordinat...</td>\n",
       "      <td>226</td>\n",
       "      <td>False</td>\n",
       "      <td>US</td>\n",
       "      <td>IN</td>\n",
       "      <td>Indianapolis</td>\n",
       "    </tr>\n",
       "    <tr>\n",
       "      <th>44</th>\n",
       "      <td>{'attributes': {}, 'bounding_box': {'coordinat...</td>\n",
       "      <td>224</td>\n",
       "      <td>False</td>\n",
       "      <td>US</td>\n",
       "      <td>NY</td>\n",
       "      <td>Queens</td>\n",
       "    </tr>\n",
       "    <tr>\n",
       "      <th>45</th>\n",
       "      <td>{'attributes': {}, 'bounding_box': {'coordinat...</td>\n",
       "      <td>218</td>\n",
       "      <td>False</td>\n",
       "      <td>US</td>\n",
       "      <td>MI</td>\n",
       "      <td>Detroit</td>\n",
       "    </tr>\n",
       "    <tr>\n",
       "      <th>46</th>\n",
       "      <td>{'attributes': {}, 'bounding_box': {'coordinat...</td>\n",
       "      <td>212</td>\n",
       "      <td>False</td>\n",
       "      <td>US</td>\n",
       "      <td>FL</td>\n",
       "      <td>Century Village</td>\n",
       "    </tr>\n",
       "    <tr>\n",
       "      <th>47</th>\n",
       "      <td>{'attributes': {}, 'bounding_box': {'coordinat...</td>\n",
       "      <td>209</td>\n",
       "      <td>False</td>\n",
       "      <td>US</td>\n",
       "      <td>USA</td>\n",
       "      <td>Ohio</td>\n",
       "    </tr>\n",
       "    <tr>\n",
       "      <th>48</th>\n",
       "      <td>{'attributes': {}, 'bounding_box': {'coordinat...</td>\n",
       "      <td>201</td>\n",
       "      <td>False</td>\n",
       "      <td>US</td>\n",
       "      <td>TX</td>\n",
       "      <td>San Antonio</td>\n",
       "    </tr>\n",
       "    <tr>\n",
       "      <th>49</th>\n",
       "      <td>{'attributes': {}, 'bounding_box': {'coordinat...</td>\n",
       "      <td>189</td>\n",
       "      <td>False</td>\n",
       "      <td>US</td>\n",
       "      <td>USA</td>\n",
       "      <td>Illinois</td>\n",
       "    </tr>\n",
       "    <tr>\n",
       "      <th>50</th>\n",
       "      <td>{'attributes': {}, 'bounding_box': {'coordinat...</td>\n",
       "      <td>187</td>\n",
       "      <td>False</td>\n",
       "      <td>US</td>\n",
       "      <td>USA</td>\n",
       "      <td>West Virginia</td>\n",
       "    </tr>\n",
       "  </tbody>\n",
       "</table>\n",
       "</div>"
      ],
      "text/plain": [
       "                                                place    total  is_retweet  \\\n",
       "1                                                      1907397       False   \n",
       "2   {'attributes': {}, 'bounding_box': {'coordinat...     2058       False   \n",
       "3   {'attributes': {}, 'bounding_box': {'coordinat...     1677       False   \n",
       "4   {'attributes': {}, 'bounding_box': {'coordinat...     1460       False   \n",
       "5   {'attributes': {}, 'bounding_box': {'coordinat...     1338       False   \n",
       "6   {'attributes': {}, 'bounding_box': {'coordinat...     1130       False   \n",
       "7   {'attributes': {}, 'bounding_box': {'coordinat...      873       False   \n",
       "8   {'attributes': {}, 'bounding_box': {'coordinat...      839       False   \n",
       "9   {'attributes': {}, 'bounding_box': {'coordinat...      804       False   \n",
       "10  {'attributes': {}, 'bounding_box': {'coordinat...      726       False   \n",
       "11  {'attributes': {}, 'bounding_box': {'coordinat...      683       False   \n",
       "12  {'attributes': {}, 'bounding_box': {'coordinat...      664       False   \n",
       "13  {'attributes': {}, 'bounding_box': {'coordinat...      648       False   \n",
       "14  {'attributes': {}, 'bounding_box': {'coordinat...      646       False   \n",
       "15  {'attributes': {}, 'bounding_box': {'coordinat...      611       False   \n",
       "16  {'attributes': {}, 'bounding_box': {'coordinat...      524       False   \n",
       "17  {'attributes': {}, 'bounding_box': {'coordinat...      493       False   \n",
       "18  {'attributes': {}, 'bounding_box': {'coordinat...      491       False   \n",
       "19  {'attributes': {}, 'bounding_box': {'coordinat...      485       False   \n",
       "20  {'attributes': {}, 'bounding_box': {'coordinat...      480       False   \n",
       "21  {'attributes': {}, 'bounding_box': {'coordinat...      477       False   \n",
       "22  {'attributes': {}, 'bounding_box': {'coordinat...      439       False   \n",
       "23  {'attributes': {}, 'bounding_box': {'coordinat...      428       False   \n",
       "24  {'attributes': {}, 'bounding_box': {'coordinat...      421       False   \n",
       "25  {'attributes': {}, 'bounding_box': {'coordinat...      367       False   \n",
       "26  {'attributes': {}, 'bounding_box': {'coordinat...      358       False   \n",
       "27  {'attributes': {}, 'bounding_box': {'coordinat...      349       False   \n",
       "28  {'attributes': {}, 'bounding_box': {'coordinat...      348       False   \n",
       "29  {'attributes': {}, 'bounding_box': {'coordinat...      328       False   \n",
       "30  {'attributes': {}, 'bounding_box': {'coordinat...      307       False   \n",
       "31  {'attributes': {}, 'bounding_box': {'coordinat...      306       False   \n",
       "32  {'attributes': {}, 'bounding_box': {'coordinat...      305       False   \n",
       "33  {'attributes': {}, 'bounding_box': {'coordinat...      304       False   \n",
       "34  {'attributes': {}, 'bounding_box': {'coordinat...      289       False   \n",
       "35  {'attributes': {}, 'bounding_box': {'coordinat...      273       False   \n",
       "36  {'attributes': {}, 'bounding_box': {'coordinat...      272       False   \n",
       "37  {'attributes': {}, 'bounding_box': {'coordinat...      269       False   \n",
       "38  {'attributes': {}, 'bounding_box': {'coordinat...      257       False   \n",
       "39  {'attributes': {}, 'bounding_box': {'coordinat...      241       False   \n",
       "40  {'attributes': {}, 'bounding_box': {'coordinat...      238       False   \n",
       "41  {'attributes': {}, 'bounding_box': {'coordinat...      230       False   \n",
       "42  {'attributes': {}, 'bounding_box': {'coordinat...      230       False   \n",
       "43  {'attributes': {}, 'bounding_box': {'coordinat...      226       False   \n",
       "44  {'attributes': {}, 'bounding_box': {'coordinat...      224       False   \n",
       "45  {'attributes': {}, 'bounding_box': {'coordinat...      218       False   \n",
       "46  {'attributes': {}, 'bounding_box': {'coordinat...      212       False   \n",
       "47  {'attributes': {}, 'bounding_box': {'coordinat...      209       False   \n",
       "48  {'attributes': {}, 'bounding_box': {'coordinat...      201       False   \n",
       "49  {'attributes': {}, 'bounding_box': {'coordinat...      189       False   \n",
       "50  {'attributes': {}, 'bounding_box': {'coordinat...      187       False   \n",
       "\n",
       "   country    state             city  \n",
       "1       NA       NA               NA  \n",
       "2       US       MO         Ferguson  \n",
       "3       US       MO         St Louis  \n",
       "4       US       CA      Los Angeles  \n",
       "5       US       IL          Chicago  \n",
       "6       US       DC       Washington  \n",
       "7       US       TX          Houston  \n",
       "8       US       NY        Manhattan  \n",
       "9       US      USA          Georgia  \n",
       "10      US       CA    San Francisco  \n",
       "11      US       CA           Irvine  \n",
       "12      US       MO        St. Louis  \n",
       "13      US       PA     Philadelphia  \n",
       "14      US       NY         New York  \n",
       "15      US      USA            Texas  \n",
       "16      US      USA       California  \n",
       "17      US       WA          Seattle  \n",
       "18      US       CA        San Diego  \n",
       "19      US      USA          Florida  \n",
       "20      US      USA         Missouri  \n",
       "21      US       NY         Brooklyn  \n",
       "22      US       NC        Charlotte  \n",
       "23      US       MA           Boston  \n",
       "24      US       GA          Atlanta  \n",
       "25      US       MO         Jennings  \n",
       "26      US       LA      New Orleans  \n",
       "27      US       CA          Oakland  \n",
       "28      US       OR         Portland  \n",
       "29      US       MD        Baltimore  \n",
       "30      US      USA   South Carolina  \n",
       "31      CA  Ontario          Toronto  \n",
       "32      US      USA     Pennsylvania  \n",
       "33      US       TX           Dallas  \n",
       "34      US       TX           Austin  \n",
       "35      US       NY        Manhattan  \n",
       "36      US       TN          Memphis  \n",
       "37      US      USA         Virginia  \n",
       "38      US       AZ          Phoenix  \n",
       "39      US       CO           Denver  \n",
       "40      US      USA   North Carolina  \n",
       "41      US       MN      Minneapolis  \n",
       "42      US      USA         New York  \n",
       "43      US       IN     Indianapolis  \n",
       "44      US       NY           Queens  \n",
       "45      US       MI          Detroit  \n",
       "46      US       FL  Century Village  \n",
       "47      US      USA             Ohio  \n",
       "48      US       TX      San Antonio  \n",
       "49      US      USA         Illinois  \n",
       "50      US      USA    West Virginia  "
      ]
     },
     "execution_count": 29,
     "metadata": {},
     "output_type": "execute_result"
    }
   ],
   "source": [
    "df_pl = df_pl.sort_values(by='total', ascending=False).reset_index(drop=True)\n",
    "df_pl[df_pl['is_retweet']==False][:50]"
   ]
  },
  {
   "cell_type": "code",
   "execution_count": 41,
   "metadata": {},
   "outputs": [
    {
     "data": {
      "image/png": "[encoded data removed]",
      "text/plain": [
       "<Figure size 432x288 with 1 Axes>"
      ]
     },
     "metadata": {},
     "output_type": "display_data"
    }
   ],
   "source": [
    "df_pl3 = df_pl[df_pl['is_retweet']==True][1:15].copy()\n",
    "locations = list(df_pl3.city)\n",
    "y_pos = np.arange(len(df_pl3))\n",
    "count = list(df_pl3.total)\n",
    "\n",
    "plt.barh(y_pos, count, align='center', alpha=0.5)\n",
    "plt.yticks(y_pos, locations)\n",
    "plt.xlabel('Retweets')\n",
    "plt.title('Most popular Twitter reported locations')\n",
    "plt.gca().invert_yaxis()\n",
    "\n",
    "plt.show()"
   ]
  },
  {
   "cell_type": "code",
   "execution_count": 48,
   "metadata": {},
   "outputs": [],
   "source": [
    "#Let's see the top 3 retweeting countries\n",
    "\n",
    "df_co = df_pl.groupby(['country']).agg(['sum'])['total'].sort_values(by='sum', ascending=False)\n",
    "df_c = df_co[1:4]"
   ]
  },
  {
   "cell_type": "code",
   "execution_count": 65,
   "metadata": {},
   "outputs": [
    {
     "data": {
      "image/png": "[encoded data removed]",
      "text/plain": [
       "<Figure size 432x288 with 1 Axes>"
      ]
     },
     "metadata": {},
     "output_type": "display_data"
    }
   ],
   "source": [
    "topics = df_c.index\n",
    "y_pos = np.arange(len(df_c))\n",
    "count = list(df_c['sum'])\n",
    "\n",
    "plt.bar(y_pos, count, align='center', alpha=0.5)\n",
    "plt.xticks(y_pos, topics)\n",
    "plt.ylabel('Tweets')\n",
    "plt.title('Most active Twitter countries')\n",
    "\n",
    "plt.show()"
   ]
  },
  {
   "cell_type": "markdown",
   "metadata": {},
   "source": [
    "Unsurprisingly, the most active countries during this period were English speaking"
   ]
  },
  {
   "cell_type": "code",
   "execution_count": 98,
   "metadata": {},
   "outputs": [
    {
     "data": {
      "application/vnd.plotly.v1+json": {
       "config": {
        "plotlyServerURL": "https://plot.ly"
       },
       "data": [
        {
         "colorbar": {
          "title": {
           "text": "Tweets"
          }
         },
         "colorscale": [
          [
           0,
           "rgb(255,245,240)"
          ],
          [
           0.125,
           "rgb(254,224,210)"
          ],
          [
           0.25,
           "rgb(252,187,161)"
          ],
          [
           0.375,
           "rgb(252,146,114)"
          ],
          [
           0.5,
           "rgb(251,106,74)"
          ],
          [
           0.625,
           "rgb(239,59,44)"
          ],
          [
           0.75,
           "rgb(203,24,29)"
          ],
          [
           0.875,
           "rgb(165,15,21)"
          ],
          [
           1,
           "rgb(103,0,13)"
          ]
         ],
         "locationmode": "USA-states",
         "locations": [
          "AK",
          "AL",
          "AR",
          "AZ",
          "CA",
          "CO",
          "CT",
          "DC",
          "DE",
          "FL",
          "GA",
          "HI",
          "IA",
          "ID",
          "IL",
          "IN",
          "KS",
          "KY",
          "LA",
          "MA",
          "MD",
          "ME",
          "MI",
          "MN",
          "MO",
          "MS",
          "MT",
          "NA",
          "NC",
          "ND",
          "NE",
          "NH",
          "NJ",
          "NM",
          "NV",
          "NY",
          "OH",
          "OK",
          "OR",
          "PA",
          "RI",
          "SC",
          "SD",
          "TN",
          "TX",
          "UT",
          "VA",
          "VT",
          "WA",
          "WI",
          "WV",
          "WY"
         ],
         "type": "choropleth",
         "z": [
          63,
          430,
          363,
          665,
          7510,
          691,
          293,
          1130,
          48,
          2470,
          1208,
          176,
          211,
          112,
          2748,
          936,
          285,
          415,
          882,
          1066,
          1380,
          100,
          990,
          524,
          7832,
          163,
          39,
          90,
          1277,
          36,
          147,
          31,
          1448,
          180,
          565,
          3874,
          1375,
          396,
          779,
          1408,
          141,
          342,
          37,
          754,
          3337,
          267,
          983,
          36,
          1181,
          455,
          88,
          17
         ]
        }
       ],
       "layout": {
        "geo": {
         "scope": "usa"
        },
        "template": {
         "data": {
          "bar": [
           {
            "error_x": {
             "color": "#2a3f5f"
            },
            "error_y": {
             "color": "#2a3f5f"
            },
            "marker": {
             "line": {
              "color": "#E5ECF6",
              "width": 0.5
             }
            },
            "type": "bar"
           }
          ],
          "barpolar": [
           {
            "marker": {
             "line": {
              "color": "#E5ECF6",
              "width": 0.5
             }
            },
            "type": "barpolar"
           }
          ],
          "carpet": [
           {
            "aaxis": {
             "endlinecolor": "#2a3f5f",
             "gridcolor": "white",
             "linecolor": "white",
             "minorgridcolor": "white",
             "startlinecolor": "#2a3f5f"
            },
            "baxis": {
             "endlinecolor": "#2a3f5f",
             "gridcolor": "white",
             "linecolor": "white",
             "minorgridcolor": "white",
             "startlinecolor": "#2a3f5f"
            },
            "type": "carpet"
           }
          ],
          "choropleth": [
           {
            "colorbar": {
             "outlinewidth": 0,
             "ticks": ""
            },
            "type": "choropleth"
           }
          ],
          "contour": [
           {
            "colorbar": {
             "outlinewidth": 0,
             "ticks": ""
            },
            "colorscale": [
             [
              0,
              "#0d0887"
             ],
             [
              0.1111111111111111,
              "#46039f"
             ],
             [
              0.2222222222222222,
              "#7201a8"
             ],
             [
              0.3333333333333333,
              "#9c179e"
             ],
             [
              0.4444444444444444,
              "#bd3786"
             ],
             [
              0.5555555555555556,
              "#d8576b"
             ],
             [
              0.6666666666666666,
              "#ed7953"
             ],
             [
              0.7777777777777778,
              "#fb9f3a"
             ],
             [
              0.8888888888888888,
              "#fdca26"
             ],
             [
              1,
              "#f0f921"
             ]
            ],
            "type": "contour"
           }
          ],
          "contourcarpet": [
           {
            "colorbar": {
             "outlinewidth": 0,
             "ticks": ""
            },
            "type": "contourcarpet"
           }
          ],
          "heatmap": [
           {
            "colorbar": {
             "outlinewidth": 0,
             "ticks": ""
            },
            "colorscale": [
             [
              0,
              "#0d0887"
             ],
             [
              0.1111111111111111,
              "#46039f"
             ],
             [
              0.2222222222222222,
              "#7201a8"
             ],
             [
              0.3333333333333333,
              "#9c179e"
             ],
             [
              0.4444444444444444,
              "#bd3786"
             ],
             [
              0.5555555555555556,
              "#d8576b"
             ],
             [
              0.6666666666666666,
              "#ed7953"
             ],
             [
              0.7777777777777778,
              "#fb9f3a"
             ],
             [
              0.8888888888888888,
              "#fdca26"
             ],
             [
              1,
              "#f0f921"
             ]
            ],
            "type": "heatmap"
           }
          ],
          "heatmapgl": [
           {
            "colorbar": {
             "outlinewidth": 0,
             "ticks": ""
            },
            "colorscale": [
             [
              0,
              "#0d0887"
             ],
             [
              0.1111111111111111,
              "#46039f"
             ],
             [
              0.2222222222222222,
              "#7201a8"
             ],
             [
              0.3333333333333333,
              "#9c179e"
             ],
             [
              0.4444444444444444,
              "#bd3786"
             ],
             [
              0.5555555555555556,
              "#d8576b"
             ],
             [
              0.6666666666666666,
              "#ed7953"
             ],
             [
              0.7777777777777778,
              "#fb9f3a"
             ],
             [
              0.8888888888888888,
              "#fdca26"
             ],
             [
              1,
              "#f0f921"
             ]
            ],
            "type": "heatmapgl"
           }
          ],
          "histogram": [
           {
            "marker": {
             "colorbar": {
              "outlinewidth": 0,
              "ticks": ""
             }
            },
            "type": "histogram"
           }
          ],
          "histogram2d": [
           {
            "colorbar": {
             "outlinewidth": 0,
             "ticks": ""
            },
            "colorscale": [
             [
              0,
              "#0d0887"
             ],
             [
              0.1111111111111111,
              "#46039f"
             ],
             [
              0.2222222222222222,
              "#7201a8"
             ],
             [
              0.3333333333333333,
              "#9c179e"
             ],
             [
              0.4444444444444444,
              "#bd3786"
             ],
             [
              0.5555555555555556,
              "#d8576b"
             ],
             [
              0.6666666666666666,
              "#ed7953"
             ],
             [
              0.7777777777777778,
              "#fb9f3a"
             ],
             [
              0.8888888888888888,
              "#fdca26"
             ],
             [
              1,
              "#f0f921"
             ]
            ],
            "type": "histogram2d"
           }
          ],
          "histogram2dcontour": [
           {
            "colorbar": {
             "outlinewidth": 0,
             "ticks": ""
            },
            "colorscale": [
             [
              0,
              "#0d0887"
             ],
             [
              0.1111111111111111,
              "#46039f"
             ],
             [
              0.2222222222222222,
              "#7201a8"
             ],
             [
              0.3333333333333333,
              "#9c179e"
             ],
             [
              0.4444444444444444,
              "#bd3786"
             ],
             [
              0.5555555555555556,
              "#d8576b"
             ],
             [
              0.6666666666666666,
              "#ed7953"
             ],
             [
              0.7777777777777778,
              "#fb9f3a"
             ],
             [
              0.8888888888888888,
              "#fdca26"
             ],
             [
              1,
              "#f0f921"
             ]
            ],
            "type": "histogram2dcontour"
           }
          ],
          "mesh3d": [
           {
            "colorbar": {
             "outlinewidth": 0,
             "ticks": ""
            },
            "type": "mesh3d"
           }
          ],
          "parcoords": [
           {
            "line": {
             "colorbar": {
              "outlinewidth": 0,
              "ticks": ""
             }
            },
            "type": "parcoords"
           }
          ],
          "pie": [
           {
            "automargin": true,
            "type": "pie"
           }
          ],
          "scatter": [
           {
            "marker": {
             "colorbar": {
              "outlinewidth": 0,
              "ticks": ""
             }
            },
            "type": "scatter"
           }
          ],
          "scatter3d": [
           {
            "line": {
             "colorbar": {
              "outlinewidth": 0,
              "ticks": ""
             }
            },
            "marker": {
             "colorbar": {
              "outlinewidth": 0,
              "ticks": ""
             }
            },
            "type": "scatter3d"
           }
          ],
          "scattercarpet": [
           {
            "marker": {
             "colorbar": {
              "outlinewidth": 0,
              "ticks": ""
             }
            },
            "type": "scattercarpet"
           }
          ],
          "scattergeo": [
           {
            "marker": {
             "colorbar": {
              "outlinewidth": 0,
              "ticks": ""
             }
            },
            "type": "scattergeo"
           }
          ],
          "scattergl": [
           {
            "marker": {
             "colorbar": {
              "outlinewidth": 0,
              "ticks": ""
             }
            },
            "type": "scattergl"
           }
          ],
          "scattermapbox": [
           {
            "marker": {
             "colorbar": {
              "outlinewidth": 0,
              "ticks": ""
             }
            },
            "type": "scattermapbox"
           }
          ],
          "scatterpolar": [
           {
            "marker": {
             "colorbar": {
              "outlinewidth": 0,
              "ticks": ""
             }
            },
            "type": "scatterpolar"
           }
          ],
          "scatterpolargl": [
           {
            "marker": {
             "colorbar": {
              "outlinewidth": 0,
              "ticks": ""
             }
            },
            "type": "scatterpolargl"
           }
          ],
          "scatterternary": [
           {
            "marker": {
             "colorbar": {
              "outlinewidth": 0,
              "ticks": ""
             }
            },
            "type": "scatterternary"
           }
          ],
          "surface": [
           {
            "colorbar": {
             "outlinewidth": 0,
             "ticks": ""
            },
            "colorscale": [
             [
              0,
              "#0d0887"
             ],
             [
              0.1111111111111111,
              "#46039f"
             ],
             [
              0.2222222222222222,
              "#7201a8"
             ],
             [
              0.3333333333333333,
              "#9c179e"
             ],
             [
              0.4444444444444444,
              "#bd3786"
             ],
             [
              0.5555555555555556,
              "#d8576b"
             ],
             [
              0.6666666666666666,
              "#ed7953"
             ],
             [
              0.7777777777777778,
              "#fb9f3a"
             ],
             [
              0.8888888888888888,
              "#fdca26"
             ],
             [
              1,
              "#f0f921"
             ]
            ],
            "type": "surface"
           }
          ],
          "table": [
           {
            "cells": {
             "fill": {
              "color": "#EBF0F8"
             },
             "line": {
              "color": "white"
             }
            },
            "header": {
             "fill": {
              "color": "#C8D4E3"
             },
             "line": {
              "color": "white"
             }
            },
            "type": "table"
           }
          ]
         },
         "layout": {
          "annotationdefaults": {
           "arrowcolor": "#2a3f5f",
           "arrowhead": 0,
           "arrowwidth": 1
          },
          "coloraxis": {
           "colorbar": {
            "outlinewidth": 0,
            "ticks": ""
           }
          },
          "colorscale": {
           "diverging": [
            [
             0,
             "#8e0152"
            ],
            [
             0.1,
             "#c51b7d"
            ],
            [
             0.2,
             "#de77ae"
            ],
            [
             0.3,
             "#f1b6da"
            ],
            [
             0.4,
             "#fde0ef"
            ],
            [
             0.5,
             "#f7f7f7"
            ],
            [
             0.6,
             "#e6f5d0"
            ],
            [
             0.7,
             "#b8e186"
            ],
            [
             0.8,
             "#7fbc41"
            ],
            [
             0.9,
             "#4d9221"
            ],
            [
             1,
             "#276419"
            ]
           ],
           "sequential": [
            [
             0,
             "#0d0887"
            ],
            [
             0.1111111111111111,
             "#46039f"
            ],
            [
             0.2222222222222222,
             "#7201a8"
            ],
            [
             0.3333333333333333,
             "#9c179e"
            ],
            [
             0.4444444444444444,
             "#bd3786"
            ],
            [
             0.5555555555555556,
             "#d8576b"
            ],
            [
             0.6666666666666666,
             "#ed7953"
            ],
            [
             0.7777777777777778,
             "#fb9f3a"
            ],
            [
             0.8888888888888888,
             "#fdca26"
            ],
            [
             1,
             "#f0f921"
            ]
           ],
           "sequentialminus": [
            [
             0,
             "#0d0887"
            ],
            [
             0.1111111111111111,
             "#46039f"
            ],
            [
             0.2222222222222222,
             "#7201a8"
            ],
            [
             0.3333333333333333,
             "#9c179e"
            ],
            [
             0.4444444444444444,
             "#bd3786"
            ],
            [
             0.5555555555555556,
             "#d8576b"
            ],
            [
             0.6666666666666666,
             "#ed7953"
            ],
            [
             0.7777777777777778,
             "#fb9f3a"
            ],
            [
             0.8888888888888888,
             "#fdca26"
            ],
            [
             1,
             "#f0f921"
            ]
           ]
          },
          "colorway": [
           "#636efa",
           "#EF553B",
           "#00cc96",
           "#ab63fa",
           "#FFA15A",
           "#19d3f3",
           "#FF6692",
           "#B6E880",
           "#FF97FF",
           "#FECB52"
          ],
          "font": {
           "color": "#2a3f5f"
          },
          "geo": {
           "bgcolor": "white",
           "lakecolor": "white",
           "landcolor": "#E5ECF6",
           "showlakes": true,
           "showland": true,
           "subunitcolor": "white"
          },
          "hoverlabel": {
           "align": "left"
          },
          "hovermode": "closest",
          "mapbox": {
           "style": "light"
          },
          "paper_bgcolor": "white",
          "plot_bgcolor": "#E5ECF6",
          "polar": {
           "angularaxis": {
            "gridcolor": "white",
            "linecolor": "white",
            "ticks": ""
           },
           "bgcolor": "#E5ECF6",
           "radialaxis": {
            "gridcolor": "white",
            "linecolor": "white",
            "ticks": ""
           }
          },
          "scene": {
           "xaxis": {
            "backgroundcolor": "#E5ECF6",
            "gridcolor": "white",
            "gridwidth": 2,
            "linecolor": "white",
            "showbackground": true,
            "ticks": "",
            "zerolinecolor": "white"
           },
           "yaxis": {
            "backgroundcolor": "#E5ECF6",
            "gridcolor": "white",
            "gridwidth": 2,
            "linecolor": "white",
            "showbackground": true,
            "ticks": "",
            "zerolinecolor": "white"
           },
           "zaxis": {
            "backgroundcolor": "#E5ECF6",
            "gridcolor": "white",
            "gridwidth": 2,
            "linecolor": "white",
            "showbackground": true,
            "ticks": "",
            "zerolinecolor": "white"
           }
          },
          "shapedefaults": {
           "line": {
            "color": "#2a3f5f"
           }
          },
          "ternary": {
           "aaxis": {
            "gridcolor": "white",
            "linecolor": "white",
            "ticks": ""
           },
           "baxis": {
            "gridcolor": "white",
            "linecolor": "white",
            "ticks": ""
           },
           "bgcolor": "#E5ECF6",
           "caxis": {
            "gridcolor": "white",
            "linecolor": "white",
            "ticks": ""
           }
          },
          "title": {
           "x": 0.05
          },
          "xaxis": {
           "automargin": true,
           "gridcolor": "white",
           "linecolor": "white",
           "ticks": "",
           "title": {
            "standoff": 15
           },
           "zerolinecolor": "white",
           "zerolinewidth": 2
          },
          "yaxis": {
           "automargin": true,
           "gridcolor": "white",
           "linecolor": "white",
           "ticks": "",
           "title": {
            "standoff": 15
           },
           "zerolinecolor": "white",
           "zerolinewidth": 2
          }
         }
        },
        "title": {
         "text": "Source of unique tweets by state"
        }
       }
      },
      "text/html": [
       "<div>\n",
       "        \n",
       "        \n",
       "            <div id=\"8e962459-62a8-44e6-83b6-eccfefb54113\" class=\"plotly-graph-div\" style=\"height:525px; width:100%;\"></div>\n",
       "            <script type=\"text/javascript\">\n",
       "                require([\"plotly\"], function(Plotly) {\n",
       "                    window.PLOTLYENV=window.PLOTLYENV || {};\n",
       "                    \n",
       "                if (document.getElementById(\"8e962459-62a8-44e6-83b6-eccfefb54113\")) {\n",
       "                    Plotly.newPlot(\n",
       "                        '8e962459-62a8-44e6-83b6-eccfefb54113',\n",
       "                        [{\"colorbar\": {\"title\": {\"text\": \"Tweets\"}}, \"colorscale\": [[0.0, \"rgb(255,245,240)\"], [0.125, \"rgb(254,224,210)\"], [0.25, \"rgb(252,187,161)\"], [0.375, \"rgb(252,146,114)\"], [0.5, \"rgb(251,106,74)\"], [0.625, \"rgb(239,59,44)\"], [0.75, \"rgb(203,24,29)\"], [0.875, \"rgb(165,15,21)\"], [1.0, \"rgb(103,0,13)\"]], \"locationmode\": \"USA-states\", \"locations\": [\"AK\", \"AL\", \"AR\", \"AZ\", \"CA\", \"CO\", \"CT\", \"DC\", \"DE\", \"FL\", \"GA\", \"HI\", \"IA\", \"ID\", \"IL\", \"IN\", \"KS\", \"KY\", \"LA\", \"MA\", \"MD\", \"ME\", \"MI\", \"MN\", \"MO\", \"MS\", \"MT\", \"NA\", \"NC\", \"ND\", \"NE\", \"NH\", \"NJ\", \"NM\", \"NV\", \"NY\", \"OH\", \"OK\", \"OR\", \"PA\", \"RI\", \"SC\", \"SD\", \"TN\", \"TX\", \"UT\", \"VA\", \"VT\", \"WA\", \"WI\", \"WV\", \"WY\"], \"type\": \"choropleth\", \"z\": [63.0, 430.0, 363.0, 665.0, 7510.0, 691.0, 293.0, 1130.0, 48.0, 2470.0, 1208.0, 176.0, 211.0, 112.0, 2748.0, 936.0, 285.0, 415.0, 882.0, 1066.0, 1380.0, 100.0, 990.0, 524.0, 7832.0, 163.0, 39.0, 90.0, 1277.0, 36.0, 147.0, 31.0, 1448.0, 180.0, 565.0, 3874.0, 1375.0, 396.0, 779.0, 1408.0, 141.0, 342.0, 37.0, 754.0, 3337.0, 267.0, 983.0, 36.0, 1181.0, 455.0, 88.0, 17.0]}],\n",
       "                        {\"geo\": {\"scope\": \"usa\"}, \"template\": {\"data\": {\"bar\": [{\"error_x\": {\"color\": \"#2a3f5f\"}, \"error_y\": {\"color\": \"#2a3f5f\"}, \"marker\": {\"line\": {\"color\": \"#E5ECF6\", \"width\": 0.5}}, \"type\": \"bar\"}], \"barpolar\": [{\"marker\": {\"line\": {\"color\": \"#E5ECF6\", \"width\": 0.5}}, \"type\": \"barpolar\"}], \"carpet\": [{\"aaxis\": {\"endlinecolor\": \"#2a3f5f\", \"gridcolor\": \"white\", \"linecolor\": \"white\", \"minorgridcolor\": \"white\", \"startlinecolor\": \"#2a3f5f\"}, \"baxis\": {\"endlinecolor\": \"#2a3f5f\", \"gridcolor\": \"white\", \"linecolor\": \"white\", \"minorgridcolor\": \"white\", \"startlinecolor\": \"#2a3f5f\"}, \"type\": \"carpet\"}], \"choropleth\": [{\"colorbar\": {\"outlinewidth\": 0, \"ticks\": \"\"}, \"type\": \"choropleth\"}], \"contour\": [{\"colorbar\": {\"outlinewidth\": 0, \"ticks\": \"\"}, \"colorscale\": [[0.0, \"#0d0887\"], [0.1111111111111111, \"#46039f\"], [0.2222222222222222, \"#7201a8\"], [0.3333333333333333, \"#9c179e\"], [0.4444444444444444, \"#bd3786\"], [0.5555555555555556, \"#d8576b\"], [0.6666666666666666, \"#ed7953\"], [0.7777777777777778, \"#fb9f3a\"], [0.8888888888888888, \"#fdca26\"], [1.0, \"#f0f921\"]], \"type\": \"contour\"}], \"contourcarpet\": [{\"colorbar\": {\"outlinewidth\": 0, \"ticks\": \"\"}, \"type\": \"contourcarpet\"}], \"heatmap\": [{\"colorbar\": {\"outlinewidth\": 0, \"ticks\": \"\"}, \"colorscale\": [[0.0, \"#0d0887\"], [0.1111111111111111, \"#46039f\"], [0.2222222222222222, \"#7201a8\"], [0.3333333333333333, \"#9c179e\"], [0.4444444444444444, \"#bd3786\"], [0.5555555555555556, \"#d8576b\"], [0.6666666666666666, \"#ed7953\"], [0.7777777777777778, \"#fb9f3a\"], [0.8888888888888888, \"#fdca26\"], [1.0, \"#f0f921\"]], \"type\": \"heatmap\"}], \"heatmapgl\": [{\"colorbar\": {\"outlinewidth\": 0, \"ticks\": \"\"}, \"colorscale\": [[0.0, \"#0d0887\"], [0.1111111111111111, \"#46039f\"], [0.2222222222222222, \"#7201a8\"], [0.3333333333333333, \"#9c179e\"], [0.4444444444444444, \"#bd3786\"], [0.5555555555555556, \"#d8576b\"], [0.6666666666666666, \"#ed7953\"], [0.7777777777777778, \"#fb9f3a\"], [0.8888888888888888, \"#fdca26\"], [1.0, \"#f0f921\"]], \"type\": \"heatmapgl\"}], \"histogram\": [{\"marker\": {\"colorbar\": {\"outlinewidth\": 0, \"ticks\": \"\"}}, \"type\": \"histogram\"}], \"histogram2d\": [{\"colorbar\": {\"outlinewidth\": 0, \"ticks\": \"\"}, \"colorscale\": [[0.0, \"#0d0887\"], [0.1111111111111111, \"#46039f\"], [0.2222222222222222, \"#7201a8\"], [0.3333333333333333, \"#9c179e\"], [0.4444444444444444, \"#bd3786\"], [0.5555555555555556, \"#d8576b\"], [0.6666666666666666, \"#ed7953\"], [0.7777777777777778, \"#fb9f3a\"], [0.8888888888888888, \"#fdca26\"], [1.0, \"#f0f921\"]], \"type\": \"histogram2d\"}], \"histogram2dcontour\": [{\"colorbar\": {\"outlinewidth\": 0, \"ticks\": \"\"}, \"colorscale\": [[0.0, \"#0d0887\"], [0.1111111111111111, \"#46039f\"], [0.2222222222222222, \"#7201a8\"], [0.3333333333333333, \"#9c179e\"], [0.4444444444444444, \"#bd3786\"], [0.5555555555555556, \"#d8576b\"], [0.6666666666666666, \"#ed7953\"], [0.7777777777777778, \"#fb9f3a\"], [0.8888888888888888, \"#fdca26\"], [1.0, \"#f0f921\"]], \"type\": \"histogram2dcontour\"}], \"mesh3d\": [{\"colorbar\": {\"outlinewidth\": 0, \"ticks\": \"\"}, \"type\": \"mesh3d\"}], \"parcoords\": [{\"line\": {\"colorbar\": {\"outlinewidth\": 0, \"ticks\": \"\"}}, \"type\": \"parcoords\"}], \"pie\": [{\"automargin\": true, \"type\": \"pie\"}], \"scatter\": [{\"marker\": {\"colorbar\": {\"outlinewidth\": 0, \"ticks\": \"\"}}, \"type\": \"scatter\"}], \"scatter3d\": [{\"line\": {\"colorbar\": {\"outlinewidth\": 0, \"ticks\": \"\"}}, \"marker\": {\"colorbar\": {\"outlinewidth\": 0, \"ticks\": \"\"}}, \"type\": \"scatter3d\"}], \"scattercarpet\": [{\"marker\": {\"colorbar\": {\"outlinewidth\": 0, \"ticks\": \"\"}}, \"type\": \"scattercarpet\"}], \"scattergeo\": [{\"marker\": {\"colorbar\": {\"outlinewidth\": 0, \"ticks\": \"\"}}, \"type\": \"scattergeo\"}], \"scattergl\": [{\"marker\": {\"colorbar\": {\"outlinewidth\": 0, \"ticks\": \"\"}}, \"type\": \"scattergl\"}], \"scattermapbox\": [{\"marker\": {\"colorbar\": {\"outlinewidth\": 0, \"ticks\": \"\"}}, \"type\": \"scattermapbox\"}], \"scatterpolar\": [{\"marker\": {\"colorbar\": {\"outlinewidth\": 0, \"ticks\": \"\"}}, \"type\": \"scatterpolar\"}], \"scatterpolargl\": [{\"marker\": {\"colorbar\": {\"outlinewidth\": 0, \"ticks\": \"\"}}, \"type\": \"scatterpolargl\"}], \"scatterternary\": [{\"marker\": {\"colorbar\": {\"outlinewidth\": 0, \"ticks\": \"\"}}, \"type\": \"scatterternary\"}], \"surface\": [{\"colorbar\": {\"outlinewidth\": 0, \"ticks\": \"\"}, \"colorscale\": [[0.0, \"#0d0887\"], [0.1111111111111111, \"#46039f\"], [0.2222222222222222, \"#7201a8\"], [0.3333333333333333, \"#9c179e\"], [0.4444444444444444, \"#bd3786\"], [0.5555555555555556, \"#d8576b\"], [0.6666666666666666, \"#ed7953\"], [0.7777777777777778, \"#fb9f3a\"], [0.8888888888888888, \"#fdca26\"], [1.0, \"#f0f921\"]], \"type\": \"surface\"}], \"table\": [{\"cells\": {\"fill\": {\"color\": \"#EBF0F8\"}, \"line\": {\"color\": \"white\"}}, \"header\": {\"fill\": {\"color\": \"#C8D4E3\"}, \"line\": {\"color\": \"white\"}}, \"type\": \"table\"}]}, \"layout\": {\"annotationdefaults\": {\"arrowcolor\": \"#2a3f5f\", \"arrowhead\": 0, \"arrowwidth\": 1}, \"coloraxis\": {\"colorbar\": {\"outlinewidth\": 0, \"ticks\": \"\"}}, \"colorscale\": {\"diverging\": [[0, \"#8e0152\"], [0.1, \"#c51b7d\"], [0.2, \"#de77ae\"], [0.3, \"#f1b6da\"], [0.4, \"#fde0ef\"], [0.5, \"#f7f7f7\"], [0.6, \"#e6f5d0\"], [0.7, \"#b8e186\"], [0.8, \"#7fbc41\"], [0.9, \"#4d9221\"], [1, \"#276419\"]], \"sequential\": [[0.0, \"#0d0887\"], [0.1111111111111111, \"#46039f\"], [0.2222222222222222, \"#7201a8\"], [0.3333333333333333, \"#9c179e\"], [0.4444444444444444, \"#bd3786\"], [0.5555555555555556, \"#d8576b\"], [0.6666666666666666, \"#ed7953\"], [0.7777777777777778, \"#fb9f3a\"], [0.8888888888888888, \"#fdca26\"], [1.0, \"#f0f921\"]], \"sequentialminus\": [[0.0, \"#0d0887\"], [0.1111111111111111, \"#46039f\"], [0.2222222222222222, \"#7201a8\"], [0.3333333333333333, \"#9c179e\"], [0.4444444444444444, \"#bd3786\"], [0.5555555555555556, \"#d8576b\"], [0.6666666666666666, \"#ed7953\"], [0.7777777777777778, \"#fb9f3a\"], [0.8888888888888888, \"#fdca26\"], [1.0, \"#f0f921\"]]}, \"colorway\": [\"#636efa\", \"#EF553B\", \"#00cc96\", \"#ab63fa\", \"#FFA15A\", \"#19d3f3\", \"#FF6692\", \"#B6E880\", \"#FF97FF\", \"#FECB52\"], \"font\": {\"color\": \"#2a3f5f\"}, \"geo\": {\"bgcolor\": \"white\", \"lakecolor\": \"white\", \"landcolor\": \"#E5ECF6\", \"showlakes\": true, \"showland\": true, \"subunitcolor\": \"white\"}, \"hoverlabel\": {\"align\": \"left\"}, \"hovermode\": \"closest\", \"mapbox\": {\"style\": \"light\"}, \"paper_bgcolor\": \"white\", \"plot_bgcolor\": \"#E5ECF6\", \"polar\": {\"angularaxis\": {\"gridcolor\": \"white\", \"linecolor\": \"white\", \"ticks\": \"\"}, \"bgcolor\": \"#E5ECF6\", \"radialaxis\": {\"gridcolor\": \"white\", \"linecolor\": \"white\", \"ticks\": \"\"}}, \"scene\": {\"xaxis\": {\"backgroundcolor\": \"#E5ECF6\", \"gridcolor\": \"white\", \"gridwidth\": 2, \"linecolor\": \"white\", \"showbackground\": true, \"ticks\": \"\", \"zerolinecolor\": \"white\"}, \"yaxis\": {\"backgroundcolor\": \"#E5ECF6\", \"gridcolor\": \"white\", \"gridwidth\": 2, \"linecolor\": \"white\", \"showbackground\": true, \"ticks\": \"\", \"zerolinecolor\": \"white\"}, \"zaxis\": {\"backgroundcolor\": \"#E5ECF6\", \"gridcolor\": \"white\", \"gridwidth\": 2, \"linecolor\": \"white\", \"showbackground\": true, \"ticks\": \"\", \"zerolinecolor\": \"white\"}}, \"shapedefaults\": {\"line\": {\"color\": \"#2a3f5f\"}}, \"ternary\": {\"aaxis\": {\"gridcolor\": \"white\", \"linecolor\": \"white\", \"ticks\": \"\"}, \"baxis\": {\"gridcolor\": \"white\", \"linecolor\": \"white\", \"ticks\": \"\"}, \"bgcolor\": \"#E5ECF6\", \"caxis\": {\"gridcolor\": \"white\", \"linecolor\": \"white\", \"ticks\": \"\"}}, \"title\": {\"x\": 0.05}, \"xaxis\": {\"automargin\": true, \"gridcolor\": \"white\", \"linecolor\": \"white\", \"ticks\": \"\", \"title\": {\"standoff\": 15}, \"zerolinecolor\": \"white\", \"zerolinewidth\": 2}, \"yaxis\": {\"automargin\": true, \"gridcolor\": \"white\", \"linecolor\": \"white\", \"ticks\": \"\", \"title\": {\"standoff\": 15}, \"zerolinecolor\": \"white\", \"zerolinewidth\": 2}}}, \"title\": {\"text\": \"Source of unique tweets by state\"}},\n",
       "                        {\"responsive\": true}\n",
       "                    ).then(function(){\n",
       "                            \n",
       "var gd = document.getElementById('8e962459-62a8-44e6-83b6-eccfefb54113');\n",
       "var x = new MutationObserver(function (mutations, observer) {{\n",
       "        var display = window.getComputedStyle(gd).display;\n",
       "        if (!display || display === 'none') {{\n",
       "            console.log([gd, 'removed!']);\n",
       "            Plotly.purge(gd);\n",
       "            observer.disconnect();\n",
       "        }}\n",
       "}});\n",
       "\n",
       "// Listen for the removal of the full notebook cells\n",
       "var notebookContainer = gd.closest('#notebook-container');\n",
       "if (notebookContainer) {{\n",
       "    x.observe(notebookContainer, {childList: true});\n",
       "}}\n",
       "\n",
       "// Listen for the clearing of the current output cell\n",
       "var outputEl = gd.closest('.output');\n",
       "if (outputEl) {{\n",
       "    x.observe(outputEl, {childList: true});\n",
       "}}\n",
       "\n",
       "                        })\n",
       "                };\n",
       "                });\n",
       "            </script>\n",
       "        </div>"
      ]
     },
     "metadata": {},
     "output_type": "display_data"
    }
   ],
   "source": [
    "df = df_pl[df_pl['is_retweet']==False]\n",
    "df = df[df['country'] == 'US']\n",
    "mask = (df['state'].str.len() == 2)\n",
    "df = df.loc[mask]\n",
    "df = df.groupby(['state']).agg(['sum'])['total']\n",
    "df\n",
    "\n",
    "fig = go.Figure(data=go.Choropleth(\n",
    "    locations=df.index, # Spatial coordinates\n",
    "    z = df['sum'].astype(float), # Data to be color-coded\n",
    "    locationmode = 'USA-states', # set of locations match entries in `locations`\n",
    "    colorscale = 'Reds',\n",
    "    colorbar_title = \"Tweets\",\n",
    "))\n",
    "\n",
    "fig.update_layout(\n",
    "    title_text = 'Source of unique tweets by state',\n",
    "    geo_scope='usa', # limite map scope to USA\n",
    ")\n",
    "\n",
    "fig.show()"
   ]
  },
  {
   "cell_type": "markdown",
   "metadata": {},
   "source": [
    "We can see how the most common states for Twitter activity are Missouri, California, Texas and New York. This means that most content was created near the source of events and also by the most populated areas in the country."
   ]
  },
  {
   "cell_type": "code",
   "execution_count": 99,
   "metadata": {},
   "outputs": [
    {
     "data": {
      "application/vnd.plotly.v1+json": {
       "config": {
        "plotlyServerURL": "https://plot.ly"
       },
       "data": [
        {
         "colorbar": {
          "title": {
           "text": "Retweets"
          }
         },
         "colorscale": [
          [
           0,
           "rgb(247,251,255)"
          ],
          [
           0.125,
           "rgb(222,235,247)"
          ],
          [
           0.25,
           "rgb(198,219,239)"
          ],
          [
           0.375,
           "rgb(158,202,225)"
          ],
          [
           0.5,
           "rgb(107,174,214)"
          ],
          [
           0.625,
           "rgb(66,146,198)"
          ],
          [
           0.75,
           "rgb(33,113,181)"
          ],
          [
           0.875,
           "rgb(8,81,156)"
          ],
          [
           1,
           "rgb(8,48,107)"
          ]
         ],
         "locationmode": "USA-states",
         "locations": [
          "AK",
          "AL",
          "AR",
          "AZ",
          "CA",
          "CO",
          "CT",
          "DC",
          "DE",
          "FL",
          "GA",
          "HI",
          "IA",
          "ID",
          "IL",
          "IN",
          "KS",
          "KY",
          "LA",
          "MA",
          "MD",
          "ME",
          "MI",
          "MN",
          "MO",
          "MS",
          "MT",
          "NC",
          "ND",
          "NE",
          "NH",
          "NJ",
          "NM",
          "NV",
          "NY",
          "OH",
          "OK",
          "OR",
          "PA",
          "RI",
          "SC",
          "SD",
          "TN",
          "TX",
          "UT",
          "VA",
          "VT",
          "WA",
          "WI",
          "WV",
          "WY"
         ],
         "type": "choropleth",
         "z": [
          9,
          57,
          32,
          83,
          800,
          81,
          40,
          76,
          3,
          324,
          160,
          14,
          19,
          4,
          287,
          105,
          21,
          40,
          94,
          93,
          175,
          18,
          123,
          39,
          569,
          38,
          2,
          110,
          2,
          17,
          3,
          169,
          97,
          49,
          367,
          141,
          23,
          44,
          138,
          12,
          41,
          8,
          75,
          420,
          25,
          109,
          2,
          96,
          32,
          9,
          1
         ]
        }
       ],
       "layout": {
        "geo": {
         "scope": "usa"
        },
        "template": {
         "data": {
          "bar": [
           {
            "error_x": {
             "color": "#2a3f5f"
            },
            "error_y": {
             "color": "#2a3f5f"
            },
            "marker": {
             "line": {
              "color": "#E5ECF6",
              "width": 0.5
             }
            },
            "type": "bar"
           }
          ],
          "barpolar": [
           {
            "marker": {
             "line": {
              "color": "#E5ECF6",
              "width": 0.5
             }
            },
            "type": "barpolar"
           }
          ],
          "carpet": [
           {
            "aaxis": {
             "endlinecolor": "#2a3f5f",
             "gridcolor": "white",
             "linecolor": "white",
             "minorgridcolor": "white",
             "startlinecolor": "#2a3f5f"
            },
            "baxis": {
             "endlinecolor": "#2a3f5f",
             "gridcolor": "white",
             "linecolor": "white",
             "minorgridcolor": "white",
             "startlinecolor": "#2a3f5f"
            },
            "type": "carpet"
           }
          ],
          "choropleth": [
           {
            "colorbar": {
             "outlinewidth": 0,
             "ticks": ""
            },
            "type": "choropleth"
           }
          ],
          "contour": [
           {
            "colorbar": {
             "outlinewidth": 0,
             "ticks": ""
            },
            "colorscale": [
             [
              0,
              "#0d0887"
             ],
             [
              0.1111111111111111,
              "#46039f"
             ],
             [
              0.2222222222222222,
              "#7201a8"
             ],
             [
              0.3333333333333333,
              "#9c179e"
             ],
             [
              0.4444444444444444,
              "#bd3786"
             ],
             [
              0.5555555555555556,
              "#d8576b"
             ],
             [
              0.6666666666666666,
              "#ed7953"
             ],
             [
              0.7777777777777778,
              "#fb9f3a"
             ],
             [
              0.8888888888888888,
              "#fdca26"
             ],
             [
              1,
              "#f0f921"
             ]
            ],
            "type": "contour"
           }
          ],
          "contourcarpet": [
           {
            "colorbar": {
             "outlinewidth": 0,
             "ticks": ""
            },
            "type": "contourcarpet"
           }
          ],
          "heatmap": [
           {
            "colorbar": {
             "outlinewidth": 0,
             "ticks": ""
            },
            "colorscale": [
             [
              0,
              "#0d0887"
             ],
             [
              0.1111111111111111,
              "#46039f"
             ],
             [
              0.2222222222222222,
              "#7201a8"
             ],
             [
              0.3333333333333333,
              "#9c179e"
             ],
             [
              0.4444444444444444,
              "#bd3786"
             ],
             [
              0.5555555555555556,
              "#d8576b"
             ],
             [
              0.6666666666666666,
              "#ed7953"
             ],
             [
              0.7777777777777778,
              "#fb9f3a"
             ],
             [
              0.8888888888888888,
              "#fdca26"
             ],
             [
              1,
              "#f0f921"
             ]
            ],
            "type": "heatmap"
           }
          ],
          "heatmapgl": [
           {
            "colorbar": {
             "outlinewidth": 0,
             "ticks": ""
            },
            "colorscale": [
             [
              0,
              "#0d0887"
             ],
             [
              0.1111111111111111,
              "#46039f"
             ],
             [
              0.2222222222222222,
              "#7201a8"
             ],
             [
              0.3333333333333333,
              "#9c179e"
             ],
             [
              0.4444444444444444,
              "#bd3786"
             ],
             [
              0.5555555555555556,
              "#d8576b"
             ],
             [
              0.6666666666666666,
              "#ed7953"
             ],
             [
              0.7777777777777778,
              "#fb9f3a"
             ],
             [
              0.8888888888888888,
              "#fdca26"
             ],
             [
              1,
              "#f0f921"
             ]
            ],
            "type": "heatmapgl"
           }
          ],
          "histogram": [
           {
            "marker": {
             "colorbar": {
              "outlinewidth": 0,
              "ticks": ""
             }
            },
            "type": "histogram"
           }
          ],
          "histogram2d": [
           {
            "colorbar": {
             "outlinewidth": 0,
             "ticks": ""
            },
            "colorscale": [
             [
              0,
              "#0d0887"
             ],
             [
              0.1111111111111111,
              "#46039f"
             ],
             [
              0.2222222222222222,
              "#7201a8"
             ],
             [
              0.3333333333333333,
              "#9c179e"
             ],
             [
              0.4444444444444444,
              "#bd3786"
             ],
             [
              0.5555555555555556,
              "#d8576b"
             ],
             [
              0.6666666666666666,
              "#ed7953"
             ],
             [
              0.7777777777777778,
              "#fb9f3a"
             ],
             [
              0.8888888888888888,
              "#fdca26"
             ],
             [
              1,
              "#f0f921"
             ]
            ],
            "type": "histogram2d"
           }
          ],
          "histogram2dcontour": [
           {
            "colorbar": {
             "outlinewidth": 0,
             "ticks": ""
            },
            "colorscale": [
             [
              0,
              "#0d0887"
             ],
             [
              0.1111111111111111,
              "#46039f"
             ],
             [
              0.2222222222222222,
              "#7201a8"
             ],
             [
              0.3333333333333333,
              "#9c179e"
             ],
             [
              0.4444444444444444,
              "#bd3786"
             ],
             [
              0.5555555555555556,
              "#d8576b"
             ],
             [
              0.6666666666666666,
              "#ed7953"
             ],
             [
              0.7777777777777778,
              "#fb9f3a"
             ],
             [
              0.8888888888888888,
              "#fdca26"
             ],
             [
              1,
              "#f0f921"
             ]
            ],
            "type": "histogram2dcontour"
           }
          ],
          "mesh3d": [
           {
            "colorbar": {
             "outlinewidth": 0,
             "ticks": ""
            },
            "type": "mesh3d"
           }
          ],
          "parcoords": [
           {
            "line": {
             "colorbar": {
              "outlinewidth": 0,
              "ticks": ""
             }
            },
            "type": "parcoords"
           }
          ],
          "pie": [
           {
            "automargin": true,
            "type": "pie"
           }
          ],
          "scatter": [
           {
            "marker": {
             "colorbar": {
              "outlinewidth": 0,
              "ticks": ""
             }
            },
            "type": "scatter"
           }
          ],
          "scatter3d": [
           {
            "line": {
             "colorbar": {
              "outlinewidth": 0,
              "ticks": ""
             }
            },
            "marker": {
             "colorbar": {
              "outlinewidth": 0,
              "ticks": ""
             }
            },
            "type": "scatter3d"
           }
          ],
          "scattercarpet": [
           {
            "marker": {
             "colorbar": {
              "outlinewidth": 0,
              "ticks": ""
             }
            },
            "type": "scattercarpet"
           }
          ],
          "scattergeo": [
           {
            "marker": {
             "colorbar": {
              "outlinewidth": 0,
              "ticks": ""
             }
            },
            "type": "scattergeo"
           }
          ],
          "scattergl": [
           {
            "marker": {
             "colorbar": {
              "outlinewidth": 0,
              "ticks": ""
             }
            },
            "type": "scattergl"
           }
          ],
          "scattermapbox": [
           {
            "marker": {
             "colorbar": {
              "outlinewidth": 0,
              "ticks": ""
             }
            },
            "type": "scattermapbox"
           }
          ],
          "scatterpolar": [
           {
            "marker": {
             "colorbar": {
              "outlinewidth": 0,
              "ticks": ""
             }
            },
            "type": "scatterpolar"
           }
          ],
          "scatterpolargl": [
           {
            "marker": {
             "colorbar": {
              "outlinewidth": 0,
              "ticks": ""
             }
            },
            "type": "scatterpolargl"
           }
          ],
          "scatterternary": [
           {
            "marker": {
             "colorbar": {
              "outlinewidth": 0,
              "ticks": ""
             }
            },
            "type": "scatterternary"
           }
          ],
          "surface": [
           {
            "colorbar": {
             "outlinewidth": 0,
             "ticks": ""
            },
            "colorscale": [
             [
              0,
              "#0d0887"
             ],
             [
              0.1111111111111111,
              "#46039f"
             ],
             [
              0.2222222222222222,
              "#7201a8"
             ],
             [
              0.3333333333333333,
              "#9c179e"
             ],
             [
              0.4444444444444444,
              "#bd3786"
             ],
             [
              0.5555555555555556,
              "#d8576b"
             ],
             [
              0.6666666666666666,
              "#ed7953"
             ],
             [
              0.7777777777777778,
              "#fb9f3a"
             ],
             [
              0.8888888888888888,
              "#fdca26"
             ],
             [
              1,
              "#f0f921"
             ]
            ],
            "type": "surface"
           }
          ],
          "table": [
           {
            "cells": {
             "fill": {
              "color": "#EBF0F8"
             },
             "line": {
              "color": "white"
             }
            },
            "header": {
             "fill": {
              "color": "#C8D4E3"
             },
             "line": {
              "color": "white"
             }
            },
            "type": "table"
           }
          ]
         },
         "layout": {
          "annotationdefaults": {
           "arrowcolor": "#2a3f5f",
           "arrowhead": 0,
           "arrowwidth": 1
          },
          "coloraxis": {
           "colorbar": {
            "outlinewidth": 0,
            "ticks": ""
           }
          },
          "colorscale": {
           "diverging": [
            [
             0,
             "#8e0152"
            ],
            [
             0.1,
             "#c51b7d"
            ],
            [
             0.2,
             "#de77ae"
            ],
            [
             0.3,
             "#f1b6da"
            ],
            [
             0.4,
             "#fde0ef"
            ],
            [
             0.5,
             "#f7f7f7"
            ],
            [
             0.6,
             "#e6f5d0"
            ],
            [
             0.7,
             "#b8e186"
            ],
            [
             0.8,
             "#7fbc41"
            ],
            [
             0.9,
             "#4d9221"
            ],
            [
             1,
             "#276419"
            ]
           ],
           "sequential": [
            [
             0,
             "#0d0887"
            ],
            [
             0.1111111111111111,
             "#46039f"
            ],
            [
             0.2222222222222222,
             "#7201a8"
            ],
            [
             0.3333333333333333,
             "#9c179e"
            ],
            [
             0.4444444444444444,
             "#bd3786"
            ],
            [
             0.5555555555555556,
             "#d8576b"
            ],
            [
             0.6666666666666666,
             "#ed7953"
            ],
            [
             0.7777777777777778,
             "#fb9f3a"
            ],
            [
             0.8888888888888888,
             "#fdca26"
            ],
            [
             1,
             "#f0f921"
            ]
           ],
           "sequentialminus": [
            [
             0,
             "#0d0887"
            ],
            [
             0.1111111111111111,
             "#46039f"
            ],
            [
             0.2222222222222222,
             "#7201a8"
            ],
            [
             0.3333333333333333,
             "#9c179e"
            ],
            [
             0.4444444444444444,
             "#bd3786"
            ],
            [
             0.5555555555555556,
             "#d8576b"
            ],
            [
             0.6666666666666666,
             "#ed7953"
            ],
            [
             0.7777777777777778,
             "#fb9f3a"
            ],
            [
             0.8888888888888888,
             "#fdca26"
            ],
            [
             1,
             "#f0f921"
            ]
           ]
          },
          "colorway": [
           "#636efa",
           "#EF553B",
           "#00cc96",
           "#ab63fa",
           "#FFA15A",
           "#19d3f3",
           "#FF6692",
           "#B6E880",
           "#FF97FF",
           "#FECB52"
          ],
          "font": {
           "color": "#2a3f5f"
          },
          "geo": {
           "bgcolor": "white",
           "lakecolor": "white",
           "landcolor": "#E5ECF6",
           "showlakes": true,
           "showland": true,
           "subunitcolor": "white"
          },
          "hoverlabel": {
           "align": "left"
          },
          "hovermode": "closest",
          "mapbox": {
           "style": "light"
          },
          "paper_bgcolor": "white",
          "plot_bgcolor": "#E5ECF6",
          "polar": {
           "angularaxis": {
            "gridcolor": "white",
            "linecolor": "white",
            "ticks": ""
           },
           "bgcolor": "#E5ECF6",
           "radialaxis": {
            "gridcolor": "white",
            "linecolor": "white",
            "ticks": ""
           }
          },
          "scene": {
           "xaxis": {
            "backgroundcolor": "#E5ECF6",
            "gridcolor": "white",
            "gridwidth": 2,
            "linecolor": "white",
            "showbackground": true,
            "ticks": "",
            "zerolinecolor": "white"
           },
           "yaxis": {
            "backgroundcolor": "#E5ECF6",
            "gridcolor": "white",
            "gridwidth": 2,
            "linecolor": "white",
            "showbackground": true,
            "ticks": "",
            "zerolinecolor": "white"
           },
           "zaxis": {
            "backgroundcolor": "#E5ECF6",
            "gridcolor": "white",
            "gridwidth": 2,
            "linecolor": "white",
            "showbackground": true,
            "ticks": "",
            "zerolinecolor": "white"
           }
          },
          "shapedefaults": {
           "line": {
            "color": "#2a3f5f"
           }
          },
          "ternary": {
           "aaxis": {
            "gridcolor": "white",
            "linecolor": "white",
            "ticks": ""
           },
           "baxis": {
            "gridcolor": "white",
            "linecolor": "white",
            "ticks": ""
           },
           "bgcolor": "#E5ECF6",
           "caxis": {
            "gridcolor": "white",
            "linecolor": "white",
            "ticks": ""
           }
          },
          "title": {
           "x": 0.05
          },
          "xaxis": {
           "automargin": true,
           "gridcolor": "white",
           "linecolor": "white",
           "ticks": "",
           "title": {
            "standoff": 15
           },
           "zerolinecolor": "white",
           "zerolinewidth": 2
          },
          "yaxis": {
           "automargin": true,
           "gridcolor": "white",
           "linecolor": "white",
           "ticks": "",
           "title": {
            "standoff": 15
           },
           "zerolinecolor": "white",
           "zerolinewidth": 2
          }
         }
        },
        "title": {
         "text": "Source of retweets by state"
        }
       }
      },
      "text/html": [
       "<div>\n",
       "        \n",
       "        \n",
       "            <div id=\"b87a20b1-2304-45c1-a2fb-a28d448c3b0a\" class=\"plotly-graph-div\" style=\"height:525px; width:100%;\"></div>\n",
       "            <script type=\"text/javascript\">\n",
       "                require([\"plotly\"], function(Plotly) {\n",
       "                    window.PLOTLYENV=window.PLOTLYENV || {};\n",
       "                    \n",
       "                if (document.getElementById(\"b87a20b1-2304-45c1-a2fb-a28d448c3b0a\")) {\n",
       "                    Plotly.newPlot(\n",
       "                        'b87a20b1-2304-45c1-a2fb-a28d448c3b0a',\n",
       "                        [{\"colorbar\": {\"title\": {\"text\": \"Retweets\"}}, \"colorscale\": [[0.0, \"rgb(247,251,255)\"], [0.125, \"rgb(222,235,247)\"], [0.25, \"rgb(198,219,239)\"], [0.375, \"rgb(158,202,225)\"], [0.5, \"rgb(107,174,214)\"], [0.625, \"rgb(66,146,198)\"], [0.75, \"rgb(33,113,181)\"], [0.875, \"rgb(8,81,156)\"], [1.0, \"rgb(8,48,107)\"]], \"locationmode\": \"USA-states\", \"locations\": [\"AK\", \"AL\", \"AR\", \"AZ\", \"CA\", \"CO\", \"CT\", \"DC\", \"DE\", \"FL\", \"GA\", \"HI\", \"IA\", \"ID\", \"IL\", \"IN\", \"KS\", \"KY\", \"LA\", \"MA\", \"MD\", \"ME\", \"MI\", \"MN\", \"MO\", \"MS\", \"MT\", \"NC\", \"ND\", \"NE\", \"NH\", \"NJ\", \"NM\", \"NV\", \"NY\", \"OH\", \"OK\", \"OR\", \"PA\", \"RI\", \"SC\", \"SD\", \"TN\", \"TX\", \"UT\", \"VA\", \"VT\", \"WA\", \"WI\", \"WV\", \"WY\"], \"type\": \"choropleth\", \"z\": [9.0, 57.0, 32.0, 83.0, 800.0, 81.0, 40.0, 76.0, 3.0, 324.0, 160.0, 14.0, 19.0, 4.0, 287.0, 105.0, 21.0, 40.0, 94.0, 93.0, 175.0, 18.0, 123.0, 39.0, 569.0, 38.0, 2.0, 110.0, 2.0, 17.0, 3.0, 169.0, 97.0, 49.0, 367.0, 141.0, 23.0, 44.0, 138.0, 12.0, 41.0, 8.0, 75.0, 420.0, 25.0, 109.0, 2.0, 96.0, 32.0, 9.0, 1.0]}],\n",
       "                        {\"geo\": {\"scope\": \"usa\"}, \"template\": {\"data\": {\"bar\": [{\"error_x\": {\"color\": \"#2a3f5f\"}, \"error_y\": {\"color\": \"#2a3f5f\"}, \"marker\": {\"line\": {\"color\": \"#E5ECF6\", \"width\": 0.5}}, \"type\": \"bar\"}], \"barpolar\": [{\"marker\": {\"line\": {\"color\": \"#E5ECF6\", \"width\": 0.5}}, \"type\": \"barpolar\"}], \"carpet\": [{\"aaxis\": {\"endlinecolor\": \"#2a3f5f\", \"gridcolor\": \"white\", \"linecolor\": \"white\", \"minorgridcolor\": \"white\", \"startlinecolor\": \"#2a3f5f\"}, \"baxis\": {\"endlinecolor\": \"#2a3f5f\", \"gridcolor\": \"white\", \"linecolor\": \"white\", \"minorgridcolor\": \"white\", \"startlinecolor\": \"#2a3f5f\"}, \"type\": \"carpet\"}], \"choropleth\": [{\"colorbar\": {\"outlinewidth\": 0, \"ticks\": \"\"}, \"type\": \"choropleth\"}], \"contour\": [{\"colorbar\": {\"outlinewidth\": 0, \"ticks\": \"\"}, \"colorscale\": [[0.0, \"#0d0887\"], [0.1111111111111111, \"#46039f\"], [0.2222222222222222, \"#7201a8\"], [0.3333333333333333, \"#9c179e\"], [0.4444444444444444, \"#bd3786\"], [0.5555555555555556, \"#d8576b\"], [0.6666666666666666, \"#ed7953\"], [0.7777777777777778, \"#fb9f3a\"], [0.8888888888888888, \"#fdca26\"], [1.0, \"#f0f921\"]], \"type\": \"contour\"}], \"contourcarpet\": [{\"colorbar\": {\"outlinewidth\": 0, \"ticks\": \"\"}, \"type\": \"contourcarpet\"}], \"heatmap\": [{\"colorbar\": {\"outlinewidth\": 0, \"ticks\": \"\"}, \"colorscale\": [[0.0, \"#0d0887\"], [0.1111111111111111, \"#46039f\"], [0.2222222222222222, \"#7201a8\"], [0.3333333333333333, \"#9c179e\"], [0.4444444444444444, \"#bd3786\"], [0.5555555555555556, \"#d8576b\"], [0.6666666666666666, \"#ed7953\"], [0.7777777777777778, \"#fb9f3a\"], [0.8888888888888888, \"#fdca26\"], [1.0, \"#f0f921\"]], \"type\": \"heatmap\"}], \"heatmapgl\": [{\"colorbar\": {\"outlinewidth\": 0, \"ticks\": \"\"}, \"colorscale\": [[0.0, \"#0d0887\"], [0.1111111111111111, \"#46039f\"], [0.2222222222222222, \"#7201a8\"], [0.3333333333333333, \"#9c179e\"], [0.4444444444444444, \"#bd3786\"], [0.5555555555555556, \"#d8576b\"], [0.6666666666666666, \"#ed7953\"], [0.7777777777777778, \"#fb9f3a\"], [0.8888888888888888, \"#fdca26\"], [1.0, \"#f0f921\"]], \"type\": \"heatmapgl\"}], \"histogram\": [{\"marker\": {\"colorbar\": {\"outlinewidth\": 0, \"ticks\": \"\"}}, \"type\": \"histogram\"}], \"histogram2d\": [{\"colorbar\": {\"outlinewidth\": 0, \"ticks\": \"\"}, \"colorscale\": [[0.0, \"#0d0887\"], [0.1111111111111111, \"#46039f\"], [0.2222222222222222, \"#7201a8\"], [0.3333333333333333, \"#9c179e\"], [0.4444444444444444, \"#bd3786\"], [0.5555555555555556, \"#d8576b\"], [0.6666666666666666, \"#ed7953\"], [0.7777777777777778, \"#fb9f3a\"], [0.8888888888888888, \"#fdca26\"], [1.0, \"#f0f921\"]], \"type\": \"histogram2d\"}], \"histogram2dcontour\": [{\"colorbar\": {\"outlinewidth\": 0, \"ticks\": \"\"}, \"colorscale\": [[0.0, \"#0d0887\"], [0.1111111111111111, \"#46039f\"], [0.2222222222222222, \"#7201a8\"], [0.3333333333333333, \"#9c179e\"], [0.4444444444444444, \"#bd3786\"], [0.5555555555555556, \"#d8576b\"], [0.6666666666666666, \"#ed7953\"], [0.7777777777777778, \"#fb9f3a\"], [0.8888888888888888, \"#fdca26\"], [1.0, \"#f0f921\"]], \"type\": \"histogram2dcontour\"}], \"mesh3d\": [{\"colorbar\": {\"outlinewidth\": 0, \"ticks\": \"\"}, \"type\": \"mesh3d\"}], \"parcoords\": [{\"line\": {\"colorbar\": {\"outlinewidth\": 0, \"ticks\": \"\"}}, \"type\": \"parcoords\"}], \"pie\": [{\"automargin\": true, \"type\": \"pie\"}], \"scatter\": [{\"marker\": {\"colorbar\": {\"outlinewidth\": 0, \"ticks\": \"\"}}, \"type\": \"scatter\"}], \"scatter3d\": [{\"line\": {\"colorbar\": {\"outlinewidth\": 0, \"ticks\": \"\"}}, \"marker\": {\"colorbar\": {\"outlinewidth\": 0, \"ticks\": \"\"}}, \"type\": \"scatter3d\"}], \"scattercarpet\": [{\"marker\": {\"colorbar\": {\"outlinewidth\": 0, \"ticks\": \"\"}}, \"type\": \"scattercarpet\"}], \"scattergeo\": [{\"marker\": {\"colorbar\": {\"outlinewidth\": 0, \"ticks\": \"\"}}, \"type\": \"scattergeo\"}], \"scattergl\": [{\"marker\": {\"colorbar\": {\"outlinewidth\": 0, \"ticks\": \"\"}}, \"type\": \"scattergl\"}], \"scattermapbox\": [{\"marker\": {\"colorbar\": {\"outlinewidth\": 0, \"ticks\": \"\"}}, \"type\": \"scattermapbox\"}], \"scatterpolar\": [{\"marker\": {\"colorbar\": {\"outlinewidth\": 0, \"ticks\": \"\"}}, \"type\": \"scatterpolar\"}], \"scatterpolargl\": [{\"marker\": {\"colorbar\": {\"outlinewidth\": 0, \"ticks\": \"\"}}, \"type\": \"scatterpolargl\"}], \"scatterternary\": [{\"marker\": {\"colorbar\": {\"outlinewidth\": 0, \"ticks\": \"\"}}, \"type\": \"scatterternary\"}], \"surface\": [{\"colorbar\": {\"outlinewidth\": 0, \"ticks\": \"\"}, \"colorscale\": [[0.0, \"#0d0887\"], [0.1111111111111111, \"#46039f\"], [0.2222222222222222, \"#7201a8\"], [0.3333333333333333, \"#9c179e\"], [0.4444444444444444, \"#bd3786\"], [0.5555555555555556, \"#d8576b\"], [0.6666666666666666, \"#ed7953\"], [0.7777777777777778, \"#fb9f3a\"], [0.8888888888888888, \"#fdca26\"], [1.0, \"#f0f921\"]], \"type\": \"surface\"}], \"table\": [{\"cells\": {\"fill\": {\"color\": \"#EBF0F8\"}, \"line\": {\"color\": \"white\"}}, \"header\": {\"fill\": {\"color\": \"#C8D4E3\"}, \"line\": {\"color\": \"white\"}}, \"type\": \"table\"}]}, \"layout\": {\"annotationdefaults\": {\"arrowcolor\": \"#2a3f5f\", \"arrowhead\": 0, \"arrowwidth\": 1}, \"coloraxis\": {\"colorbar\": {\"outlinewidth\": 0, \"ticks\": \"\"}}, \"colorscale\": {\"diverging\": [[0, \"#8e0152\"], [0.1, \"#c51b7d\"], [0.2, \"#de77ae\"], [0.3, \"#f1b6da\"], [0.4, \"#fde0ef\"], [0.5, \"#f7f7f7\"], [0.6, \"#e6f5d0\"], [0.7, \"#b8e186\"], [0.8, \"#7fbc41\"], [0.9, \"#4d9221\"], [1, \"#276419\"]], \"sequential\": [[0.0, \"#0d0887\"], [0.1111111111111111, \"#46039f\"], [0.2222222222222222, \"#7201a8\"], [0.3333333333333333, \"#9c179e\"], [0.4444444444444444, \"#bd3786\"], [0.5555555555555556, \"#d8576b\"], [0.6666666666666666, \"#ed7953\"], [0.7777777777777778, \"#fb9f3a\"], [0.8888888888888888, \"#fdca26\"], [1.0, \"#f0f921\"]], \"sequentialminus\": [[0.0, \"#0d0887\"], [0.1111111111111111, \"#46039f\"], [0.2222222222222222, \"#7201a8\"], [0.3333333333333333, \"#9c179e\"], [0.4444444444444444, \"#bd3786\"], [0.5555555555555556, \"#d8576b\"], [0.6666666666666666, \"#ed7953\"], [0.7777777777777778, \"#fb9f3a\"], [0.8888888888888888, \"#fdca26\"], [1.0, \"#f0f921\"]]}, \"colorway\": [\"#636efa\", \"#EF553B\", \"#00cc96\", \"#ab63fa\", \"#FFA15A\", \"#19d3f3\", \"#FF6692\", \"#B6E880\", \"#FF97FF\", \"#FECB52\"], \"font\": {\"color\": \"#2a3f5f\"}, \"geo\": {\"bgcolor\": \"white\", \"lakecolor\": \"white\", \"landcolor\": \"#E5ECF6\", \"showlakes\": true, \"showland\": true, \"subunitcolor\": \"white\"}, \"hoverlabel\": {\"align\": \"left\"}, \"hovermode\": \"closest\", \"mapbox\": {\"style\": \"light\"}, \"paper_bgcolor\": \"white\", \"plot_bgcolor\": \"#E5ECF6\", \"polar\": {\"angularaxis\": {\"gridcolor\": \"white\", \"linecolor\": \"white\", \"ticks\": \"\"}, \"bgcolor\": \"#E5ECF6\", \"radialaxis\": {\"gridcolor\": \"white\", \"linecolor\": \"white\", \"ticks\": \"\"}}, \"scene\": {\"xaxis\": {\"backgroundcolor\": \"#E5ECF6\", \"gridcolor\": \"white\", \"gridwidth\": 2, \"linecolor\": \"white\", \"showbackground\": true, \"ticks\": \"\", \"zerolinecolor\": \"white\"}, \"yaxis\": {\"backgroundcolor\": \"#E5ECF6\", \"gridcolor\": \"white\", \"gridwidth\": 2, \"linecolor\": \"white\", \"showbackground\": true, \"ticks\": \"\", \"zerolinecolor\": \"white\"}, \"zaxis\": {\"backgroundcolor\": \"#E5ECF6\", \"gridcolor\": \"white\", \"gridwidth\": 2, \"linecolor\": \"white\", \"showbackground\": true, \"ticks\": \"\", \"zerolinecolor\": \"white\"}}, \"shapedefaults\": {\"line\": {\"color\": \"#2a3f5f\"}}, \"ternary\": {\"aaxis\": {\"gridcolor\": \"white\", \"linecolor\": \"white\", \"ticks\": \"\"}, \"baxis\": {\"gridcolor\": \"white\", \"linecolor\": \"white\", \"ticks\": \"\"}, \"bgcolor\": \"#E5ECF6\", \"caxis\": {\"gridcolor\": \"white\", \"linecolor\": \"white\", \"ticks\": \"\"}}, \"title\": {\"x\": 0.05}, \"xaxis\": {\"automargin\": true, \"gridcolor\": \"white\", \"linecolor\": \"white\", \"ticks\": \"\", \"title\": {\"standoff\": 15}, \"zerolinecolor\": \"white\", \"zerolinewidth\": 2}, \"yaxis\": {\"automargin\": true, \"gridcolor\": \"white\", \"linecolor\": \"white\", \"ticks\": \"\", \"title\": {\"standoff\": 15}, \"zerolinecolor\": \"white\", \"zerolinewidth\": 2}}}, \"title\": {\"text\": \"Source of retweets by state\"}},\n",
       "                        {\"responsive\": true}\n",
       "                    ).then(function(){\n",
       "                            \n",
       "var gd = document.getElementById('b87a20b1-2304-45c1-a2fb-a28d448c3b0a');\n",
       "var x = new MutationObserver(function (mutations, observer) {{\n",
       "        var display = window.getComputedStyle(gd).display;\n",
       "        if (!display || display === 'none') {{\n",
       "            console.log([gd, 'removed!']);\n",
       "            Plotly.purge(gd);\n",
       "            observer.disconnect();\n",
       "        }}\n",
       "}});\n",
       "\n",
       "// Listen for the removal of the full notebook cells\n",
       "var notebookContainer = gd.closest('#notebook-container');\n",
       "if (notebookContainer) {{\n",
       "    x.observe(notebookContainer, {childList: true});\n",
       "}}\n",
       "\n",
       "// Listen for the clearing of the current output cell\n",
       "var outputEl = gd.closest('.output');\n",
       "if (outputEl) {{\n",
       "    x.observe(outputEl, {childList: true});\n",
       "}}\n",
       "\n",
       "                        })\n",
       "                };\n",
       "                });\n",
       "            </script>\n",
       "        </div>"
      ]
     },
     "metadata": {},
     "output_type": "display_data"
    }
   ],
   "source": [
    "df = df_pl[df_pl['is_retweet']==True]\n",
    "df = df[df['country'] == 'US']\n",
    "mask = (df['state'].str.len() == 2)\n",
    "df = df.loc[mask]\n",
    "df = df.groupby(['state']).agg(['sum'])['total']\n",
    "df\n",
    "\n",
    "fig = go.Figure(data=go.Choropleth(\n",
    "    locations=df.index, # Spatial coordinates\n",
    "    z = df['sum'].astype(float), # Data to be color-coded\n",
    "    locationmode = 'USA-states', # set of locations match entries in `locations`\n",
    "    colorscale = 'Blues',\n",
    "    colorbar_title = \"Retweets\",\n",
    "))\n",
    "\n",
    "fig.update_layout(\n",
    "    title_text = 'Source of retweets by state',\n",
    "    geo_scope='usa', # limite map scope to USA\n",
    ")\n",
    "\n",
    "fig.show()"
   ]
  },
  {
   "cell_type": "markdown",
   "metadata": {},
   "source": [
    "It is interesting to see that there are, apparently, less retweets than tweets. This is due to the fact that the map only shows reported locations, and this might be hidden for retweets. Still the pattern follows, and the most common states are, after MO, California, Texas and New York - the most populated areas in the country."
   ]
  },
  {
   "cell_type": "markdown",
   "metadata": {},
   "source": [
    "### Sensitive content"
   ]
  },
  {
   "cell_type": "markdown",
   "metadata": {},
   "source": [
    "From our data set we could start inferring emotion by understanding content labeled as sensitive. Let's start with a small sample of sensitive Tweets."
   ]
  },
  {
   "cell_type": "code",
   "execution_count": 155,
   "metadata": {},
   "outputs": [],
   "source": [
    "%%bigquery df_sen1\n",
    "SELECT * \n",
    "    from tweets.all_valid_tweets\n",
    "    where is_retweet = False and possibly_sensitive = True\n",
    "    limit 10;"
   ]
  },
  {
   "cell_type": "code",
   "execution_count": 156,
   "metadata": {},
   "outputs": [
    {
     "data": {
      "text/plain": [
       "['What The Hell?? KKK Headed To Ferguson To Support Cop Who Killed Mike Brown “We Can’t Have Blacks Robbing And ... http://t.co/aPfmVJ56nr',\n",
       " \"Michael Brown shooting: Could a newly released audio provide more clues on what led up to Michael Brown's shoo... http://t.co/QjkPSRs7kM\",\n",
       " 'Vet to #Ferguson cops: \"If you\\'re going to shoot my ass, go ahead and shoot me!\" http://t.co/kBCxCzWwAy',\n",
       " 'Support http://t.co/44oDZSIAIx, whose gracious owner is said to have distributed protective gear in #Ferguson! (Great product too!) RT pls',\n",
       " 'Michael Brown Outrage, Or Lack Of, Reveals Who YOU Really Are http://t.co/pN1rEMEo2Z',\n",
       " \"I'll be rocking w/ @NicoWellsMusic during the Half-Time Show at Unity &amp; Peace B-Ball Game tonight!! 5:30PM! #Ferguson http://t.co/6EVyNXuXcq\",\n",
       " 'I signed. -- Sign the #MikeBrown law petition. http://t.co/8qdSFbWpz2 A law req all LE to wear cameras while on duty. #Ferguson -- RT!',\n",
       " 'At Eric Garner Rally, New York Labor Groups Support Both Police and Protestors http://t.co/rpWUNpFs3q',\n",
       " 'Watch my recent broadcast about \"#Ferguson, #Missouri protest\" on #Ustream, at http://t.co/Uc3QKqfQzk (10:39pm)',\n",
       " 'Watch.Like.Share                          #Ferguson #MichaelBrown #BlackInAmerica… http://t.co/JuKlBWdsRh']"
      ]
     },
     "execution_count": 156,
     "metadata": {},
     "output_type": "execute_result"
    }
   ],
   "source": [
    "list(df_sen1['full_text'])"
   ]
  },
  {
   "cell_type": "markdown",
   "metadata": {},
   "source": [
    "It is not evident that something on the text makes these tweets sensitive. Let's see what is labeled as not sensitive."
   ]
  },
  {
   "cell_type": "code",
   "execution_count": 157,
   "metadata": {},
   "outputs": [],
   "source": [
    "%%bigquery df_sen2\n",
    "SELECT * \n",
    "    from tweets.all_valid_tweets\n",
    "    where is_retweet = False and possibly_sensitive = False\n",
    "    limit 10;"
   ]
  },
  {
   "cell_type": "code",
   "execution_count": 158,
   "metadata": {},
   "outputs": [
    {
     "data": {
      "text/plain": [
       "['#Ferguson Police officer injured by Molotov cocktail (Picture) http://t.co/c88e5t8uft',\n",
       " '#OpFerguson: Anonymous Responds To Mike Brown’s Shooting Death By Police, Draws Line In the Sand | Liberaland http://t.co/n3eHH3QhgM :: YES.',\n",
       " 'Is the heavy police crackdown in #Ferguson inevitable with so many militarized police depts in US? http://t.co/n5Pz5MbSnj',\n",
       " '@TalibKweli @jack DISE - SURRENDER (FERGUSON POLICE DISS)\\nA MUST SEE!!! CLICK HERE\\nhttp://t.co/ouAM5V5dCv\\n#RIPMIKEBROWN #FERGUSON',\n",
       " 'Support grows for Darren Wilson, officer who shot Ferguson teen Michael Brown http://t.co/QDJhJZtlK8',\n",
       " 'There were 6 of us sitting on the grass. It took all these officers to tell us we had to \"keep moving\". #Ferguson http://t.co/BXzi6dlbWv',\n",
       " '6 to 8 times in the arm and head? All while facing forward? #HandsUp? #Ferguson has every right to be ENRAGED. http://t.co/bbVuYGiAmb',\n",
       " 'The Death of Michael Brown, The Birth of a Movement [PHOTOS] - Photos - EBONY http://t.co/dNuuNYWlm1 #Ferguson',\n",
       " 'White Power panics as #Ferguson movement grows. http://t.co/jJXo96pvVJ',\n",
       " 'NEW ‘game-changer’ video shows eyewitness saying Mike Brown went after policeman http://t.co/fUl2iC2iZ2 #Ferguson']"
      ]
     },
     "execution_count": 158,
     "metadata": {},
     "output_type": "execute_result"
    }
   ],
   "source": [
    "list(df_sen2['full_text'])"
   ]
  },
  {
   "cell_type": "markdown",
   "metadata": {},
   "source": [
    "Again, it doesn't seem evident what made a tweet be labeled as non sensitive, as there is link to a picture of an injured police officer. Let's see what tweets lack the flag."
   ]
  },
  {
   "cell_type": "code",
   "execution_count": 159,
   "metadata": {},
   "outputs": [],
   "source": [
    "%%bigquery df_sen3\n",
    "SELECT * \n",
    "    from tweets.all_valid_tweets\n",
    "    where is_retweet = False and possibly_sensitive is null\n",
    "    limit 10;"
   ]
  },
  {
   "cell_type": "code",
   "execution_count": 160,
   "metadata": {},
   "outputs": [
    {
     "data": {
      "text/plain": [
       "['Peace to the brother who saw his friend killed in front of him and sharing his story so eloquently your in my thoughts brother #Ferguson',\n",
       " \"@Mr_GQ_ It's like 2 months earlier. Where's the hat? Did the cops take it as a souvenir after killing #MichaelBrown\",\n",
       " \"Have the RWers found a way to blame #MikeBrown's horrific murder on Obama yet?\",\n",
       " 'I am shocked that the local media has not picked up what’s up at Chambers &amp; W. Florissant with fires, shots fired etc #Ferguson',\n",
       " \"If you're justifying that that cop had a right to shoot #MikeBrown whom was unarmed, you're just as bad as the cop. #MTVHottest Nicki Minaj\",\n",
       " '#ferguson @GovJayNixon presser he just basically said #Iquit',\n",
       " 'rest in peace mike brown',\n",
       " \"I can't believe POTUS sent reps to #MikeBrown's funeral but no one to #DarrenWilson's. #Ferguson\",\n",
       " '@ManaPuddingFox The killing of #MikeBrown and the Police\\'s shitty job of \"investigating\" the crim',\n",
       " 'Props to the young men calmly taking control of #Ferguson tonight.  #gives me hope. #PeaceInFerguson #peace']"
      ]
     },
     "execution_count": 160,
     "metadata": {},
     "output_type": "execute_result"
    }
   ],
   "source": [
    "list(df_sen3['full_text'])"
   ]
  },
  {
   "cell_type": "markdown",
   "metadata": {},
   "source": [
    "There is cursing and violence in these tweets. There might be a threshold on Tqitter's end, which isn't evident here. Let's build a chart and see if we can understand more."
   ]
  },
  {
   "cell_type": "code",
   "execution_count": 137,
   "metadata": {},
   "outputs": [],
   "source": [
    "%%bigquery df_sc\n",
    "SELECT possibly_sensitive, count(*) as total, is_retweet, day_of_tweet\n",
    "    from tweets.all_valid_tweets\n",
    "    group by possibly_sensitive, is_retweet, day_of_tweet\n",
    "    order by day_of_tweet;"
   ]
  },
  {
   "cell_type": "code",
   "execution_count": 138,
   "metadata": {},
   "outputs": [
    {
     "data": {
      "text/html": [
       "<div>\n",
       "<style scoped>\n",
       "    .dataframe tbody tr th:only-of-type {\n",
       "        vertical-align: middle;\n",
       "    }\n",
       "\n",
       "    .dataframe tbody tr th {\n",
       "        vertical-align: top;\n",
       "    }\n",
       "\n",
       "    .dataframe thead th {\n",
       "        text-align: right;\n",
       "    }\n",
       "</style>\n",
       "<table border=\"1\" class=\"dataframe\">\n",
       "  <thead>\n",
       "    <tr style=\"text-align: right;\">\n",
       "      <th></th>\n",
       "      <th>possibly_sensitive</th>\n",
       "      <th>total</th>\n",
       "      <th>is_retweet</th>\n",
       "      <th>day_of_tweet</th>\n",
       "    </tr>\n",
       "  </thead>\n",
       "  <tbody>\n",
       "    <tr>\n",
       "      <th>0</th>\n",
       "      <td>None</td>\n",
       "      <td>889</td>\n",
       "      <td>False</td>\n",
       "      <td>1</td>\n",
       "    </tr>\n",
       "    <tr>\n",
       "      <th>1</th>\n",
       "      <td>True</td>\n",
       "      <td>112</td>\n",
       "      <td>True</td>\n",
       "      <td>1</td>\n",
       "    </tr>\n",
       "    <tr>\n",
       "      <th>2</th>\n",
       "      <td>False</td>\n",
       "      <td>2921</td>\n",
       "      <td>False</td>\n",
       "      <td>1</td>\n",
       "    </tr>\n",
       "    <tr>\n",
       "      <th>3</th>\n",
       "      <td>None</td>\n",
       "      <td>2556</td>\n",
       "      <td>True</td>\n",
       "      <td>1</td>\n",
       "    </tr>\n",
       "    <tr>\n",
       "      <th>4</th>\n",
       "      <td>True</td>\n",
       "      <td>77</td>\n",
       "      <td>False</td>\n",
       "      <td>1</td>\n",
       "    </tr>\n",
       "    <tr>\n",
       "      <th>5</th>\n",
       "      <td>False</td>\n",
       "      <td>4842</td>\n",
       "      <td>True</td>\n",
       "      <td>1</td>\n",
       "    </tr>\n",
       "    <tr>\n",
       "      <th>6</th>\n",
       "      <td>None</td>\n",
       "      <td>541</td>\n",
       "      <td>False</td>\n",
       "      <td>2</td>\n",
       "    </tr>\n",
       "    <tr>\n",
       "      <th>7</th>\n",
       "      <td>False</td>\n",
       "      <td>3139</td>\n",
       "      <td>True</td>\n",
       "      <td>2</td>\n",
       "    </tr>\n",
       "    <tr>\n",
       "      <th>8</th>\n",
       "      <td>True</td>\n",
       "      <td>58</td>\n",
       "      <td>False</td>\n",
       "      <td>2</td>\n",
       "    </tr>\n",
       "    <tr>\n",
       "      <th>9</th>\n",
       "      <td>True</td>\n",
       "      <td>67</td>\n",
       "      <td>True</td>\n",
       "      <td>2</td>\n",
       "    </tr>\n",
       "    <tr>\n",
       "      <th>10</th>\n",
       "      <td>False</td>\n",
       "      <td>2368</td>\n",
       "      <td>False</td>\n",
       "      <td>2</td>\n",
       "    </tr>\n",
       "    <tr>\n",
       "      <th>11</th>\n",
       "      <td>None</td>\n",
       "      <td>916</td>\n",
       "      <td>True</td>\n",
       "      <td>2</td>\n",
       "    </tr>\n",
       "    <tr>\n",
       "      <th>12</th>\n",
       "      <td>False</td>\n",
       "      <td>990</td>\n",
       "      <td>True</td>\n",
       "      <td>3</td>\n",
       "    </tr>\n",
       "    <tr>\n",
       "      <th>13</th>\n",
       "      <td>True</td>\n",
       "      <td>22</td>\n",
       "      <td>True</td>\n",
       "      <td>3</td>\n",
       "    </tr>\n",
       "    <tr>\n",
       "      <th>14</th>\n",
       "      <td>True</td>\n",
       "      <td>49</td>\n",
       "      <td>False</td>\n",
       "      <td>3</td>\n",
       "    </tr>\n",
       "    <tr>\n",
       "      <th>15</th>\n",
       "      <td>None</td>\n",
       "      <td>1573</td>\n",
       "      <td>True</td>\n",
       "      <td>3</td>\n",
       "    </tr>\n",
       "    <tr>\n",
       "      <th>16</th>\n",
       "      <td>None</td>\n",
       "      <td>323</td>\n",
       "      <td>False</td>\n",
       "      <td>3</td>\n",
       "    </tr>\n",
       "    <tr>\n",
       "      <th>17</th>\n",
       "      <td>False</td>\n",
       "      <td>1790</td>\n",
       "      <td>False</td>\n",
       "      <td>3</td>\n",
       "    </tr>\n",
       "    <tr>\n",
       "      <th>18</th>\n",
       "      <td>False</td>\n",
       "      <td>994</td>\n",
       "      <td>True</td>\n",
       "      <td>4</td>\n",
       "    </tr>\n",
       "    <tr>\n",
       "      <th>19</th>\n",
       "      <td>False</td>\n",
       "      <td>1634</td>\n",
       "      <td>False</td>\n",
       "      <td>4</td>\n",
       "    </tr>\n",
       "    <tr>\n",
       "      <th>20</th>\n",
       "      <td>None</td>\n",
       "      <td>287</td>\n",
       "      <td>False</td>\n",
       "      <td>4</td>\n",
       "    </tr>\n",
       "    <tr>\n",
       "      <th>21</th>\n",
       "      <td>True</td>\n",
       "      <td>37</td>\n",
       "      <td>True</td>\n",
       "      <td>4</td>\n",
       "    </tr>\n",
       "    <tr>\n",
       "      <th>22</th>\n",
       "      <td>None</td>\n",
       "      <td>716</td>\n",
       "      <td>True</td>\n",
       "      <td>4</td>\n",
       "    </tr>\n",
       "    <tr>\n",
       "      <th>23</th>\n",
       "      <td>True</td>\n",
       "      <td>26</td>\n",
       "      <td>False</td>\n",
       "      <td>4</td>\n",
       "    </tr>\n",
       "    <tr>\n",
       "      <th>24</th>\n",
       "      <td>True</td>\n",
       "      <td>51</td>\n",
       "      <td>False</td>\n",
       "      <td>5</td>\n",
       "    </tr>\n",
       "    <tr>\n",
       "      <th>25</th>\n",
       "      <td>None</td>\n",
       "      <td>470</td>\n",
       "      <td>True</td>\n",
       "      <td>5</td>\n",
       "    </tr>\n",
       "    <tr>\n",
       "      <th>26</th>\n",
       "      <td>False</td>\n",
       "      <td>843</td>\n",
       "      <td>True</td>\n",
       "      <td>5</td>\n",
       "    </tr>\n",
       "    <tr>\n",
       "      <th>27</th>\n",
       "      <td>None</td>\n",
       "      <td>366</td>\n",
       "      <td>False</td>\n",
       "      <td>5</td>\n",
       "    </tr>\n",
       "    <tr>\n",
       "      <th>28</th>\n",
       "      <td>True</td>\n",
       "      <td>33</td>\n",
       "      <td>True</td>\n",
       "      <td>5</td>\n",
       "    </tr>\n",
       "    <tr>\n",
       "      <th>29</th>\n",
       "      <td>False</td>\n",
       "      <td>1275</td>\n",
       "      <td>False</td>\n",
       "      <td>5</td>\n",
       "    </tr>\n",
       "    <tr>\n",
       "      <th>...</th>\n",
       "      <td>...</td>\n",
       "      <td>...</td>\n",
       "      <td>...</td>\n",
       "      <td>...</td>\n",
       "    </tr>\n",
       "    <tr>\n",
       "      <th>156</th>\n",
       "      <td>None</td>\n",
       "      <td>7437</td>\n",
       "      <td>False</td>\n",
       "      <td>27</td>\n",
       "    </tr>\n",
       "    <tr>\n",
       "      <th>157</th>\n",
       "      <td>None</td>\n",
       "      <td>16534</td>\n",
       "      <td>True</td>\n",
       "      <td>27</td>\n",
       "    </tr>\n",
       "    <tr>\n",
       "      <th>158</th>\n",
       "      <td>False</td>\n",
       "      <td>22880</td>\n",
       "      <td>True</td>\n",
       "      <td>27</td>\n",
       "    </tr>\n",
       "    <tr>\n",
       "      <th>159</th>\n",
       "      <td>True</td>\n",
       "      <td>621</td>\n",
       "      <td>True</td>\n",
       "      <td>27</td>\n",
       "    </tr>\n",
       "    <tr>\n",
       "      <th>160</th>\n",
       "      <td>False</td>\n",
       "      <td>20662</td>\n",
       "      <td>False</td>\n",
       "      <td>27</td>\n",
       "    </tr>\n",
       "    <tr>\n",
       "      <th>161</th>\n",
       "      <td>True</td>\n",
       "      <td>460</td>\n",
       "      <td>False</td>\n",
       "      <td>27</td>\n",
       "    </tr>\n",
       "    <tr>\n",
       "      <th>162</th>\n",
       "      <td>False</td>\n",
       "      <td>17737</td>\n",
       "      <td>False</td>\n",
       "      <td>28</td>\n",
       "    </tr>\n",
       "    <tr>\n",
       "      <th>163</th>\n",
       "      <td>None</td>\n",
       "      <td>6727</td>\n",
       "      <td>False</td>\n",
       "      <td>28</td>\n",
       "    </tr>\n",
       "    <tr>\n",
       "      <th>164</th>\n",
       "      <td>False</td>\n",
       "      <td>21817</td>\n",
       "      <td>True</td>\n",
       "      <td>28</td>\n",
       "    </tr>\n",
       "    <tr>\n",
       "      <th>165</th>\n",
       "      <td>None</td>\n",
       "      <td>19060</td>\n",
       "      <td>True</td>\n",
       "      <td>28</td>\n",
       "    </tr>\n",
       "    <tr>\n",
       "      <th>166</th>\n",
       "      <td>True</td>\n",
       "      <td>600</td>\n",
       "      <td>True</td>\n",
       "      <td>28</td>\n",
       "    </tr>\n",
       "    <tr>\n",
       "      <th>167</th>\n",
       "      <td>True</td>\n",
       "      <td>370</td>\n",
       "      <td>False</td>\n",
       "      <td>28</td>\n",
       "    </tr>\n",
       "    <tr>\n",
       "      <th>168</th>\n",
       "      <td>False</td>\n",
       "      <td>13676</td>\n",
       "      <td>True</td>\n",
       "      <td>29</td>\n",
       "    </tr>\n",
       "    <tr>\n",
       "      <th>169</th>\n",
       "      <td>False</td>\n",
       "      <td>12240</td>\n",
       "      <td>False</td>\n",
       "      <td>29</td>\n",
       "    </tr>\n",
       "    <tr>\n",
       "      <th>170</th>\n",
       "      <td>None</td>\n",
       "      <td>12143</td>\n",
       "      <td>True</td>\n",
       "      <td>29</td>\n",
       "    </tr>\n",
       "    <tr>\n",
       "      <th>171</th>\n",
       "      <td>True</td>\n",
       "      <td>260</td>\n",
       "      <td>False</td>\n",
       "      <td>29</td>\n",
       "    </tr>\n",
       "    <tr>\n",
       "      <th>172</th>\n",
       "      <td>True</td>\n",
       "      <td>417</td>\n",
       "      <td>True</td>\n",
       "      <td>29</td>\n",
       "    </tr>\n",
       "    <tr>\n",
       "      <th>173</th>\n",
       "      <td>None</td>\n",
       "      <td>4464</td>\n",
       "      <td>False</td>\n",
       "      <td>29</td>\n",
       "    </tr>\n",
       "    <tr>\n",
       "      <th>174</th>\n",
       "      <td>False</td>\n",
       "      <td>12941</td>\n",
       "      <td>False</td>\n",
       "      <td>30</td>\n",
       "    </tr>\n",
       "    <tr>\n",
       "      <th>175</th>\n",
       "      <td>None</td>\n",
       "      <td>5468</td>\n",
       "      <td>False</td>\n",
       "      <td>30</td>\n",
       "    </tr>\n",
       "    <tr>\n",
       "      <th>176</th>\n",
       "      <td>True</td>\n",
       "      <td>277</td>\n",
       "      <td>False</td>\n",
       "      <td>30</td>\n",
       "    </tr>\n",
       "    <tr>\n",
       "      <th>177</th>\n",
       "      <td>False</td>\n",
       "      <td>32087</td>\n",
       "      <td>True</td>\n",
       "      <td>30</td>\n",
       "    </tr>\n",
       "    <tr>\n",
       "      <th>178</th>\n",
       "      <td>None</td>\n",
       "      <td>24471</td>\n",
       "      <td>True</td>\n",
       "      <td>30</td>\n",
       "    </tr>\n",
       "    <tr>\n",
       "      <th>179</th>\n",
       "      <td>True</td>\n",
       "      <td>816</td>\n",
       "      <td>True</td>\n",
       "      <td>30</td>\n",
       "    </tr>\n",
       "    <tr>\n",
       "      <th>180</th>\n",
       "      <td>None</td>\n",
       "      <td>3158</td>\n",
       "      <td>False</td>\n",
       "      <td>31</td>\n",
       "    </tr>\n",
       "    <tr>\n",
       "      <th>181</th>\n",
       "      <td>False</td>\n",
       "      <td>11608</td>\n",
       "      <td>True</td>\n",
       "      <td>31</td>\n",
       "    </tr>\n",
       "    <tr>\n",
       "      <th>182</th>\n",
       "      <td>True</td>\n",
       "      <td>184</td>\n",
       "      <td>False</td>\n",
       "      <td>31</td>\n",
       "    </tr>\n",
       "    <tr>\n",
       "      <th>183</th>\n",
       "      <td>None</td>\n",
       "      <td>9139</td>\n",
       "      <td>True</td>\n",
       "      <td>31</td>\n",
       "    </tr>\n",
       "    <tr>\n",
       "      <th>184</th>\n",
       "      <td>False</td>\n",
       "      <td>7723</td>\n",
       "      <td>False</td>\n",
       "      <td>31</td>\n",
       "    </tr>\n",
       "    <tr>\n",
       "      <th>185</th>\n",
       "      <td>True</td>\n",
       "      <td>320</td>\n",
       "      <td>True</td>\n",
       "      <td>31</td>\n",
       "    </tr>\n",
       "  </tbody>\n",
       "</table>\n",
       "<p>186 rows × 4 columns</p>\n",
       "</div>"
      ],
      "text/plain": [
       "    possibly_sensitive  total  is_retweet  day_of_tweet\n",
       "0                 None    889       False             1\n",
       "1                 True    112        True             1\n",
       "2                False   2921       False             1\n",
       "3                 None   2556        True             1\n",
       "4                 True     77       False             1\n",
       "5                False   4842        True             1\n",
       "6                 None    541       False             2\n",
       "7                False   3139        True             2\n",
       "8                 True     58       False             2\n",
       "9                 True     67        True             2\n",
       "10               False   2368       False             2\n",
       "11                None    916        True             2\n",
       "12               False    990        True             3\n",
       "13                True     22        True             3\n",
       "14                True     49       False             3\n",
       "15                None   1573        True             3\n",
       "16                None    323       False             3\n",
       "17               False   1790       False             3\n",
       "18               False    994        True             4\n",
       "19               False   1634       False             4\n",
       "20                None    287       False             4\n",
       "21                True     37        True             4\n",
       "22                None    716        True             4\n",
       "23                True     26       False             4\n",
       "24                True     51       False             5\n",
       "25                None    470        True             5\n",
       "26               False    843        True             5\n",
       "27                None    366       False             5\n",
       "28                True     33        True             5\n",
       "29               False   1275       False             5\n",
       "..                 ...    ...         ...           ...\n",
       "156               None   7437       False            27\n",
       "157               None  16534        True            27\n",
       "158              False  22880        True            27\n",
       "159               True    621        True            27\n",
       "160              False  20662       False            27\n",
       "161               True    460       False            27\n",
       "162              False  17737       False            28\n",
       "163               None   6727       False            28\n",
       "164              False  21817        True            28\n",
       "165               None  19060        True            28\n",
       "166               True    600        True            28\n",
       "167               True    370       False            28\n",
       "168              False  13676        True            29\n",
       "169              False  12240       False            29\n",
       "170               None  12143        True            29\n",
       "171               True    260       False            29\n",
       "172               True    417        True            29\n",
       "173               None   4464       False            29\n",
       "174              False  12941       False            30\n",
       "175               None   5468       False            30\n",
       "176               True    277       False            30\n",
       "177              False  32087        True            30\n",
       "178               None  24471        True            30\n",
       "179               True    816        True            30\n",
       "180               None   3158       False            31\n",
       "181              False  11608        True            31\n",
       "182               True    184       False            31\n",
       "183               None   9139        True            31\n",
       "184              False   7723       False            31\n",
       "185               True    320        True            31\n",
       "\n",
       "[186 rows x 4 columns]"
      ]
     },
     "execution_count": 138,
     "metadata": {},
     "output_type": "execute_result"
    }
   ],
   "source": [
    "df_sc"
   ]
  },
  {
   "cell_type": "code",
   "execution_count": 180,
   "metadata": {},
   "outputs": [
    {
     "data": {
      "text/plain": [
       "([<matplotlib.axis.XTick at 0x12482d4e0>,\n",
       "  <matplotlib.axis.XTick at 0x119143470>,\n",
       "  <matplotlib.axis.XTick at 0x127898898>,\n",
       "  <matplotlib.axis.XTick at 0x127898588>,\n",
       "  <matplotlib.axis.XTick at 0x127898da0>,\n",
       "  <matplotlib.axis.XTick at 0x1277c12e8>,\n",
       "  <matplotlib.axis.XTick at 0x1277c1860>,\n",
       "  <matplotlib.axis.XTick at 0x119143860>,\n",
       "  <matplotlib.axis.XTick at 0x1223a8940>,\n",
       "  <matplotlib.axis.XTick at 0x1223a8dd8>,\n",
       "  <matplotlib.axis.XTick at 0x1223a8208>,\n",
       "  <matplotlib.axis.XTick at 0x1223a8630>,\n",
       "  <matplotlib.axis.XTick at 0x1223a8320>,\n",
       "  <matplotlib.axis.XTick at 0x1223af6a0>,\n",
       "  <matplotlib.axis.XTick at 0x1223afc18>,\n",
       "  <matplotlib.axis.XTick at 0x122995208>,\n",
       "  <matplotlib.axis.XTick at 0x122995748>,\n",
       "  <matplotlib.axis.XTick at 0x122995cc0>,\n",
       "  <matplotlib.axis.XTick at 0x12299ea90>,\n",
       "  <matplotlib.axis.XTick at 0x12299e6a0>,\n",
       "  <matplotlib.axis.XTick at 0x1229956d8>,\n",
       "  <matplotlib.axis.XTick at 0x1223a8400>,\n",
       "  <matplotlib.axis.XTick at 0x12299e8d0>],\n",
       " <a list of 23 Text xticklabel objects>)"
      ]
     },
     "execution_count": 180,
     "metadata": {},
     "output_type": "execute_result"
    },
    {
     "data": {
      "image/png": "[encoded data removed]",
      "text/plain": [
       "<Figure size 1080x432 with 1 Axes>"
      ]
     },
     "metadata": {},
     "output_type": "display_data"
    }
   ],
   "source": [
    "df_s1 = df_sc[df_sc['possibly_sensitive'] == True]\n",
    "df_s1 = df_s1[df_s1['day_of_tweet'] > 8]\n",
    "df_s1t = df_s1[df_s1['is_retweet'] == False]\n",
    "df_s1r = df_s1[df_s1['is_retweet'] == True]\n",
    "df_s2 = df_sc[df_sc['possibly_sensitive'] == False]\n",
    "df_s2 = df_s2[df_s2['day_of_tweet'] > 8]\n",
    "df_s2t = df_s2[df_s2['is_retweet'] == False]\n",
    "df_s2r = df_s2[df_s2['is_retweet'] == True]\n",
    "df_s3 = df_sc[(df_sc['possibly_sensitive'] != False) & (df_sc['possibly_sensitive'] != True)]\n",
    "df_s3 = df_s3[df_s3['day_of_tweet'] > 8]\n",
    "df_s3t = df_s3[df_s3['is_retweet'] == False]\n",
    "df_s3r = df_s3[df_s3['is_retweet'] == True]\n",
    "ax = df_s1t.plot(x='day_of_tweet',\n",
    "             y='total',\n",
    "             kind='line',\n",
    "             figsize=(15,6),\n",
    "             label='Sensitive Tweets per Day')\n",
    "df_s1r.plot(x='day_of_tweet',\n",
    "             y='total',\n",
    "             kind='line',\n",
    "             label='Sensitive Reweets per Day',\n",
    "             ax=ax)\n",
    "df_s2t.plot(x='day_of_tweet',\n",
    "             y='total',\n",
    "             kind='line',\n",
    "             label='Non-Sensitive Tweets per Day',\n",
    "             ax=ax)\n",
    "df_s2r.plot(x='day_of_tweet',\n",
    "             y='total',\n",
    "             kind='line',\n",
    "             label='Non-Sensitive Reweets per Day',\n",
    "             ax=ax)\n",
    "df_s3t.plot(x='day_of_tweet',\n",
    "             y='total',\n",
    "             kind='line',\n",
    "             label='Unlabeled Tweets per Day',\n",
    "             ax=ax)\n",
    "df_s3r.plot(x='day_of_tweet',\n",
    "             y='total',\n",
    "             kind='line',\n",
    "             label='Unlabeled Reweets per Day',\n",
    "             ax=ax)\n",
    "plt.xlabel('Day of August 2014')\n",
    "\n",
    "xticks = np.arange(9,32,1)\n",
    "plt.xticks(xticks)"
   ]
  },
  {
   "cell_type": "markdown",
   "metadata": {},
   "source": [
    "The behaviour of these categories follows the general trends. Since the scale of retweets seems to shadow the behavior of sensitive tweets, let's plot that separately."
   ]
  },
  {
   "cell_type": "code",
   "execution_count": 186,
   "metadata": {},
   "outputs": [
    {
     "data": {
      "text/plain": [
       "([<matplotlib.axis.XTick at 0x122a6bd68>,\n",
       "  <matplotlib.axis.XTick at 0x122a6b2e8>,\n",
       "  <matplotlib.axis.XTick at 0x1245078d0>,\n",
       "  <matplotlib.axis.XTick at 0x124507ac8>,\n",
       "  <matplotlib.axis.XTick at 0x124507da0>,\n",
       "  <matplotlib.axis.XTick at 0x1244ea748>,\n",
       "  <matplotlib.axis.XTick at 0x1244eac88>,\n",
       "  <matplotlib.axis.XTick at 0x122a6b588>,\n",
       "  <matplotlib.axis.XTick at 0x124504c18>,\n",
       "  <matplotlib.axis.XTick at 0x124504e10>,\n",
       "  <matplotlib.axis.XTick at 0x1244ef390>,\n",
       "  <matplotlib.axis.XTick at 0x1244ef908>,\n",
       "  <matplotlib.axis.XTick at 0x1244efe80>,\n",
       "  <matplotlib.axis.XTick at 0x124515438>,\n",
       "  <matplotlib.axis.XTick at 0x1245159b0>,\n",
       "  <matplotlib.axis.XTick at 0x124515f28>,\n",
       "  <matplotlib.axis.XTick at 0x1245157b8>,\n",
       "  <matplotlib.axis.XTick at 0x1244ef710>,\n",
       "  <matplotlib.axis.XTick at 0x1244ea320>,\n",
       "  <matplotlib.axis.XTick at 0x124e3e828>,\n",
       "  <matplotlib.axis.XTick at 0x124e3eda0>,\n",
       "  <matplotlib.axis.XTick at 0x124e47358>,\n",
       "  <matplotlib.axis.XTick at 0x124e478d0>],\n",
       " <a list of 23 Text xticklabel objects>)"
      ]
     },
     "execution_count": 186,
     "metadata": {},
     "output_type": "execute_result"
    },
    {
     "data": {
      "image/png": "[encoded data removed]",
      "text/plain": [
       "<Figure size 1080x432 with 1 Axes>"
      ]
     },
     "metadata": {},
     "output_type": "display_data"
    }
   ],
   "source": [
    "ax = df_s1t.plot(x='day_of_tweet',\n",
    "             y='total',\n",
    "             kind='line',\n",
    "             figsize=(15,6),\n",
    "             label='Sensitive Tweets per Day')\n",
    "df_s1r.plot(x='day_of_tweet',\n",
    "             y='total',\n",
    "             kind='line',\n",
    "             label='Sensitive Reweets per Day',\n",
    "             ax=ax)\n",
    "plt.xlabel('Day of August 2014')\n",
    "\n",
    "xticks = np.arange(9,32,1)\n",
    "plt.xticks(xticks)"
   ]
  },
  {
   "cell_type": "markdown",
   "metadata": {},
   "source": [
    "Although the behaviour of retweets follows the general trend, the behaviour of original tweets doesn't. It appears much flatter, especially during the week of August 14th to the 21st. We'll use more advanced sentiment analysis techniques to figure out what made this period special."
   ]
  },
  {
   "cell_type": "markdown",
   "metadata": {},
   "source": [
    "### Hashtags"
   ]
  },
  {
   "cell_type": "markdown",
   "metadata": {},
   "source": [
    "Since our project is going to gravitate around topic modeling, a good idea would be to understand the hashtags on the sample of tweets, as this will give us an idea of the topics that users believe will make their messages matter.\n",
    "\n",
    "We started this by pulling hashtags of tweets that weren't retweets."
   ]
  },
  {
   "cell_type": "code",
   "execution_count": 164,
   "metadata": {},
   "outputs": [],
   "source": [
    "%%bigquery df_has\n",
    "SELECT id, hashtags\n",
    "    from tweets.all_valid_tweets\n",
    "    where is_retweet = False;"
   ]
  },
  {
   "cell_type": "code",
   "execution_count": 165,
   "metadata": {},
   "outputs": [],
   "source": [
    "#Now, let's make a list of individual hashtags, as a tweet might contain none\n",
    "# or more than one.\n",
    "themes = []\n",
    "for i in range(0,len(df_has)):\n",
    "    for k in range(0,len(df_has['hashtags'].iloc[i].replace('[','').replace(']','').replace('\"','').split(','))):\n",
    "        l = df_has['hashtags'].iloc[i].replace('[','').replace(']','').replace('\"','').split(',')[k].strip().lower()\n",
    "        themes.append(l)"
   ]
  },
  {
   "cell_type": "code",
   "execution_count": 170,
   "metadata": {},
   "outputs": [],
   "source": [
    "themes = pd.DataFrame(themes)\n",
    "themes['hashtags'] = themes\n",
    "df_agg = themes.groupby(['hashtags']).agg(['count'])\n",
    "df_themes = df_agg[0].sort_values(by='count', ascending=False)"
   ]
  },
  {
   "cell_type": "code",
   "execution_count": 228,
   "metadata": {},
   "outputs": [
    {
     "data": {
      "text/plain": [
       "3013621"
      ]
     },
     "execution_count": 228,
     "metadata": {},
     "output_type": "execute_result"
    }
   ],
   "source": [
    "len(themes)"
   ]
  },
  {
   "cell_type": "markdown",
   "metadata": {},
   "source": [
    "There are several hashtags. Let us see in a bar plot what are the 15 most mentioned. "
   ]
  },
  {
   "cell_type": "code",
   "execution_count": 214,
   "metadata": {},
   "outputs": [],
   "source": [
    "df2_themes = df_themes[:14].copy()\n",
    "\n",
    "new_row = pd.DataFrame(data = {\n",
    "    'count' : [df_themes['count'][14:].sum()]\n",
    "})\n",
    "\n",
    "new_row.rename(index={0: 'other'}, inplace=True)\n",
    "\n",
    "df2_themes = pd.concat([df2_themes, new_row])"
   ]
  },
  {
   "cell_type": "code",
   "execution_count": 227,
   "metadata": {},
   "outputs": [
    {
     "data": {
      "image/png": "[encoded data removed]",
      "text/plain": [
       "<Figure size 432x288 with 1 Axes>"
      ]
     },
     "metadata": {
      "needs_background": "light"
     },
     "output_type": "display_data"
    }
   ],
   "source": [
    "topics = list(df2_themes.index)\n",
    "y_pos = np.arange(len(df2_themes))\n",
    "count = list(df2_themes['count'])\n",
    "\n",
    "plt.barh(y_pos, count, align='center', alpha=0.5)\n",
    "plt.yticks(y_pos, topics)\n",
    "plt.xlabel('Tweets')\n",
    "plt.title('Most popular hashtags on Twitter')\n",
    "plt.gca().invert_yaxis()\n",
    "\n",
    "plt.show()"
   ]
  },
  {
   "cell_type": "markdown",
   "metadata": {},
   "source": [
    "The most common hashtags were related to geography (Ferguson and St Louis), as well as to Michael Brown, the individual shot on August 9th. There are also several hashtags related to protests, justice and media. A large number of Tweets didn't mention any hashtags."
   ]
  },
  {
   "cell_type": "code",
   "execution_count": 229,
   "metadata": {},
   "outputs": [
    {
     "data": {
      "text/html": [
       "<div>\n",
       "<style scoped>\n",
       "    .dataframe tbody tr th:only-of-type {\n",
       "        vertical-align: middle;\n",
       "    }\n",
       "\n",
       "    .dataframe tbody tr th {\n",
       "        vertical-align: top;\n",
       "    }\n",
       "\n",
       "    .dataframe thead th {\n",
       "        text-align: right;\n",
       "    }\n",
       "</style>\n",
       "<table border=\"1\" class=\"dataframe\">\n",
       "  <thead>\n",
       "    <tr style=\"text-align: right;\">\n",
       "      <th></th>\n",
       "      <th>count</th>\n",
       "    </tr>\n",
       "    <tr>\n",
       "      <th>hashtags</th>\n",
       "      <th></th>\n",
       "    </tr>\n",
       "  </thead>\n",
       "  <tbody>\n",
       "    <tr>\n",
       "      <th>ferguson</th>\n",
       "      <td>1293741</td>\n",
       "    </tr>\n",
       "    <tr>\n",
       "      <th></th>\n",
       "      <td>422648</td>\n",
       "    </tr>\n",
       "    <tr>\n",
       "      <th>mikebrown</th>\n",
       "      <td>219444</td>\n",
       "    </tr>\n",
       "    <tr>\n",
       "      <th>michaelbrown</th>\n",
       "      <td>92359</td>\n",
       "    </tr>\n",
       "    <tr>\n",
       "      <th>justiceformikebrown</th>\n",
       "      <td>22570</td>\n",
       "    </tr>\n",
       "    <tr>\n",
       "      <th>tcot</th>\n",
       "      <td>15955</td>\n",
       "    </tr>\n",
       "    <tr>\n",
       "      <th>ericgarner</th>\n",
       "      <td>15270</td>\n",
       "    </tr>\n",
       "    <tr>\n",
       "      <th>darrenwilson</th>\n",
       "      <td>15096</td>\n",
       "    </tr>\n",
       "    <tr>\n",
       "      <th>fergusonshooting</th>\n",
       "      <td>13602</td>\n",
       "    </tr>\n",
       "    <tr>\n",
       "      <th>ripmikebrown</th>\n",
       "      <td>13370</td>\n",
       "    </tr>\n",
       "    <tr>\n",
       "      <th>handsupdontshoot</th>\n",
       "      <td>12293</td>\n",
       "    </tr>\n",
       "    <tr>\n",
       "      <th>stl</th>\n",
       "      <td>10044</td>\n",
       "    </tr>\n",
       "    <tr>\n",
       "      <th>gaza</th>\n",
       "      <td>9925</td>\n",
       "    </tr>\n",
       "    <tr>\n",
       "      <th>cnn</th>\n",
       "      <td>9502</td>\n",
       "    </tr>\n",
       "    <tr>\n",
       "      <th>blacklivesmatter</th>\n",
       "      <td>9399</td>\n",
       "    </tr>\n",
       "    <tr>\n",
       "      <th>police</th>\n",
       "      <td>8676</td>\n",
       "    </tr>\n",
       "    <tr>\n",
       "      <th>news</th>\n",
       "      <td>8344</td>\n",
       "    </tr>\n",
       "    <tr>\n",
       "      <th>dontshoot</th>\n",
       "      <td>8128</td>\n",
       "    </tr>\n",
       "    <tr>\n",
       "      <th>p2</th>\n",
       "      <td>7596</td>\n",
       "    </tr>\n",
       "    <tr>\n",
       "      <th>justice</th>\n",
       "      <td>6960</td>\n",
       "    </tr>\n",
       "    <tr>\n",
       "      <th>nmos14</th>\n",
       "      <td>6678</td>\n",
       "    </tr>\n",
       "    <tr>\n",
       "      <th>missouri</th>\n",
       "      <td>6349</td>\n",
       "    </tr>\n",
       "    <tr>\n",
       "      <th>policestate</th>\n",
       "      <td>6111</td>\n",
       "    </tr>\n",
       "    <tr>\n",
       "      <th>opferguson</th>\n",
       "      <td>5652</td>\n",
       "    </tr>\n",
       "    <tr>\n",
       "      <th>handsup</th>\n",
       "      <td>5641</td>\n",
       "    </tr>\n",
       "    <tr>\n",
       "      <th>policebrutality</th>\n",
       "      <td>5633</td>\n",
       "    </tr>\n",
       "    <tr>\n",
       "      <th>racism</th>\n",
       "      <td>5606</td>\n",
       "    </tr>\n",
       "    <tr>\n",
       "      <th>uniteblue</th>\n",
       "      <td>5510</td>\n",
       "    </tr>\n",
       "    <tr>\n",
       "      <th>ezellford</th>\n",
       "      <td>5332</td>\n",
       "    </tr>\n",
       "    <tr>\n",
       "      <th>trayvonmartin</th>\n",
       "      <td>5231</td>\n",
       "    </tr>\n",
       "    <tr>\n",
       "      <th>obama</th>\n",
       "      <td>5054</td>\n",
       "    </tr>\n",
       "    <tr>\n",
       "      <th>stlouis</th>\n",
       "      <td>5011</td>\n",
       "    </tr>\n",
       "    <tr>\n",
       "      <th>anonymous</th>\n",
       "      <td>4845</td>\n",
       "    </tr>\n",
       "    <tr>\n",
       "      <th>usa</th>\n",
       "      <td>4834</td>\n",
       "    </tr>\n",
       "    <tr>\n",
       "      <th>nojusticenopeace</th>\n",
       "      <td>4481</td>\n",
       "    </tr>\n",
       "    <tr>\n",
       "      <th>fergusonriot</th>\n",
       "      <td>4181</td>\n",
       "    </tr>\n",
       "    <tr>\n",
       "      <th>isis</th>\n",
       "      <td>3976</td>\n",
       "    </tr>\n",
       "    <tr>\n",
       "      <th>iraq</th>\n",
       "      <td>3974</td>\n",
       "    </tr>\n",
       "    <tr>\n",
       "      <th>msnbc</th>\n",
       "      <td>3861</td>\n",
       "    </tr>\n",
       "    <tr>\n",
       "      <th>mediablackout</th>\n",
       "      <td>3798</td>\n",
       "    </tr>\n",
       "    <tr>\n",
       "      <th>kajiemepowell</th>\n",
       "      <td>3532</td>\n",
       "    </tr>\n",
       "    <tr>\n",
       "      <th>inners</th>\n",
       "      <td>3232</td>\n",
       "    </tr>\n",
       "    <tr>\n",
       "      <th>peace</th>\n",
       "      <td>3111</td>\n",
       "    </tr>\n",
       "    <tr>\n",
       "      <th>alsharpton</th>\n",
       "      <td>3070</td>\n",
       "    </tr>\n",
       "    <tr>\n",
       "      <th>johncrawford</th>\n",
       "      <td>3067</td>\n",
       "    </tr>\n",
       "    <tr>\n",
       "      <th>iftheygunnedmedown</th>\n",
       "      <td>2994</td>\n",
       "    </tr>\n",
       "    <tr>\n",
       "      <th>blackyouthmatter</th>\n",
       "      <td>2883</td>\n",
       "    </tr>\n",
       "    <tr>\n",
       "      <th>nyc</th>\n",
       "      <td>2861</td>\n",
       "    </tr>\n",
       "    <tr>\n",
       "      <th>rip</th>\n",
       "      <td>2817</td>\n",
       "    </tr>\n",
       "    <tr>\n",
       "      <th>america</th>\n",
       "      <td>2816</td>\n",
       "    </tr>\n",
       "  </tbody>\n",
       "</table>\n",
       "</div>"
      ],
      "text/plain": [
       "                       count\n",
       "hashtags                    \n",
       "ferguson             1293741\n",
       "                      422648\n",
       "mikebrown             219444\n",
       "michaelbrown           92359\n",
       "justiceformikebrown    22570\n",
       "tcot                   15955\n",
       "ericgarner             15270\n",
       "darrenwilson           15096\n",
       "fergusonshooting       13602\n",
       "ripmikebrown           13370\n",
       "handsupdontshoot       12293\n",
       "stl                    10044\n",
       "gaza                    9925\n",
       "cnn                     9502\n",
       "blacklivesmatter        9399\n",
       "police                  8676\n",
       "news                    8344\n",
       "dontshoot               8128\n",
       "p2                      7596\n",
       "justice                 6960\n",
       "nmos14                  6678\n",
       "missouri                6349\n",
       "policestate             6111\n",
       "opferguson              5652\n",
       "handsup                 5641\n",
       "policebrutality         5633\n",
       "racism                  5606\n",
       "uniteblue               5510\n",
       "ezellford               5332\n",
       "trayvonmartin           5231\n",
       "obama                   5054\n",
       "stlouis                 5011\n",
       "anonymous               4845\n",
       "usa                     4834\n",
       "nojusticenopeace        4481\n",
       "fergusonriot            4181\n",
       "isis                    3976\n",
       "iraq                    3974\n",
       "msnbc                   3861\n",
       "mediablackout           3798\n",
       "kajiemepowell           3532\n",
       "inners                  3232\n",
       "peace                   3111\n",
       "alsharpton              3070\n",
       "johncrawford            3067\n",
       "iftheygunnedmedown      2994\n",
       "blackyouthmatter        2883\n",
       "nyc                     2861\n",
       "rip                     2817\n",
       "america                 2816"
      ]
     },
     "execution_count": 229,
     "metadata": {},
     "output_type": "execute_result"
    }
   ],
   "source": [
    "#Let's examine the 50 most relevant topics.\n",
    "df_themes[:50]"
   ]
  },
  {
   "cell_type": "markdown",
   "metadata": {},
   "source": [
    "It shows more detail, giving an insight into topics like racism, riots, and mentions of social organizations and movements like nmos14 and blacklivesmatter."
   ]
  }
 ],
 "metadata": {
  "kernelspec": {
   "display_name": "coms007",
   "language": "python",
   "name": "coms007"
  },
  "language_info": {
   "codemirror_mode": {
    "name": "ipython",
    "version": 3
   },
   "file_extension": ".py",
   "mimetype": "text/x-python",
   "name": "python",
   "nbconvert_exporter": "python",
   "pygments_lexer": "ipython3",
   "version": "3.6.9"
  }
 },
 "nbformat": 4,
 "nbformat_minor": 2
}
